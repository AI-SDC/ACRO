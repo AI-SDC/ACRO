{
 "cells": [
  {
   "cell_type": "markdown",
   "id": "00cac1f9",
   "metadata": {},
   "source": [
    "# ACRO Tests"
   ]
  },
  {
   "cell_type": "code",
   "execution_count": 1,
   "id": "e33fd4fb",
   "metadata": {},
   "outputs": [],
   "source": [
    "import os\n",
    "import sys\n",
    "import pandas as pd\n",
    "import numpy as np"
   ]
  },
  {
   "cell_type": "code",
   "execution_count": 2,
   "id": "c01cfe12",
   "metadata": {},
   "outputs": [],
   "source": [
    "sys.path.insert(0, os.path.abspath(\"..\"))"
   ]
  },
  {
   "cell_type": "code",
   "execution_count": 3,
   "id": "cc8d993a",
   "metadata": {
    "scrolled": true
   },
   "outputs": [],
   "source": [
    "from acro import ACRO, add_constant, utils"
   ]
  },
  {
   "cell_type": "markdown",
   "id": "530efcfe",
   "metadata": {},
   "source": [
    "### Instantiate ACRO"
   ]
  },
  {
   "cell_type": "code",
   "execution_count": 4,
   "id": "4b8a77e2",
   "metadata": {},
   "outputs": [
    {
     "name": "stderr",
     "output_type": "stream",
     "text": [
      "INFO:acro:config: {'safe_threshold': 10, 'safe_dof_threshold': 10, 'safe_nk_n': 2, 'safe_nk_k': 0.9, 'safe_pratio_p': 0.1, 'check_missing_values': False}\n"
     ]
    }
   ],
   "source": [
    "acro = ACRO()"
   ]
  },
  {
   "attachments": {},
   "cell_type": "markdown",
   "id": "27a2baaa",
   "metadata": {},
   "source": [
    "### Load test data\n",
    "The dataset used in this notebook is the nursery dataset from OpenML. The dataset can be read directly from OpenML using the code commented in the next cell or it can be read directly from the local machine if it has been downloaded. The code used to read the data from a folder is in the below cell. The path might need to be changed to refer to the folder that holds the data"
   ]
  },
  {
   "cell_type": "code",
   "execution_count": 5,
   "id": "ac790b2b-b02f-49f7-8237-a033abed6e87",
   "metadata": {
    "scrolled": true
   },
   "outputs": [
    {
     "data": {
      "text/html": [
       "<div>\n",
       "<style scoped>\n",
       "    .dataframe tbody tr th:only-of-type {\n",
       "        vertical-align: middle;\n",
       "    }\n",
       "\n",
       "    .dataframe tbody tr th {\n",
       "        vertical-align: top;\n",
       "    }\n",
       "\n",
       "    .dataframe thead th {\n",
       "        text-align: right;\n",
       "    }\n",
       "</style>\n",
       "<table border=\"1\" class=\"dataframe\">\n",
       "  <thead>\n",
       "    <tr style=\"text-align: right;\">\n",
       "      <th></th>\n",
       "      <th>parents</th>\n",
       "      <th>has_nurs</th>\n",
       "      <th>form</th>\n",
       "      <th>children</th>\n",
       "      <th>housing</th>\n",
       "      <th>finance</th>\n",
       "      <th>social</th>\n",
       "      <th>health</th>\n",
       "      <th>recommend</th>\n",
       "    </tr>\n",
       "  </thead>\n",
       "  <tbody>\n",
       "    <tr>\n",
       "      <th>0</th>\n",
       "      <td>usual</td>\n",
       "      <td>proper</td>\n",
       "      <td>complete</td>\n",
       "      <td>1</td>\n",
       "      <td>convenient</td>\n",
       "      <td>convenient</td>\n",
       "      <td>nonprob</td>\n",
       "      <td>recommended</td>\n",
       "      <td>recommend</td>\n",
       "    </tr>\n",
       "    <tr>\n",
       "      <th>1</th>\n",
       "      <td>usual</td>\n",
       "      <td>proper</td>\n",
       "      <td>complete</td>\n",
       "      <td>1</td>\n",
       "      <td>convenient</td>\n",
       "      <td>convenient</td>\n",
       "      <td>nonprob</td>\n",
       "      <td>priority</td>\n",
       "      <td>priority</td>\n",
       "    </tr>\n",
       "    <tr>\n",
       "      <th>2</th>\n",
       "      <td>usual</td>\n",
       "      <td>proper</td>\n",
       "      <td>complete</td>\n",
       "      <td>1</td>\n",
       "      <td>convenient</td>\n",
       "      <td>convenient</td>\n",
       "      <td>nonprob</td>\n",
       "      <td>not_recom</td>\n",
       "      <td>not_recom</td>\n",
       "    </tr>\n",
       "    <tr>\n",
       "      <th>3</th>\n",
       "      <td>usual</td>\n",
       "      <td>proper</td>\n",
       "      <td>complete</td>\n",
       "      <td>1</td>\n",
       "      <td>convenient</td>\n",
       "      <td>convenient</td>\n",
       "      <td>slightly_prob</td>\n",
       "      <td>recommended</td>\n",
       "      <td>recommend</td>\n",
       "    </tr>\n",
       "    <tr>\n",
       "      <th>4</th>\n",
       "      <td>usual</td>\n",
       "      <td>proper</td>\n",
       "      <td>complete</td>\n",
       "      <td>1</td>\n",
       "      <td>convenient</td>\n",
       "      <td>convenient</td>\n",
       "      <td>slightly_prob</td>\n",
       "      <td>priority</td>\n",
       "      <td>priority</td>\n",
       "    </tr>\n",
       "  </tbody>\n",
       "</table>\n",
       "</div>"
      ],
      "text/plain": [
       "  parents has_nurs      form children     housing     finance         social  \\\n",
       "0   usual   proper  complete        1  convenient  convenient        nonprob   \n",
       "1   usual   proper  complete        1  convenient  convenient        nonprob   \n",
       "2   usual   proper  complete        1  convenient  convenient        nonprob   \n",
       "3   usual   proper  complete        1  convenient  convenient  slightly_prob   \n",
       "4   usual   proper  complete        1  convenient  convenient  slightly_prob   \n",
       "\n",
       "        health  recommend  \n",
       "0  recommended  recommend  \n",
       "1     priority   priority  \n",
       "2    not_recom  not_recom  \n",
       "3  recommended  recommend  \n",
       "4     priority   priority  "
      ]
     },
     "execution_count": 5,
     "metadata": {},
     "output_type": "execute_result"
    }
   ],
   "source": [
    "# from sklearn.datasets import fetch_openml\n",
    "\n",
    "# data = fetch_openml(data_id=26, as_frame=True)\n",
    "# df = data.data\n",
    "# df[\"recommend\"] = data.target\n",
    "\n",
    "from scipy.io.arff import loadarff\n",
    "\n",
    "path = os.path.join(\"../data\", \"nursery.arff\")\n",
    "data = loadarff(path)\n",
    "df = pd.DataFrame(data[0])\n",
    "df = df.select_dtypes([object])\n",
    "df = df.stack().str.decode(\"utf-8\").unstack()\n",
    "df.rename(columns={\"class\": \"recommend\"}, inplace=True)\n",
    "df.head()"
   ]
  },
  {
   "attachments": {},
   "cell_type": "markdown",
   "id": "ea2a0d76-ba68-4a74-93c3-bdaa88c48929",
   "metadata": {},
   "source": [
    "### Convert 'more than 3' children to random between 4 and 10\n",
    "Change the children column from categorical to numeric in order to be able to test some of the ACRO functions that requires a numeric feature"
   ]
  },
  {
   "cell_type": "code",
   "execution_count": 6,
   "id": "7fb14245-e465-48a4-a5d6-88508d5bb08f",
   "metadata": {
    "scrolled": true
   },
   "outputs": [],
   "source": [
    "df[\"children\"].replace(to_replace={\"more\": \"4\"}, inplace=True)\n",
    "df[\"children\"] = pd.to_numeric(df[\"children\"])\n",
    "\n",
    "df[\"children\"] = df.apply(\n",
    "    lambda row: row[\"children\"]\n",
    "    if row[\"children\"] in (1, 2, 3)\n",
    "    else np.random.randint(4, 10),\n",
    "    axis=1,\n",
    ")"
   ]
  },
  {
   "attachments": {},
   "cell_type": "markdown",
   "id": "4ae844a0",
   "metadata": {},
   "source": [
    "### Pandas crosstab\n",
    "This is an example of crosstab using pandas"
   ]
  },
  {
   "cell_type": "code",
   "execution_count": 7,
   "id": "961684cb",
   "metadata": {},
   "outputs": [
    {
     "data": {
      "text/html": [
       "<div>\n",
       "<style scoped>\n",
       "    .dataframe tbody tr th:only-of-type {\n",
       "        vertical-align: middle;\n",
       "    }\n",
       "\n",
       "    .dataframe tbody tr th {\n",
       "        vertical-align: top;\n",
       "    }\n",
       "\n",
       "    .dataframe thead th {\n",
       "        text-align: right;\n",
       "    }\n",
       "</style>\n",
       "<table border=\"1\" class=\"dataframe\">\n",
       "  <thead>\n",
       "    <tr style=\"text-align: right;\">\n",
       "      <th>parents</th>\n",
       "      <th>great_pret</th>\n",
       "      <th>pretentious</th>\n",
       "      <th>usual</th>\n",
       "    </tr>\n",
       "    <tr>\n",
       "      <th>recommend</th>\n",
       "      <th></th>\n",
       "      <th></th>\n",
       "      <th></th>\n",
       "    </tr>\n",
       "  </thead>\n",
       "  <tbody>\n",
       "    <tr>\n",
       "      <th>not_recom</th>\n",
       "      <td>1440</td>\n",
       "      <td>1440</td>\n",
       "      <td>1440</td>\n",
       "    </tr>\n",
       "    <tr>\n",
       "      <th>priority</th>\n",
       "      <td>858</td>\n",
       "      <td>1484</td>\n",
       "      <td>1924</td>\n",
       "    </tr>\n",
       "    <tr>\n",
       "      <th>recommend</th>\n",
       "      <td>0</td>\n",
       "      <td>0</td>\n",
       "      <td>2</td>\n",
       "    </tr>\n",
       "    <tr>\n",
       "      <th>spec_prior</th>\n",
       "      <td>2022</td>\n",
       "      <td>1264</td>\n",
       "      <td>758</td>\n",
       "    </tr>\n",
       "    <tr>\n",
       "      <th>very_recom</th>\n",
       "      <td>0</td>\n",
       "      <td>132</td>\n",
       "      <td>196</td>\n",
       "    </tr>\n",
       "  </tbody>\n",
       "</table>\n",
       "</div>"
      ],
      "text/plain": [
       "parents     great_pret  pretentious  usual\n",
       "recommend                                 \n",
       "not_recom         1440         1440   1440\n",
       "priority           858         1484   1924\n",
       "recommend            0            0      2\n",
       "spec_prior        2022         1264    758\n",
       "very_recom           0          132    196"
      ]
     },
     "execution_count": 7,
     "metadata": {},
     "output_type": "execute_result"
    }
   ],
   "source": [
    "table = pd.crosstab(df.recommend, df.parents)\n",
    "table"
   ]
  },
  {
   "attachments": {},
   "cell_type": "markdown",
   "id": "d642ed00",
   "metadata": {},
   "source": [
    "### ACRO crosstab\n",
    "This is an example of crosstab using ACRO"
   ]
  },
  {
   "cell_type": "code",
   "execution_count": 8,
   "id": "bb4b2677",
   "metadata": {
    "scrolled": true
   },
   "outputs": [
    {
     "name": "stderr",
     "output_type": "stream",
     "text": [
      "INFO:acro:outcome_df:\n",
      "parents      great_pret  pretentious        usual\n",
      "recommend                                        \n",
      "not_recom            ok           ok           ok\n",
      "priority             ok           ok           ok\n",
      "recommend   threshold;   threshold;   threshold; \n",
      "spec_prior           ok           ok           ok\n",
      "very_recom  threshold;            ok           ok\n",
      "INFO:acro:get_summary(): fail; threshold: 4 cells suppressed; \n",
      "INFO:acro:add_output(): output_0_2023-04-28-16233491\n"
     ]
    },
    {
     "data": {
      "text/html": [
       "<div>\n",
       "<style scoped>\n",
       "    .dataframe tbody tr th:only-of-type {\n",
       "        vertical-align: middle;\n",
       "    }\n",
       "\n",
       "    .dataframe tbody tr th {\n",
       "        vertical-align: top;\n",
       "    }\n",
       "\n",
       "    .dataframe thead th {\n",
       "        text-align: right;\n",
       "    }\n",
       "</style>\n",
       "<table border=\"1\" class=\"dataframe\">\n",
       "  <thead>\n",
       "    <tr style=\"text-align: right;\">\n",
       "      <th>parents</th>\n",
       "      <th>great_pret</th>\n",
       "      <th>pretentious</th>\n",
       "      <th>usual</th>\n",
       "    </tr>\n",
       "    <tr>\n",
       "      <th>recommend</th>\n",
       "      <th></th>\n",
       "      <th></th>\n",
       "      <th></th>\n",
       "    </tr>\n",
       "  </thead>\n",
       "  <tbody>\n",
       "    <tr>\n",
       "      <th>not_recom</th>\n",
       "      <td>1440.0</td>\n",
       "      <td>1440.0</td>\n",
       "      <td>1440.0</td>\n",
       "    </tr>\n",
       "    <tr>\n",
       "      <th>priority</th>\n",
       "      <td>858.0</td>\n",
       "      <td>1484.0</td>\n",
       "      <td>1924.0</td>\n",
       "    </tr>\n",
       "    <tr>\n",
       "      <th>recommend</th>\n",
       "      <td>NaN</td>\n",
       "      <td>NaN</td>\n",
       "      <td>NaN</td>\n",
       "    </tr>\n",
       "    <tr>\n",
       "      <th>spec_prior</th>\n",
       "      <td>2022.0</td>\n",
       "      <td>1264.0</td>\n",
       "      <td>758.0</td>\n",
       "    </tr>\n",
       "    <tr>\n",
       "      <th>very_recom</th>\n",
       "      <td>NaN</td>\n",
       "      <td>132.0</td>\n",
       "      <td>196.0</td>\n",
       "    </tr>\n",
       "  </tbody>\n",
       "</table>\n",
       "</div>"
      ],
      "text/plain": [
       "parents     great_pret  pretentious   usual\n",
       "recommend                                  \n",
       "not_recom       1440.0       1440.0  1440.0\n",
       "priority         858.0       1484.0  1924.0\n",
       "recommend          NaN          NaN     NaN\n",
       "spec_prior      2022.0       1264.0   758.0\n",
       "very_recom         NaN        132.0   196.0"
      ]
     },
     "execution_count": 8,
     "metadata": {},
     "output_type": "execute_result"
    }
   ],
   "source": [
    "safe_table = acro.crosstab(df.recommend, df.parents)\n",
    "safe_table"
   ]
  },
  {
   "cell_type": "markdown",
   "id": "8b603548",
   "metadata": {},
   "source": [
    "### ACRO crosstab with aggregation function"
   ]
  },
  {
   "cell_type": "code",
   "execution_count": 9,
   "id": "298d2b40",
   "metadata": {},
   "outputs": [
    {
     "name": "stderr",
     "output_type": "stream",
     "text": [
      "INFO:acro:outcome_df:\n",
      "parents                        great_pret                    pretentious  \\\n",
      "recommend                                                                  \n",
      "not_recom                              ok                             ok   \n",
      "priority                               ok                             ok   \n",
      "recommend   threshold; p-ratio; nk-rule;   threshold; p-ratio; nk-rule;    \n",
      "spec_prior                             ok                             ok   \n",
      "very_recom  threshold; p-ratio; nk-rule;                              ok   \n",
      "\n",
      "parents                             usual  \n",
      "recommend                                  \n",
      "not_recom                              ok  \n",
      "priority                               ok  \n",
      "recommend   threshold; p-ratio; nk-rule;   \n",
      "spec_prior                             ok  \n",
      "very_recom                             ok  \n",
      "INFO:acro:get_summary(): fail; threshold: 4 cells suppressed; p-ratio: 4 cells suppressed; nk-rule: 4 cells suppressed; \n",
      "INFO:acro:add_output(): output_1_2023-04-28-16233508\n"
     ]
    },
    {
     "data": {
      "text/html": [
       "<div>\n",
       "<style scoped>\n",
       "    .dataframe tbody tr th:only-of-type {\n",
       "        vertical-align: middle;\n",
       "    }\n",
       "\n",
       "    .dataframe tbody tr th {\n",
       "        vertical-align: top;\n",
       "    }\n",
       "\n",
       "    .dataframe thead th {\n",
       "        text-align: right;\n",
       "    }\n",
       "</style>\n",
       "<table border=\"1\" class=\"dataframe\">\n",
       "  <thead>\n",
       "    <tr style=\"text-align: right;\">\n",
       "      <th>parents</th>\n",
       "      <th>great_pret</th>\n",
       "      <th>pretentious</th>\n",
       "      <th>usual</th>\n",
       "    </tr>\n",
       "    <tr>\n",
       "      <th>recommend</th>\n",
       "      <th></th>\n",
       "      <th></th>\n",
       "      <th></th>\n",
       "    </tr>\n",
       "  </thead>\n",
       "  <tbody>\n",
       "    <tr>\n",
       "      <th>not_recom</th>\n",
       "      <td>3.127083</td>\n",
       "      <td>3.099306</td>\n",
       "      <td>3.150000</td>\n",
       "    </tr>\n",
       "    <tr>\n",
       "      <th>priority</th>\n",
       "      <td>2.583916</td>\n",
       "      <td>3.045148</td>\n",
       "      <td>3.133576</td>\n",
       "    </tr>\n",
       "    <tr>\n",
       "      <th>recommend</th>\n",
       "      <td>NaN</td>\n",
       "      <td>NaN</td>\n",
       "      <td>NaN</td>\n",
       "    </tr>\n",
       "    <tr>\n",
       "      <th>spec_prior</th>\n",
       "      <td>3.346192</td>\n",
       "      <td>3.302215</td>\n",
       "      <td>3.379947</td>\n",
       "    </tr>\n",
       "    <tr>\n",
       "      <th>very_recom</th>\n",
       "      <td>NaN</td>\n",
       "      <td>2.181818</td>\n",
       "      <td>2.244898</td>\n",
       "    </tr>\n",
       "  </tbody>\n",
       "</table>\n",
       "</div>"
      ],
      "text/plain": [
       "parents     great_pret  pretentious     usual\n",
       "recommend                                    \n",
       "not_recom     3.127083     3.099306  3.150000\n",
       "priority      2.583916     3.045148  3.133576\n",
       "recommend          NaN          NaN       NaN\n",
       "spec_prior    3.346192     3.302215  3.379947\n",
       "very_recom         NaN     2.181818  2.244898"
      ]
     },
     "execution_count": 9,
     "metadata": {},
     "output_type": "execute_result"
    }
   ],
   "source": [
    "safe_table = acro.crosstab(df.recommend, df.parents, values=df.children, aggfunc=\"mean\")\n",
    "safe_table"
   ]
  },
  {
   "attachments": {},
   "cell_type": "markdown",
   "id": "d66e565b",
   "metadata": {},
   "source": [
    "### ACRO pivot_table\n",
    "This is an example of pivot table using ACRO"
   ]
  },
  {
   "cell_type": "code",
   "execution_count": 10,
   "id": "966c1a9b",
   "metadata": {},
   "outputs": [
    {
     "name": "stderr",
     "output_type": "stream",
     "text": [
      "INFO:acro:outcome_df:\n",
      "                mean      std\n",
      "            children children\n",
      "parents                      \n",
      "great_pret        ok       ok\n",
      "pretentious       ok       ok\n",
      "usual             ok       ok\n",
      "INFO:acro:get_summary(): pass\n",
      "INFO:acro:add_output(): output_2_2023-04-28-16233529\n"
     ]
    },
    {
     "data": {
      "text/html": [
       "<div>\n",
       "<style scoped>\n",
       "    .dataframe tbody tr th:only-of-type {\n",
       "        vertical-align: middle;\n",
       "    }\n",
       "\n",
       "    .dataframe tbody tr th {\n",
       "        vertical-align: top;\n",
       "    }\n",
       "\n",
       "    .dataframe thead tr th {\n",
       "        text-align: left;\n",
       "    }\n",
       "\n",
       "    .dataframe thead tr:last-of-type th {\n",
       "        text-align: right;\n",
       "    }\n",
       "</style>\n",
       "<table border=\"1\" class=\"dataframe\">\n",
       "  <thead>\n",
       "    <tr>\n",
       "      <th></th>\n",
       "      <th>mean</th>\n",
       "      <th>std</th>\n",
       "    </tr>\n",
       "    <tr>\n",
       "      <th></th>\n",
       "      <th>children</th>\n",
       "      <th>children</th>\n",
       "    </tr>\n",
       "    <tr>\n",
       "      <th>parents</th>\n",
       "      <th></th>\n",
       "      <th></th>\n",
       "    </tr>\n",
       "  </thead>\n",
       "  <tbody>\n",
       "    <tr>\n",
       "      <th>great_pret</th>\n",
       "      <td>3.121759</td>\n",
       "      <td>2.234771</td>\n",
       "    </tr>\n",
       "    <tr>\n",
       "      <th>pretentious</th>\n",
       "      <td>3.112037</td>\n",
       "      <td>2.223336</td>\n",
       "    </tr>\n",
       "    <tr>\n",
       "      <th>usual</th>\n",
       "      <td>3.140972</td>\n",
       "      <td>2.262121</td>\n",
       "    </tr>\n",
       "  </tbody>\n",
       "</table>\n",
       "</div>"
      ],
      "text/plain": [
       "                 mean       std\n",
       "             children  children\n",
       "parents                        \n",
       "great_pret   3.121759  2.234771\n",
       "pretentious  3.112037  2.223336\n",
       "usual        3.140972  2.262121"
      ]
     },
     "execution_count": 10,
     "metadata": {},
     "output_type": "execute_result"
    }
   ],
   "source": [
    "table = acro.pivot_table(\n",
    "    df, index=[\"parents\"], values=[\"children\"], aggfunc=[\"mean\", \"std\"]\n",
    ")\n",
    "table"
   ]
  },
  {
   "attachments": {},
   "cell_type": "markdown",
   "id": "45ec04ef",
   "metadata": {},
   "source": [
    "### ACRO OLS \n",
    "This is an example of ordinary least square regression using ACRO. The recommend column was converted form categorical to numeric. Then, the linear regression between recommend and children was performed. This is just to show how the regression is done using ACRO. No correlation is expected to be seen by using these variables"
   ]
  },
  {
   "cell_type": "code",
   "execution_count": 11,
   "id": "72aefb22",
   "metadata": {},
   "outputs": [],
   "source": [
    "df[\"recommend\"].replace(\n",
    "    to_replace={\n",
    "        \"not_recom\": \"0\",\n",
    "        \"recommend\": \"1\",\n",
    "        \"very_recom\": \"2\",\n",
    "        \"priority\": \"3\",\n",
    "        \"spec_prior\": \"4\",\n",
    "    },\n",
    "    inplace=True,\n",
    ")\n",
    "df[\"recommend\"] = pd.to_numeric(df[\"recommend\"])"
   ]
  },
  {
   "cell_type": "code",
   "execution_count": 12,
   "id": "2f462e42",
   "metadata": {
    "scrolled": true
   },
   "outputs": [
    {
     "name": "stderr",
     "output_type": "stream",
     "text": [
      "INFO:acro:ols() outcome: pass; dof=12958.0 >= 10\n",
      "INFO:acro:add_output(): output_3_2023-04-28-16233556\n"
     ]
    },
    {
     "data": {
      "text/html": [
       "<table class=\"simpletable\">\n",
       "<caption>OLS Regression Results</caption>\n",
       "<tr>\n",
       "  <th>Dep. Variable:</th>        <td>recommend</td>    <th>  R-squared:         </th> <td>   0.001</td> \n",
       "</tr>\n",
       "<tr>\n",
       "  <th>Model:</th>                   <td>OLS</td>       <th>  Adj. R-squared:    </th> <td>   0.000</td> \n",
       "</tr>\n",
       "<tr>\n",
       "  <th>Method:</th>             <td>Least Squares</td>  <th>  F-statistic:       </th> <td>   7.360</td> \n",
       "</tr>\n",
       "<tr>\n",
       "  <th>Date:</th>             <td>Fri, 28 Apr 2023</td> <th>  Prob (F-statistic):</th>  <td>0.00668</td> \n",
       "</tr>\n",
       "<tr>\n",
       "  <th>Time:</th>                 <td>16:23:35</td>     <th>  Log-Likelihood:    </th> <td> -25124.</td> \n",
       "</tr>\n",
       "<tr>\n",
       "  <th>No. Observations:</th>      <td> 12960</td>      <th>  AIC:               </th> <td>5.025e+04</td>\n",
       "</tr>\n",
       "<tr>\n",
       "  <th>Df Residuals:</th>          <td> 12958</td>      <th>  BIC:               </th> <td>5.027e+04</td>\n",
       "</tr>\n",
       "<tr>\n",
       "  <th>Df Model:</th>              <td>     1</td>      <th>                     </th>     <td> </td>    \n",
       "</tr>\n",
       "<tr>\n",
       "  <th>Covariance Type:</th>      <td>nonrobust</td>    <th>                     </th>     <td> </td>    \n",
       "</tr>\n",
       "</table>\n",
       "<table class=\"simpletable\">\n",
       "<tr>\n",
       "      <td></td>        <th>coef</th>     <th>std err</th>      <th>t</th>      <th>P>|t|</th>  <th>[0.025</th>    <th>0.975]</th>  \n",
       "</tr>\n",
       "<tr>\n",
       "  <th>const</th>    <td>    2.2305</td> <td>    0.025</td> <td>   87.975</td> <td> 0.000</td> <td>    2.181</td> <td>    2.280</td>\n",
       "</tr>\n",
       "<tr>\n",
       "  <th>children</th> <td>    0.0179</td> <td>    0.007</td> <td>    2.713</td> <td> 0.007</td> <td>    0.005</td> <td>    0.031</td>\n",
       "</tr>\n",
       "</table>\n",
       "<table class=\"simpletable\">\n",
       "<tr>\n",
       "  <th>Omnibus:</th>       <td>76780.984</td> <th>  Durbin-Watson:     </th> <td>   2.883</td>\n",
       "</tr>\n",
       "<tr>\n",
       "  <th>Prob(Omnibus):</th>  <td> 0.000</td>   <th>  Jarque-Bera (JB):  </th> <td>1742.815</td>\n",
       "</tr>\n",
       "<tr>\n",
       "  <th>Skew:</th>           <td>-0.485</td>   <th>  Prob(JB):          </th> <td>    0.00</td>\n",
       "</tr>\n",
       "<tr>\n",
       "  <th>Kurtosis:</th>       <td> 1.488</td>   <th>  Cond. No.          </th> <td>    6.90</td>\n",
       "</tr>\n",
       "</table><br/><br/>Notes:<br/>[1] Standard Errors assume that the covariance matrix of the errors is correctly specified."
      ],
      "text/plain": [
       "<class 'statsmodels.iolib.summary.Summary'>\n",
       "\"\"\"\n",
       "                            OLS Regression Results                            \n",
       "==============================================================================\n",
       "Dep. Variable:              recommend   R-squared:                       0.001\n",
       "Model:                            OLS   Adj. R-squared:                  0.000\n",
       "Method:                 Least Squares   F-statistic:                     7.360\n",
       "Date:                Fri, 28 Apr 2023   Prob (F-statistic):            0.00668\n",
       "Time:                        16:23:35   Log-Likelihood:                -25124.\n",
       "No. Observations:               12960   AIC:                         5.025e+04\n",
       "Df Residuals:                   12958   BIC:                         5.027e+04\n",
       "Df Model:                           1                                         \n",
       "Covariance Type:            nonrobust                                         \n",
       "==============================================================================\n",
       "                 coef    std err          t      P>|t|      [0.025      0.975]\n",
       "------------------------------------------------------------------------------\n",
       "const          2.2305      0.025     87.975      0.000       2.181       2.280\n",
       "children       0.0179      0.007      2.713      0.007       0.005       0.031\n",
       "==============================================================================\n",
       "Omnibus:                    76780.984   Durbin-Watson:                   2.883\n",
       "Prob(Omnibus):                  0.000   Jarque-Bera (JB):             1742.815\n",
       "Skew:                          -0.485   Prob(JB):                         0.00\n",
       "Kurtosis:                       1.488   Cond. No.                         6.90\n",
       "==============================================================================\n",
       "\n",
       "Notes:\n",
       "[1] Standard Errors assume that the covariance matrix of the errors is correctly specified.\n",
       "\"\"\""
      ]
     },
     "execution_count": 12,
     "metadata": {},
     "output_type": "execute_result"
    }
   ],
   "source": [
    "new_df = df[[\"recommend\", \"children\"]]\n",
    "new_df = new_df.dropna()\n",
    "\n",
    "y = new_df[\"recommend\"]\n",
    "x = new_df[\"children\"]\n",
    "x = add_constant(x)\n",
    "\n",
    "results = acro.ols(y, x)\n",
    "results.summary()"
   ]
  },
  {
   "attachments": {},
   "cell_type": "markdown",
   "id": "0c826271",
   "metadata": {},
   "source": [
    "### ACRO OLSR\n",
    "This is an example of ordinary least squares regression from a formula and dataframe using ACRO "
   ]
  },
  {
   "cell_type": "code",
   "execution_count": 13,
   "id": "cc90f7c9",
   "metadata": {},
   "outputs": [
    {
     "name": "stderr",
     "output_type": "stream",
     "text": [
      "INFO:acro:olsr() outcome: pass; dof=12958.0 >= 10\n",
      "INFO:acro:add_output(): output_4_2023-04-28-16233571\n"
     ]
    },
    {
     "data": {
      "text/html": [
       "<table class=\"simpletable\">\n",
       "<caption>OLS Regression Results</caption>\n",
       "<tr>\n",
       "  <th>Dep. Variable:</th>        <td>recommend</td>    <th>  R-squared:         </th> <td>   0.001</td> \n",
       "</tr>\n",
       "<tr>\n",
       "  <th>Model:</th>                   <td>OLS</td>       <th>  Adj. R-squared:    </th> <td>   0.000</td> \n",
       "</tr>\n",
       "<tr>\n",
       "  <th>Method:</th>             <td>Least Squares</td>  <th>  F-statistic:       </th> <td>   7.360</td> \n",
       "</tr>\n",
       "<tr>\n",
       "  <th>Date:</th>             <td>Fri, 28 Apr 2023</td> <th>  Prob (F-statistic):</th>  <td>0.00668</td> \n",
       "</tr>\n",
       "<tr>\n",
       "  <th>Time:</th>                 <td>16:23:35</td>     <th>  Log-Likelihood:    </th> <td> -25124.</td> \n",
       "</tr>\n",
       "<tr>\n",
       "  <th>No. Observations:</th>      <td> 12960</td>      <th>  AIC:               </th> <td>5.025e+04</td>\n",
       "</tr>\n",
       "<tr>\n",
       "  <th>Df Residuals:</th>          <td> 12958</td>      <th>  BIC:               </th> <td>5.027e+04</td>\n",
       "</tr>\n",
       "<tr>\n",
       "  <th>Df Model:</th>              <td>     1</td>      <th>                     </th>     <td> </td>    \n",
       "</tr>\n",
       "<tr>\n",
       "  <th>Covariance Type:</th>      <td>nonrobust</td>    <th>                     </th>     <td> </td>    \n",
       "</tr>\n",
       "</table>\n",
       "<table class=\"simpletable\">\n",
       "<tr>\n",
       "      <td></td>         <th>coef</th>     <th>std err</th>      <th>t</th>      <th>P>|t|</th>  <th>[0.025</th>    <th>0.975]</th>  \n",
       "</tr>\n",
       "<tr>\n",
       "  <th>Intercept</th> <td>    2.2305</td> <td>    0.025</td> <td>   87.975</td> <td> 0.000</td> <td>    2.181</td> <td>    2.280</td>\n",
       "</tr>\n",
       "<tr>\n",
       "  <th>children</th>  <td>    0.0179</td> <td>    0.007</td> <td>    2.713</td> <td> 0.007</td> <td>    0.005</td> <td>    0.031</td>\n",
       "</tr>\n",
       "</table>\n",
       "<table class=\"simpletable\">\n",
       "<tr>\n",
       "  <th>Omnibus:</th>       <td>76780.984</td> <th>  Durbin-Watson:     </th> <td>   2.883</td>\n",
       "</tr>\n",
       "<tr>\n",
       "  <th>Prob(Omnibus):</th>  <td> 0.000</td>   <th>  Jarque-Bera (JB):  </th> <td>1742.815</td>\n",
       "</tr>\n",
       "<tr>\n",
       "  <th>Skew:</th>           <td>-0.485</td>   <th>  Prob(JB):          </th> <td>    0.00</td>\n",
       "</tr>\n",
       "<tr>\n",
       "  <th>Kurtosis:</th>       <td> 1.488</td>   <th>  Cond. No.          </th> <td>    6.90</td>\n",
       "</tr>\n",
       "</table><br/><br/>Notes:<br/>[1] Standard Errors assume that the covariance matrix of the errors is correctly specified."
      ],
      "text/plain": [
       "<class 'statsmodels.iolib.summary.Summary'>\n",
       "\"\"\"\n",
       "                            OLS Regression Results                            \n",
       "==============================================================================\n",
       "Dep. Variable:              recommend   R-squared:                       0.001\n",
       "Model:                            OLS   Adj. R-squared:                  0.000\n",
       "Method:                 Least Squares   F-statistic:                     7.360\n",
       "Date:                Fri, 28 Apr 2023   Prob (F-statistic):            0.00668\n",
       "Time:                        16:23:35   Log-Likelihood:                -25124.\n",
       "No. Observations:               12960   AIC:                         5.025e+04\n",
       "Df Residuals:                   12958   BIC:                         5.027e+04\n",
       "Df Model:                           1                                         \n",
       "Covariance Type:            nonrobust                                         \n",
       "==============================================================================\n",
       "                 coef    std err          t      P>|t|      [0.025      0.975]\n",
       "------------------------------------------------------------------------------\n",
       "Intercept      2.2305      0.025     87.975      0.000       2.181       2.280\n",
       "children       0.0179      0.007      2.713      0.007       0.005       0.031\n",
       "==============================================================================\n",
       "Omnibus:                    76780.984   Durbin-Watson:                   2.883\n",
       "Prob(Omnibus):                  0.000   Jarque-Bera (JB):             1742.815\n",
       "Skew:                          -0.485   Prob(JB):                         0.00\n",
       "Kurtosis:                       1.488   Cond. No.                         6.90\n",
       "==============================================================================\n",
       "\n",
       "Notes:\n",
       "[1] Standard Errors assume that the covariance matrix of the errors is correctly specified.\n",
       "\"\"\""
      ]
     },
     "execution_count": 13,
     "metadata": {},
     "output_type": "execute_result"
    }
   ],
   "source": [
    "results = acro.olsr(formula=\"recommend ~ children\", data=new_df)\n",
    "results.summary()"
   ]
  },
  {
   "attachments": {},
   "cell_type": "markdown",
   "id": "2816eac7",
   "metadata": {},
   "source": [
    "### ACRO Probit\n",
    "This is an example of probit regression using ACRO"
   ]
  },
  {
   "cell_type": "code",
   "execution_count": 14,
   "id": "5b1a1611",
   "metadata": {},
   "outputs": [
    {
     "name": "stderr",
     "output_type": "stream",
     "text": [
      "INFO:acro:probit() outcome: pass; dof=12958.0 >= 10\n",
      "INFO:acro:add_output(): output_5_2023-04-28-16233586\n"
     ]
    },
    {
     "name": "stdout",
     "output_type": "stream",
     "text": [
      "Optimization terminated successfully.\n",
      "         Current function value: 0.693147\n",
      "         Iterations 2\n"
     ]
    },
    {
     "data": {
      "text/html": [
       "<table class=\"simpletable\">\n",
       "<caption>Probit Regression Results</caption>\n",
       "<tr>\n",
       "  <th>Dep. Variable:</th>        <td>finance</td>     <th>  No. Observations:  </th>  <td> 12960</td>  \n",
       "</tr>\n",
       "<tr>\n",
       "  <th>Model:</th>                <td>Probit</td>      <th>  Df Residuals:      </th>  <td> 12958</td>  \n",
       "</tr>\n",
       "<tr>\n",
       "  <th>Method:</th>                 <td>MLE</td>       <th>  Df Model:          </th>  <td>     1</td>  \n",
       "</tr>\n",
       "<tr>\n",
       "  <th>Date:</th>            <td>Fri, 28 Apr 2023</td> <th>  Pseudo R-squ.:     </th> <td>4.528e-07</td>\n",
       "</tr>\n",
       "<tr>\n",
       "  <th>Time:</th>                <td>16:23:35</td>     <th>  Log-Likelihood:    </th> <td> -8983.2</td> \n",
       "</tr>\n",
       "<tr>\n",
       "  <th>converged:</th>             <td>True</td>       <th>  LL-Null:           </th> <td> -8983.2</td> \n",
       "</tr>\n",
       "<tr>\n",
       "  <th>Covariance Type:</th>     <td>nonrobust</td>    <th>  LLR p-value:       </th>  <td>0.9281</td>  \n",
       "</tr>\n",
       "</table>\n",
       "<table class=\"simpletable\">\n",
       "<tr>\n",
       "      <td></td>        <th>coef</th>     <th>std err</th>      <th>z</th>      <th>P>|z|</th>  <th>[0.025</th>    <th>0.975]</th>  \n",
       "</tr>\n",
       "<tr>\n",
       "  <th>const</th>    <td>    0.0014</td> <td>    0.019</td> <td>    0.073</td> <td> 0.942</td> <td>   -0.036</td> <td>    0.038</td>\n",
       "</tr>\n",
       "<tr>\n",
       "  <th>children</th> <td>   -0.0004</td> <td>    0.005</td> <td>   -0.090</td> <td> 0.928</td> <td>   -0.010</td> <td>    0.009</td>\n",
       "</tr>\n",
       "</table>"
      ],
      "text/plain": [
       "<class 'statsmodels.iolib.summary.Summary'>\n",
       "\"\"\"\n",
       "                          Probit Regression Results                           \n",
       "==============================================================================\n",
       "Dep. Variable:                finance   No. Observations:                12960\n",
       "Model:                         Probit   Df Residuals:                    12958\n",
       "Method:                           MLE   Df Model:                            1\n",
       "Date:                Fri, 28 Apr 2023   Pseudo R-squ.:               4.528e-07\n",
       "Time:                        16:23:35   Log-Likelihood:                -8983.2\n",
       "converged:                       True   LL-Null:                       -8983.2\n",
       "Covariance Type:            nonrobust   LLR p-value:                    0.9281\n",
       "==============================================================================\n",
       "                 coef    std err          z      P>|z|      [0.025      0.975]\n",
       "------------------------------------------------------------------------------\n",
       "const          0.0014      0.019      0.073      0.942      -0.036       0.038\n",
       "children      -0.0004      0.005     -0.090      0.928      -0.010       0.009\n",
       "==============================================================================\n",
       "\"\"\""
      ]
     },
     "execution_count": 14,
     "metadata": {},
     "output_type": "execute_result"
    }
   ],
   "source": [
    "new_df = df[[\"finance\", \"children\"]]\n",
    "new_df = new_df.dropna()\n",
    "\n",
    "y = new_df[\"finance\"].astype(\"category\").cat.codes  # numeric\n",
    "y.name = \"finance\"\n",
    "x = new_df[\"children\"]\n",
    "x = add_constant(x)\n",
    "\n",
    "results = acro.probit(y, x)\n",
    "results.summary()"
   ]
  },
  {
   "attachments": {},
   "cell_type": "markdown",
   "id": "f38b4334",
   "metadata": {},
   "source": [
    "### ACRO Logit\n",
    "This is an example of logistic regression using ACRO"
   ]
  },
  {
   "cell_type": "code",
   "execution_count": 15,
   "id": "dcf30f8f",
   "metadata": {},
   "outputs": [
    {
     "name": "stderr",
     "output_type": "stream",
     "text": [
      "INFO:acro:logit() outcome: pass; dof=12958.0 >= 10\n",
      "INFO:acro:add_output(): output_6_2023-04-28-16233601\n"
     ]
    },
    {
     "name": "stdout",
     "output_type": "stream",
     "text": [
      "Optimization terminated successfully.\n",
      "         Current function value: 0.693147\n",
      "         Iterations 2\n"
     ]
    },
    {
     "data": {
      "text/html": [
       "<table class=\"simpletable\">\n",
       "<caption>Logit Regression Results</caption>\n",
       "<tr>\n",
       "  <th>Dep. Variable:</th>        <td>finance</td>     <th>  No. Observations:  </th>  <td> 12960</td>  \n",
       "</tr>\n",
       "<tr>\n",
       "  <th>Model:</th>                 <td>Logit</td>      <th>  Df Residuals:      </th>  <td> 12958</td>  \n",
       "</tr>\n",
       "<tr>\n",
       "  <th>Method:</th>                 <td>MLE</td>       <th>  Df Model:          </th>  <td>     1</td>  \n",
       "</tr>\n",
       "<tr>\n",
       "  <th>Date:</th>            <td>Fri, 28 Apr 2023</td> <th>  Pseudo R-squ.:     </th> <td>4.528e-07</td>\n",
       "</tr>\n",
       "<tr>\n",
       "  <th>Time:</th>                <td>16:23:36</td>     <th>  Log-Likelihood:    </th> <td> -8983.2</td> \n",
       "</tr>\n",
       "<tr>\n",
       "  <th>converged:</th>             <td>True</td>       <th>  LL-Null:           </th> <td> -8983.2</td> \n",
       "</tr>\n",
       "<tr>\n",
       "  <th>Covariance Type:</th>     <td>nonrobust</td>    <th>  LLR p-value:       </th>  <td>0.9281</td>  \n",
       "</tr>\n",
       "</table>\n",
       "<table class=\"simpletable\">\n",
       "<tr>\n",
       "      <td></td>        <th>coef</th>     <th>std err</th>      <th>z</th>      <th>P>|z|</th>  <th>[0.025</th>    <th>0.975]</th>  \n",
       "</tr>\n",
       "<tr>\n",
       "  <th>const</th>    <td>    0.0022</td> <td>    0.030</td> <td>    0.073</td> <td> 0.942</td> <td>   -0.057</td> <td>    0.061</td>\n",
       "</tr>\n",
       "<tr>\n",
       "  <th>children</th> <td>   -0.0007</td> <td>    0.008</td> <td>   -0.090</td> <td> 0.928</td> <td>   -0.016</td> <td>    0.015</td>\n",
       "</tr>\n",
       "</table>"
      ],
      "text/plain": [
       "<class 'statsmodels.iolib.summary.Summary'>\n",
       "\"\"\"\n",
       "                           Logit Regression Results                           \n",
       "==============================================================================\n",
       "Dep. Variable:                finance   No. Observations:                12960\n",
       "Model:                          Logit   Df Residuals:                    12958\n",
       "Method:                           MLE   Df Model:                            1\n",
       "Date:                Fri, 28 Apr 2023   Pseudo R-squ.:               4.528e-07\n",
       "Time:                        16:23:36   Log-Likelihood:                -8983.2\n",
       "converged:                       True   LL-Null:                       -8983.2\n",
       "Covariance Type:            nonrobust   LLR p-value:                    0.9281\n",
       "==============================================================================\n",
       "                 coef    std err          z      P>|z|      [0.025      0.975]\n",
       "------------------------------------------------------------------------------\n",
       "const          0.0022      0.030      0.073      0.942      -0.057       0.061\n",
       "children      -0.0007      0.008     -0.090      0.928      -0.016       0.015\n",
       "==============================================================================\n",
       "\"\"\""
      ]
     },
     "execution_count": 15,
     "metadata": {},
     "output_type": "execute_result"
    }
   ],
   "source": [
    "results = acro.logit(y, x)\n",
    "results.summary()"
   ]
  },
  {
   "attachments": {},
   "cell_type": "markdown",
   "id": "9e554eea",
   "metadata": {},
   "source": [
    "### List current ACRO outputs\n",
    "This is an example of using the print_output function to list all the outputs created so far"
   ]
  },
  {
   "cell_type": "code",
   "execution_count": 16,
   "id": "ec960039",
   "metadata": {
    "scrolled": true
   },
   "outputs": [
    {
     "name": "stdout",
     "output_type": "stream",
     "text": [
      "output_0_2023-04-28-16233491:\n",
      "command: safe_table = acro.crosstab(df.recommend, df.parents)\n",
      "summary: fail; threshold: 4 cells suppressed; \n",
      "outcome: parents      great_pret  pretentious        usual\n",
      "recommend                                        \n",
      "not_recom            ok           ok           ok\n",
      "priority             ok           ok           ok\n",
      "recommend   threshold;   threshold;   threshold; \n",
      "spec_prior           ok           ok           ok\n",
      "very_recom  threshold;            ok           ok\n",
      "output: [parents     great_pret  pretentious   usual\n",
      "recommend                                  \n",
      "not_recom       1440.0       1440.0  1440.0\n",
      "priority         858.0       1484.0  1924.0\n",
      "recommend          NaN          NaN     NaN\n",
      "spec_prior      2022.0       1264.0   758.0\n",
      "very_recom         NaN        132.0   196.0]\n",
      "timestamp: 2023-04-28-16233491\n",
      "comments: \n",
      "\n",
      "\n",
      "output_1_2023-04-28-16233508:\n",
      "command: safe_table = acro.crosstab(df.recommend, df.parents, values=df.children, aggfunc=\"mean\")\n",
      "summary: fail; threshold: 4 cells suppressed; p-ratio: 4 cells suppressed; nk-rule: 4 cells suppressed; \n",
      "outcome: parents                        great_pret                    pretentious  \\\n",
      "recommend                                                                  \n",
      "not_recom                              ok                             ok   \n",
      "priority                               ok                             ok   \n",
      "recommend   threshold; p-ratio; nk-rule;   threshold; p-ratio; nk-rule;    \n",
      "spec_prior                             ok                             ok   \n",
      "very_recom  threshold; p-ratio; nk-rule;                              ok   \n",
      "\n",
      "parents                             usual  \n",
      "recommend                                  \n",
      "not_recom                              ok  \n",
      "priority                               ok  \n",
      "recommend   threshold; p-ratio; nk-rule;   \n",
      "spec_prior                             ok  \n",
      "very_recom                             ok  \n",
      "output: [parents     great_pret  pretentious     usual\n",
      "recommend                                    \n",
      "not_recom     3.127083     3.099306  3.150000\n",
      "priority      2.583916     3.045148  3.133576\n",
      "recommend          NaN          NaN       NaN\n",
      "spec_prior    3.346192     3.302215  3.379947\n",
      "very_recom         NaN     2.181818  2.244898]\n",
      "timestamp: 2023-04-28-16233508\n",
      "comments: \n",
      "\n",
      "\n",
      "output_2_2023-04-28-16233529:\n",
      "command: table = acro.pivot_table(\n",
      "summary: pass\n",
      "outcome:                 mean      std\n",
      "            children children\n",
      "parents                      \n",
      "great_pret        ok       ok\n",
      "pretentious       ok       ok\n",
      "usual             ok       ok\n",
      "output: [                 mean       std\n",
      "             children  children\n",
      "parents                        \n",
      "great_pret   3.121759  2.234771\n",
      "pretentious  3.112037  2.223336\n",
      "usual        3.140972  2.262121]\n",
      "timestamp: 2023-04-28-16233529\n",
      "comments: \n",
      "\n",
      "\n",
      "output_3_2023-04-28-16233556:\n",
      "command: results = acro.ols(y, x)\n",
      "summary: pass; dof=12958.0 >= 10\n",
      "outcome: Empty DataFrame\n",
      "Columns: []\n",
      "Index: []\n",
      "output: [                          recommend           R-squared:        0.001\n",
      "Dep. Variable:                                                       \n",
      "Model:                          OLS      Adj. R-squared:      0.00000\n",
      "Method:               Least Squares         F-statistic:      7.36000\n",
      "Date:              Fri, 28 Apr 2023  Prob (F-statistic):      0.00668\n",
      "Time:                      16:23:35      Log-Likelihood: -25124.00000\n",
      "No. Observations:             12960                 AIC:  50250.00000\n",
      "Df Residuals:                 12958                 BIC:  50270.00000\n",
      "Df Model:                         1                  NaN          NaN\n",
      "Covariance Type:          nonrobust                  NaN          NaN,             coef  std err       t  P>|t|  [0.025  0.975]\n",
      "const     2.2305    0.025  87.975  0.000   2.181   2.280\n",
      "children  0.0179    0.007   2.713  0.007   0.005   0.031,                 76780.984     Durbin-Watson:     2.883\n",
      "Omnibus:                                              \n",
      "Prob(Omnibus):      0.000  Jarque-Bera (JB):  1742.815\n",
      "Skew:              -0.485          Prob(JB):     0.000\n",
      "Kurtosis:           1.488          Cond. No.     6.900]\n",
      "timestamp: 2023-04-28-16233556\n",
      "comments: \n",
      "\n",
      "\n",
      "output_4_2023-04-28-16233571:\n",
      "command: results = acro.olsr(formula=\"recommend ~ children\", data=new_df)\n",
      "summary: pass; dof=12958.0 >= 10\n",
      "outcome: Empty DataFrame\n",
      "Columns: []\n",
      "Index: []\n",
      "output: [                          recommend           R-squared:        0.001\n",
      "Dep. Variable:                                                       \n",
      "Model:                          OLS      Adj. R-squared:      0.00000\n",
      "Method:               Least Squares         F-statistic:      7.36000\n",
      "Date:              Fri, 28 Apr 2023  Prob (F-statistic):      0.00668\n",
      "Time:                      16:23:35      Log-Likelihood: -25124.00000\n",
      "No. Observations:             12960                 AIC:  50250.00000\n",
      "Df Residuals:                 12958                 BIC:  50270.00000\n",
      "Df Model:                         1                  NaN          NaN\n",
      "Covariance Type:          nonrobust                  NaN          NaN,              coef  std err       t  P>|t|  [0.025  0.975]\n",
      "Intercept  2.2305    0.025  87.975  0.000   2.181   2.280\n",
      "children   0.0179    0.007   2.713  0.007   0.005   0.031,                 76780.984     Durbin-Watson:     2.883\n",
      "Omnibus:                                              \n",
      "Prob(Omnibus):      0.000  Jarque-Bera (JB):  1742.815\n",
      "Skew:              -0.485          Prob(JB):     0.000\n",
      "Kurtosis:           1.488          Cond. No.     6.900]\n",
      "timestamp: 2023-04-28-16233571\n",
      "comments: \n",
      "\n",
      "\n",
      "output_5_2023-04-28-16233586:\n",
      "command: results = acro.probit(y, x)\n",
      "summary: pass; dof=12958.0 >= 10\n",
      "outcome: Empty DataFrame\n",
      "Columns: []\n",
      "Index: []\n",
      "output: [                           finance No. Observations:         12960\n",
      "Dep. Variable:                                                    \n",
      "Model:                      Probit     Df Residuals:  1.295800e+04\n",
      "Method:                        MLE         Df Model:  1.000000e+00\n",
      "Date:             Fri, 28 Apr 2023    Pseudo R-squ.:  4.528000e-07\n",
      "Time:                     16:23:35   Log-Likelihood: -8.983200e+03\n",
      "converged:                    True          LL-Null: -8.983200e+03\n",
      "Covariance Type:         nonrobust      LLR p-value:  9.281000e-01,             coef  std err      z  P>|z|  [0.025  0.975]\n",
      "const     0.0014    0.019  0.073  0.942  -0.036   0.038\n",
      "children -0.0004    0.005 -0.090  0.928  -0.010   0.009]\n",
      "timestamp: 2023-04-28-16233586\n",
      "comments: \n",
      "\n",
      "\n",
      "output_6_2023-04-28-16233601:\n",
      "command: results = acro.logit(y, x)\n",
      "summary: pass; dof=12958.0 >= 10\n",
      "outcome: Empty DataFrame\n",
      "Columns: []\n",
      "Index: []\n",
      "output: [                           finance No. Observations:         12960\n",
      "Dep. Variable:                                                    \n",
      "Model:                       Logit     Df Residuals:  1.295800e+04\n",
      "Method:                        MLE         Df Model:  1.000000e+00\n",
      "Date:             Fri, 28 Apr 2023    Pseudo R-squ.:  4.528000e-07\n",
      "Time:                     16:23:36   Log-Likelihood: -8.983200e+03\n",
      "converged:                    True          LL-Null: -8.983200e+03\n",
      "Covariance Type:         nonrobust      LLR p-value:  9.281000e-01,             coef  std err      z  P>|z|  [0.025  0.975]\n",
      "const     0.0022    0.030  0.073  0.942  -0.057   0.061\n",
      "children -0.0007    0.008 -0.090  0.928  -0.016   0.015]\n",
      "timestamp: 2023-04-28-16233601\n",
      "comments: \n",
      "\n",
      "\n"
     ]
    }
   ],
   "source": [
    "acro.print_outputs()"
   ]
  },
  {
   "attachments": {},
   "cell_type": "markdown",
   "id": "f78b5a08",
   "metadata": {},
   "source": [
    "### Remove some ACRO outputs before finalising \n",
    "This is an example of deleting some of the ACRO outputs. The name of the output that needs to be removed should be passed to the function remove_output. Currently, all outputs names contain timestamp; that is the time when the output was created. The output name can be taken from the outputs listed by the print_outputs function or by listing the results and choosing the specific output that needs to be removed"
   ]
  },
  {
   "cell_type": "code",
   "execution_count": 17,
   "id": "e4ee985e",
   "metadata": {},
   "outputs": [
    {
     "name": "stderr",
     "output_type": "stream",
     "text": [
      "INFO:acro:remove_output(): output_1_2023-04-28-16233508 removed\n",
      "INFO:acro:remove_output(): output_4_2023-04-28-16233571 removed\n"
     ]
    }
   ],
   "source": [
    "output_1 = list(acro.results.keys())[1]\n",
    "output_4 = list(acro.results.keys())[4]\n",
    "\n",
    "acro.remove_output(output_1)\n",
    "acro.remove_output(output_4)"
   ]
  },
  {
   "attachments": {},
   "cell_type": "markdown",
   "id": "df2a02e0",
   "metadata": {},
   "source": [
    "### Rename ACRO outputs before finalising\n",
    "This is an example of renaming the outputs to provide a more descriptive name. The timestamp associated with the output name will not get overwritten"
   ]
  },
  {
   "cell_type": "code",
   "execution_count": 18,
   "id": "b9d0b9ac",
   "metadata": {},
   "outputs": [
    {
     "name": "stderr",
     "output_type": "stream",
     "text": [
      "INFO:acro:rename_output(): output_3_2023-04-28-16233556 renamed to pivot_table_2023-04-28-16233556\n"
     ]
    }
   ],
   "source": [
    "acro.rename_output(list(acro.results.keys())[2], \"pivot_table\")"
   ]
  },
  {
   "attachments": {},
   "cell_type": "markdown",
   "id": "56d2b6a1",
   "metadata": {},
   "source": [
    "### Add a comment to output\n",
    "This is an example to add a comment to outputs. It can be used to provide a description or an information to the outputs"
   ]
  },
  {
   "cell_type": "code",
   "execution_count": 19,
   "id": "8e21f7b0",
   "metadata": {},
   "outputs": [
    {
     "name": "stderr",
     "output_type": "stream",
     "text": [
      "INFO:acro:a comment was added to output_0_2023-04-28-16233491\n",
      "INFO:acro:a comment was added to output_0_2023-04-28-16233491\n"
     ]
    }
   ],
   "source": [
    "acro.add_comments(\n",
    "    list(acro.results.keys())[0], \"This is a cross table between year and grant_type\"\n",
    ")\n",
    "acro.add_comments(list(acro.results.keys())[0], \"6 cells were supressed in this table\")"
   ]
  },
  {
   "attachments": {},
   "cell_type": "markdown",
   "id": "8496fed4",
   "metadata": {},
   "source": [
    "### Add an unsupported output to the list of outputs\n",
    "This is an example to add an unsupported outputs (such as images) to the list of outputs"
   ]
  },
  {
   "cell_type": "code",
   "execution_count": 20,
   "id": "1e8000a1",
   "metadata": {},
   "outputs": [
    {
     "name": "stderr",
     "output_type": "stream",
     "text": [
      "INFO:acro:add_output(): output_7_2023-04-28-16233694\n"
     ]
    }
   ],
   "source": [
    "acro.custom_output(\n",
    "    \"XandY.jfif\", \"This output is an image showing the relationship between X and Y\"\n",
    ")"
   ]
  },
  {
   "attachments": {},
   "cell_type": "markdown",
   "id": "5a586694",
   "metadata": {},
   "source": [
    "### Finalise ACRO\n",
    "This is an example of the function finalise which takes each output and saves it to a CSV file. It also saves the outputs to a json file or Excel file depending on the extension of the name of the file provided as an input to the function"
   ]
  },
  {
   "cell_type": "code",
   "execution_count": 21,
   "id": "f941aca2",
   "metadata": {},
   "outputs": [
    {
     "name": "stderr",
     "output_type": "stream",
     "text": [
      "INFO:acro:Directory outputs/ already exists\n",
      "INFO:acro:output written to: test_results.json\n"
     ]
    }
   ],
   "source": [
    "output = acro.finalise(\"test_results.json\")"
   ]
  },
  {
   "cell_type": "code",
   "execution_count": null,
   "id": "50c59b97",
   "metadata": {},
   "outputs": [],
   "source": []
  }
 ],
 "metadata": {
  "kernelspec": {
   "display_name": "acro_venv",
   "language": "python",
   "name": "python3"
  },
  "language_info": {
   "codemirror_mode": {
    "name": "ipython",
    "version": 3
   },
   "file_extension": ".py",
   "mimetype": "text/x-python",
   "name": "python",
   "nbconvert_exporter": "python",
   "pygments_lexer": "ipython3",
   "version": "3.10.2"
  }
 },
 "nbformat": 4,
 "nbformat_minor": 5
}

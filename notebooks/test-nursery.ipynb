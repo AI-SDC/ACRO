{
 "cells": [
  {
   "cell_type": "markdown",
   "id": "00cac1f9",
   "metadata": {
    "slideshow": {
     "slide_type": "slide"
    }
   },
   "source": [
    "# ACRO Demonstration"
   ]
  },
  {
   "cell_type": "code",
   "execution_count": 1,
   "id": "e33fd4fb",
   "metadata": {
    "slideshow": {
     "slide_type": "fragment"
    }
   },
   "outputs": [],
   "source": [
    "import os\n",
    "import sys\n",
    "import pandas as pd\n",
    "import numpy as np"
   ]
  },
  {
   "cell_type": "code",
   "execution_count": 2,
   "id": "c01cfe12",
   "metadata": {
    "slideshow": {
     "slide_type": "skip"
    }
   },
   "outputs": [],
   "source": [
    "# uncomment this line if acro is not installed\n",
    "# ie you are in development mode\n",
    "sys.path.insert(0, os.path.abspath(\"..\"))"
   ]
  },
  {
   "cell_type": "code",
   "execution_count": 13,
   "id": "cc8d993a",
   "metadata": {
    "scrolled": true,
    "slideshow": {
     "slide_type": "fragment"
    }
   },
   "outputs": [],
   "source": [
    "from acro import ACRO, add_constant, add_to_acro, utils"
   ]
  },
  {
   "cell_type": "markdown",
   "id": "530efcfe",
   "metadata": {
    "slideshow": {
     "slide_type": "slide"
    }
   },
   "source": [
    "### Instantiate ACRO"
   ]
  },
  {
   "cell_type": "code",
   "execution_count": 12,
   "id": "4b8a77e2",
   "metadata": {
    "slideshow": {
     "slide_type": "fragment"
    }
   },
   "outputs": [
    {
     "name": "stderr",
     "output_type": "stream",
     "text": [
      "INFO:acro:version: 0.4.2\n",
      "INFO:acro:config: {'safe_threshold': 10, 'safe_dof_threshold': 10, 'safe_nk_n': 2, 'safe_nk_k': 0.9, 'safe_pratio_p': 0.1, 'check_missing_values': False}\n",
      "INFO:acro:automatic suppression: True\n"
     ]
    }
   ],
   "source": [
    "acro = ACRO(suppress=True)"
   ]
  },
  {
   "cell_type": "markdown",
   "id": "27a2baaa",
   "metadata": {
    "slideshow": {
     "slide_type": "slide"
    }
   },
   "source": [
    "### Load test data\n",
    "The dataset used in this notebook is the nursery dataset from OpenML.  \n",
    "- The dataset can be read directly from OpenML using the code commented in the next cell.\n",
    "- In this version, it can be read directly from the local machine if it has been downloaded. \n",
    "- The code below reads the data from a folder called \"data\" which we assume is at the same level as the folder where you are working.\n",
    "- The path might need to be changed if the data has been downloaded and stored elsewhere.\n",
    " - for example use:  \n",
    "    path = os.path.join(\"data\", \"nursery.arff\")  \n",
    "    if the data is in a sub-folder of your work folder"
   ]
  },
  {
   "cell_type": "code",
   "execution_count": 4,
   "id": "ac790b2b-b02f-49f7-8237-a033abed6e87",
   "metadata": {
    "scrolled": true,
    "slideshow": {
     "slide_type": "fragment"
    }
   },
   "outputs": [
    {
     "data": {
      "text/html": [
       "<div>\n",
       "<style scoped>\n",
       "    .dataframe tbody tr th:only-of-type {\n",
       "        vertical-align: middle;\n",
       "    }\n",
       "\n",
       "    .dataframe tbody tr th {\n",
       "        vertical-align: top;\n",
       "    }\n",
       "\n",
       "    .dataframe thead th {\n",
       "        text-align: right;\n",
       "    }\n",
       "</style>\n",
       "<table border=\"1\" class=\"dataframe\">\n",
       "  <thead>\n",
       "    <tr style=\"text-align: right;\">\n",
       "      <th></th>\n",
       "      <th>parents</th>\n",
       "      <th>has_nurs</th>\n",
       "      <th>form</th>\n",
       "      <th>children</th>\n",
       "      <th>housing</th>\n",
       "      <th>finance</th>\n",
       "      <th>social</th>\n",
       "      <th>health</th>\n",
       "      <th>recommend</th>\n",
       "    </tr>\n",
       "  </thead>\n",
       "  <tbody>\n",
       "    <tr>\n",
       "      <th>0</th>\n",
       "      <td>usual</td>\n",
       "      <td>proper</td>\n",
       "      <td>complete</td>\n",
       "      <td>1</td>\n",
       "      <td>convenient</td>\n",
       "      <td>convenient</td>\n",
       "      <td>nonprob</td>\n",
       "      <td>recommended</td>\n",
       "      <td>recommend</td>\n",
       "    </tr>\n",
       "    <tr>\n",
       "      <th>1</th>\n",
       "      <td>usual</td>\n",
       "      <td>proper</td>\n",
       "      <td>complete</td>\n",
       "      <td>1</td>\n",
       "      <td>convenient</td>\n",
       "      <td>convenient</td>\n",
       "      <td>nonprob</td>\n",
       "      <td>priority</td>\n",
       "      <td>priority</td>\n",
       "    </tr>\n",
       "    <tr>\n",
       "      <th>2</th>\n",
       "      <td>usual</td>\n",
       "      <td>proper</td>\n",
       "      <td>complete</td>\n",
       "      <td>1</td>\n",
       "      <td>convenient</td>\n",
       "      <td>convenient</td>\n",
       "      <td>nonprob</td>\n",
       "      <td>not_recom</td>\n",
       "      <td>not_recom</td>\n",
       "    </tr>\n",
       "    <tr>\n",
       "      <th>3</th>\n",
       "      <td>usual</td>\n",
       "      <td>proper</td>\n",
       "      <td>complete</td>\n",
       "      <td>1</td>\n",
       "      <td>convenient</td>\n",
       "      <td>convenient</td>\n",
       "      <td>slightly_prob</td>\n",
       "      <td>recommended</td>\n",
       "      <td>recommend</td>\n",
       "    </tr>\n",
       "    <tr>\n",
       "      <th>4</th>\n",
       "      <td>usual</td>\n",
       "      <td>proper</td>\n",
       "      <td>complete</td>\n",
       "      <td>1</td>\n",
       "      <td>convenient</td>\n",
       "      <td>convenient</td>\n",
       "      <td>slightly_prob</td>\n",
       "      <td>priority</td>\n",
       "      <td>priority</td>\n",
       "    </tr>\n",
       "  </tbody>\n",
       "</table>\n",
       "</div>"
      ],
      "text/plain": [
       "  parents has_nurs      form children     housing     finance         social  \\\n",
       "0   usual   proper  complete        1  convenient  convenient        nonprob   \n",
       "1   usual   proper  complete        1  convenient  convenient        nonprob   \n",
       "2   usual   proper  complete        1  convenient  convenient        nonprob   \n",
       "3   usual   proper  complete        1  convenient  convenient  slightly_prob   \n",
       "4   usual   proper  complete        1  convenient  convenient  slightly_prob   \n",
       "\n",
       "        health  recommend  \n",
       "0  recommended  recommend  \n",
       "1     priority   priority  \n",
       "2    not_recom  not_recom  \n",
       "3  recommended  recommend  \n",
       "4     priority   priority  "
      ]
     },
     "execution_count": 4,
     "metadata": {},
     "output_type": "execute_result"
    }
   ],
   "source": [
    "from scipy.io.arff import loadarff\n",
    "\n",
    "path = os.path.join(\"../data\", \"nursery.arff\")\n",
    "data = loadarff(path)\n",
    "df = pd.DataFrame(data[0])\n",
    "df = df.select_dtypes([object])\n",
    "df = df.stack().str.decode(\"utf-8\").unstack()\n",
    "df.rename(columns={\"class\": \"recommend\"}, inplace=True)\n",
    "df.head()"
   ]
  },
  {
   "cell_type": "markdown",
   "id": "ea2a0d76-ba68-4a74-93c3-bdaa88c48929",
   "metadata": {
    "slideshow": {
     "slide_type": "slide"
    }
   },
   "source": [
    "### Convert 'more than 3' children to random between 4 and 10\n",
    "Change the children column from categorical to numeric in order to be able to test some of the ACRO functions that require a numeric feature"
   ]
  },
  {
   "cell_type": "code",
   "execution_count": 5,
   "id": "b43810a8-4da9-4cec-a613-e2562ed95601",
   "metadata": {
    "scrolled": true,
    "slideshow": {
     "slide_type": "fragment"
    }
   },
   "outputs": [
    {
     "name": "stdout",
     "output_type": "stream",
     "text": [
      " children column entries in raw file ['1' '2' '3' 'more']\n"
     ]
    }
   ],
   "source": [
    "print(f\" children column entries in raw file {df.children.unique()}\")"
   ]
  },
  {
   "cell_type": "code",
   "execution_count": 6,
   "id": "042f8e9d-b33b-4daf-851e-9f70b5d4859a",
   "metadata": {
    "scrolled": true,
    "slideshow": {
     "slide_type": "fragment"
    }
   },
   "outputs": [],
   "source": [
    "df[\"children\"].replace(to_replace={\"more\": \"4\"}, inplace=True)\n",
    "df[\"children\"] = pd.to_numeric(df[\"children\"])\n",
    "\n",
    "df[\"children\"] = df.apply(\n",
    "    lambda row: row[\"children\"]\n",
    "    if row[\"children\"] in (1, 2, 3)\n",
    "    else np.random.randint(4, 10),\n",
    "    axis=1,\n",
    ")"
   ]
  },
  {
   "cell_type": "markdown",
   "id": "d098c704",
   "metadata": {
    "slideshow": {
     "slide_type": "slide"
    }
   },
   "source": [
    "# Examples of producing tabular output\n",
    "We rely on the industry-standard package **pandas** for tabulating data.  \n",
    "In the next few examples we show:\n",
    "- first, how a researcher would normally make a call in pandas, saving the results in a variable that they can view on screen (or save to file?)\n",
    "- then how the call is identical in SACRO, except that:\n",
    "  - \"pd\" is replaced by \"acro\"\n",
    "  - the researcher immediately sees a copy of what the TRE output checker will see.\n",
    "  "
   ]
  },
  {
   "cell_type": "markdown",
   "id": "4ae844a0",
   "metadata": {
    "slideshow": {
     "slide_type": "slide"
    }
   },
   "source": [
    "### Pandas crosstab\n",
    "This is an example of crosstab using pandas.  \n",
    "We first make the call, then the second line print the outputs to screen."
   ]
  },
  {
   "cell_type": "code",
   "execution_count": 13,
   "id": "961684cb",
   "metadata": {
    "slideshow": {
     "slide_type": "fragment"
    }
   },
   "outputs": [
    {
     "name": "stdout",
     "output_type": "stream",
     "text": [
      "parents     great_pret  pretentious  usual\n",
      "recommend                                 \n",
      "not_recom         1440         1440   1440\n",
      "priority           858         1484   1924\n",
      "recommend            0            0      2\n",
      "spec_prior        2022         1264    758\n",
      "very_recom           0          132    196\n"
     ]
    }
   ],
   "source": [
    "table = pd.crosstab(df.recommend, df.parents)\n",
    "print(table)"
   ]
  },
  {
   "cell_type": "markdown",
   "id": "d642ed00",
   "metadata": {
    "slideshow": {
     "slide_type": "slide"
    }
   },
   "source": [
    "### ACRO crosstab\n",
    "This is an example of crosstab using ACRO.  \n",
    "The INFO lines show the researcher what will be reported to the output checkers.\n",
    "Then the (suppressed as necessary)  table is shown via. the print command as before."
   ]
  },
  {
   "cell_type": "code",
   "execution_count": 14,
   "id": "bb4b2677",
   "metadata": {
    "scrolled": true,
    "slideshow": {
     "slide_type": "fragment"
    }
   },
   "outputs": [
    {
     "name": "stderr",
     "output_type": "stream",
     "text": [
      "INFO:acro:get_summary(): fail; threshold: 4 cells suppressed; \n",
      "INFO:acro:outcome_df:\n",
      "parents      great_pret  pretentious        usual\n",
      "recommend                                        \n",
      "not_recom            ok           ok           ok\n",
      "priority             ok           ok           ok\n",
      "recommend   threshold;   threshold;   threshold; \n",
      "spec_prior           ok           ok           ok\n",
      "very_recom  threshold;            ok           ok\n",
      "INFO:acro:records:add(): output_0\n"
     ]
    },
    {
     "name": "stdout",
     "output_type": "stream",
     "text": [
      "parents     great_pret  pretentious   usual\n",
      "recommend                                  \n",
      "not_recom       1440.0       1440.0  1440.0\n",
      "priority         858.0       1484.0  1924.0\n",
      "recommend          NaN          NaN     NaN\n",
      "spec_prior      2022.0       1264.0   758.0\n",
      "very_recom         NaN        132.0   196.0\n"
     ]
    }
   ],
   "source": [
    "safe_table = acro.crosstab(df.recommend, df.parents)\n",
    "print(safe_table)"
   ]
  },
  {
   "cell_type": "markdown",
   "id": "8b603548",
   "metadata": {
    "slideshow": {
     "slide_type": "slide"
    }
   },
   "source": [
    "### ACRO crosstab with aggregation function"
   ]
  },
  {
   "cell_type": "code",
   "execution_count": 15,
   "id": "298d2b40",
   "metadata": {
    "slideshow": {
     "slide_type": "fragment"
    }
   },
   "outputs": [
    {
     "name": "stderr",
     "output_type": "stream",
     "text": [
      "INFO:acro:get_summary(): fail; threshold: 1 cells suppressed; p-ratio: 4 cells suppressed; nk-rule: 4 cells suppressed; \n",
      "INFO:acro:outcome_df:\n",
      "parents             great_pret         pretentious  \\\n",
      "recommend                                            \n",
      "not_recom                   ok                  ok   \n",
      "priority                    ok                  ok   \n",
      "recommend   p-ratio; nk-rule;   p-ratio; nk-rule;    \n",
      "spec_prior                  ok                  ok   \n",
      "very_recom  p-ratio; nk-rule;                   ok   \n",
      "\n",
      "parents                             usual  \n",
      "recommend                                  \n",
      "not_recom                              ok  \n",
      "priority                               ok  \n",
      "recommend   threshold; p-ratio; nk-rule;   \n",
      "spec_prior                             ok  \n",
      "very_recom                             ok  \n",
      "INFO:acro:records:add(): output_1\n"
     ]
    },
    {
     "name": "stdout",
     "output_type": "stream",
     "text": [
      "parents     great_pret  pretentious     usual\n",
      "recommend                                    \n",
      "not_recom     3.095833     3.152778  3.136111\n",
      "priority      2.609557     3.022237  3.130457\n",
      "recommend          NaN          NaN       NaN\n",
      "spec_prior    3.305638     3.331487  3.335092\n",
      "very_recom         NaN     2.128788  2.209184\n"
     ]
    }
   ],
   "source": [
    "safe_table = acro.crosstab(df.recommend, df.parents, values=df.children, aggfunc=\"mean\")\n",
    "print(safe_table)"
   ]
  },
  {
   "cell_type": "markdown",
   "id": "d66e565b",
   "metadata": {
    "slideshow": {
     "slide_type": "slide"
    }
   },
   "source": [
    "### ACRO pivot_table\n",
    "This is an example of pivot table using ACRO.  \n",
    "- Some researchers may prefer this to using crosstab.   \n",
    "- Again the call syntax is identical to the pandas \"pd.pivot_table\"\n",
    "- in this case the output is non-disclosive"
   ]
  },
  {
   "cell_type": "code",
   "execution_count": 16,
   "id": "966c1a9b",
   "metadata": {
    "slideshow": {
     "slide_type": "fragment"
    }
   },
   "outputs": [
    {
     "name": "stderr",
     "output_type": "stream",
     "text": [
      "INFO:acro:get_summary(): pass\n",
      "INFO:acro:outcome_df:\n",
      "                mean      std\n",
      "            children children\n",
      "parents                      \n",
      "great_pret        ok       ok\n",
      "pretentious       ok       ok\n",
      "usual             ok       ok\n",
      "INFO:acro:records:add(): output_2\n"
     ]
    },
    {
     "name": "stdout",
     "output_type": "stream",
     "text": [
      "                 mean       std\n",
      "             children  children\n",
      "parents                        \n",
      "great_pret   3.097454  2.196946\n",
      "pretentious  3.128935  2.245790\n",
      "usual        3.125463  2.237258\n"
     ]
    }
   ],
   "source": [
    "table = acro.pivot_table(\n",
    "    df, index=[\"parents\"], values=[\"children\"], aggfunc=[\"mean\", \"std\"]\n",
    ")\n",
    "print(table)"
   ]
  },
  {
   "cell_type": "markdown",
   "id": "8446fa99-c073-48b8-875e-700dfa17ea0c",
   "metadata": {
    "slideshow": {
     "slide_type": "slide"
    }
   },
   "source": [
    "# Regression examples using ACRO\n",
    "\n",
    "Again there is an industry-standard package in python, this time called **statsmodels**.\n",
    "- The examples below illustrate the use of the ACRO wrapper standard statsmodel functions\n",
    "- Note that statsmodels can be called using an 'R-like' format (using an 'r' suffix on the command names)\n",
    "- most statsmodels functiobns return a \"results object\" which has a \"summary\" function that produces printable/saveable outputs \n",
    "\n",
    "### Start by manipulating the nursery data to get two numeric variables\n",
    "- The 'recommend' column is converted to an integer scale"
   ]
  },
  {
   "cell_type": "code",
   "execution_count": 16,
   "id": "72aefb22",
   "metadata": {
    "slideshow": {
     "slide_type": "slide"
    }
   },
   "outputs": [],
   "source": [
    "df[\"recommend\"].replace(\n",
    "    to_replace={\n",
    "        \"not_recom\": \"0\",\n",
    "        \"recommend\": \"1\",\n",
    "        \"very_recom\": \"2\",\n",
    "        \"priority\": \"3\",\n",
    "        \"spec_prior\": \"4\",\n",
    "    },\n",
    "    inplace=True,\n",
    ")\n",
    "df[\"recommend\"] = pd.to_numeric(df[\"recommend\"])\n",
    "\n",
    "new_df = df[[\"recommend\", \"children\"]]\n",
    "new_df = new_df.dropna()"
   ]
  },
  {
   "cell_type": "markdown",
   "id": "3ef880e6-726f-4a0b-9bcd-da8861dbd5a7",
   "metadata": {
    "slideshow": {
     "slide_type": "slide"
    }
   },
   "source": [
    "### ACRO OLS \n",
    "This is an example of ordinary least square regression using ACRO.  \n",
    "- Above recommend column was converted form categorical to numeric. \n",
    "- Now we perform a the linear regression between recommend and children. \n",
    "- This version includes a constant (intercept)\n",
    "- This is just to show how the regression is done using ACRO.  \n",
    "- **No correlation is expected to be seen by using these variables**"
   ]
  },
  {
   "cell_type": "code",
   "execution_count": 17,
   "id": "2f462e42",
   "metadata": {
    "scrolled": true,
    "slideshow": {
     "slide_type": "slide"
    }
   },
   "outputs": [
    {
     "name": "stderr",
     "output_type": "stream",
     "text": [
      "INFO:acro:ols() outcome: pass; dof=12958.0 >= 10\n",
      "INFO:acro:records:add(): output_0\n"
     ]
    },
    {
     "name": "stdout",
     "output_type": "stream",
     "text": [
      "*************\n"
     ]
    },
    {
     "data": {
      "text/html": [
       "<table class=\"simpletable\">\n",
       "<caption>OLS Regression Results</caption>\n",
       "<tr>\n",
       "  <th>Dep. Variable:</th>        <td>recommend</td>    <th>  R-squared:         </th> <td>   0.001</td> \n",
       "</tr>\n",
       "<tr>\n",
       "  <th>Model:</th>                   <td>OLS</td>       <th>  Adj. R-squared:    </th> <td>   0.001</td> \n",
       "</tr>\n",
       "<tr>\n",
       "  <th>Method:</th>             <td>Least Squares</td>  <th>  F-statistic:       </th> <td>   8.550</td> \n",
       "</tr>\n",
       "<tr>\n",
       "  <th>Date:</th>             <td>Sun, 06 Aug 2023</td> <th>  Prob (F-statistic):</th>  <td>0.00346</td> \n",
       "</tr>\n",
       "<tr>\n",
       "  <th>Time:</th>                 <td>14:25:12</td>     <th>  Log-Likelihood:    </th> <td> -25123.</td> \n",
       "</tr>\n",
       "<tr>\n",
       "  <th>No. Observations:</th>      <td> 12960</td>      <th>  AIC:               </th> <td>5.025e+04</td>\n",
       "</tr>\n",
       "<tr>\n",
       "  <th>Df Residuals:</th>          <td> 12958</td>      <th>  BIC:               </th> <td>5.027e+04</td>\n",
       "</tr>\n",
       "<tr>\n",
       "  <th>Df Model:</th>              <td>     1</td>      <th>                     </th>     <td> </td>    \n",
       "</tr>\n",
       "<tr>\n",
       "  <th>Covariance Type:</th>      <td>nonrobust</td>    <th>                     </th>     <td> </td>    \n",
       "</tr>\n",
       "</table>\n",
       "<table class=\"simpletable\">\n",
       "<tr>\n",
       "      <td></td>        <th>coef</th>     <th>std err</th>      <th>t</th>      <th>P>|t|</th>  <th>[0.025</th>    <th>0.975]</th>  \n",
       "</tr>\n",
       "<tr>\n",
       "  <th>const</th>    <td>    2.2266</td> <td>    0.025</td> <td>   88.253</td> <td> 0.000</td> <td>    2.177</td> <td>    2.276</td>\n",
       "</tr>\n",
       "<tr>\n",
       "  <th>children</th> <td>    0.0190</td> <td>    0.007</td> <td>    2.924</td> <td> 0.003</td> <td>    0.006</td> <td>    0.032</td>\n",
       "</tr>\n",
       "</table>\n",
       "<table class=\"simpletable\">\n",
       "<tr>\n",
       "  <th>Omnibus:</th>       <td>76842.193</td> <th>  Durbin-Watson:     </th> <td>   2.883</td>\n",
       "</tr>\n",
       "<tr>\n",
       "  <th>Prob(Omnibus):</th>  <td> 0.000</td>   <th>  Jarque-Bera (JB):  </th> <td>1742.399</td>\n",
       "</tr>\n",
       "<tr>\n",
       "  <th>Skew:</th>           <td>-0.485</td>   <th>  Prob(JB):          </th> <td>    0.00</td>\n",
       "</tr>\n",
       "<tr>\n",
       "  <th>Kurtosis:</th>       <td> 1.488</td>   <th>  Cond. No.          </th> <td>    6.91</td>\n",
       "</tr>\n",
       "</table><br/><br/>Notes:<br/>[1] Standard Errors assume that the covariance matrix of the errors is correctly specified."
      ],
      "text/plain": [
       "<class 'statsmodels.iolib.summary.Summary'>\n",
       "\"\"\"\n",
       "                            OLS Regression Results                            \n",
       "==============================================================================\n",
       "Dep. Variable:              recommend   R-squared:                       0.001\n",
       "Model:                            OLS   Adj. R-squared:                  0.001\n",
       "Method:                 Least Squares   F-statistic:                     8.550\n",
       "Date:                Sun, 06 Aug 2023   Prob (F-statistic):            0.00346\n",
       "Time:                        14:25:12   Log-Likelihood:                -25123.\n",
       "No. Observations:               12960   AIC:                         5.025e+04\n",
       "Df Residuals:                   12958   BIC:                         5.027e+04\n",
       "Df Model:                           1                                         \n",
       "Covariance Type:            nonrobust                                         \n",
       "==============================================================================\n",
       "                 coef    std err          t      P>|t|      [0.025      0.975]\n",
       "------------------------------------------------------------------------------\n",
       "const          2.2266      0.025     88.253      0.000       2.177       2.276\n",
       "children       0.0190      0.007      2.924      0.003       0.006       0.032\n",
       "==============================================================================\n",
       "Omnibus:                    76842.193   Durbin-Watson:                   2.883\n",
       "Prob(Omnibus):                  0.000   Jarque-Bera (JB):             1742.399\n",
       "Skew:                          -0.485   Prob(JB):                         0.00\n",
       "Kurtosis:                       1.488   Cond. No.                         6.91\n",
       "==============================================================================\n",
       "\n",
       "Notes:\n",
       "[1] Standard Errors assume that the covariance matrix of the errors is correctly specified.\n",
       "\"\"\""
      ]
     },
     "execution_count": 17,
     "metadata": {},
     "output_type": "execute_result"
    }
   ],
   "source": [
    "y = new_df[\"recommend\"]\n",
    "x = new_df[\"children\"]\n",
    "x = add_constant(x)\n",
    "\n",
    "results = acro.ols(y, x)\n",
    "results.summary()"
   ]
  },
  {
   "cell_type": "markdown",
   "id": "0c826271",
   "metadata": {
    "slideshow": {
     "slide_type": "slide"
    }
   },
   "source": [
    "### ACRO OLSR\n",
    "This is an example of ordinary least squares regression using the 'R-like' statsmodels api, i.e. from a formula and dataframe using ACRO "
   ]
  },
  {
   "cell_type": "code",
   "execution_count": 19,
   "id": "cc90f7c9",
   "metadata": {
    "slideshow": {
     "slide_type": "slide"
    }
   },
   "outputs": [
    {
     "name": "stderr",
     "output_type": "stream",
     "text": [
      "INFO:acro:olsr() outcome: pass; dof=12958.0 >= 10\n"
     ]
    },
    {
     "name": "stderr",
     "output_type": "stream",
     "text": [
      "INFO:acro:records:add(): output_4\n"
     ]
    },
    {
     "name": "stdout",
     "output_type": "stream",
     "text": [
      "                            OLS Regression Results                            \n",
      "==============================================================================\n",
      "Dep. Variable:              recommend   R-squared:                       0.000\n",
      "Model:                            OLS   Adj. R-squared:                  0.000\n",
      "Method:                 Least Squares   F-statistic:                     5.412\n",
      "Date:                Sat, 05 Aug 2023   Prob (F-statistic):             0.0200\n",
      "Time:                        23:20:21   Log-Likelihood:                -25125.\n",
      "No. Observations:               12960   AIC:                         5.025e+04\n",
      "Df Residuals:                   12958   BIC:                         5.027e+04\n",
      "Df Model:                           1                                         \n",
      "Covariance Type:            nonrobust                                         \n",
      "==============================================================================\n",
      "                 coef    std err          t      P>|t|      [0.025      0.975]\n",
      "------------------------------------------------------------------------------\n",
      "Intercept      2.2383      0.025     88.069      0.000       2.188       2.288\n",
      "children       0.0154      0.007      2.326      0.020       0.002       0.028\n",
      "==============================================================================\n",
      "Omnibus:                    76685.405   Durbin-Watson:                   2.883\n",
      "Prob(Omnibus):                  0.000   Jarque-Bera (JB):             1743.003\n",
      "Skew:                          -0.485   Prob(JB):                         0.00\n",
      "Kurtosis:                       1.487   Cond. No.                         6.89\n",
      "==============================================================================\n",
      "\n",
      "Notes:\n",
      "[1] Standard Errors assume that the covariance matrix of the errors is correctly specified.\n"
     ]
    }
   ],
   "source": [
    "results = acro.olsr(formula=\"recommend ~ children\", data=new_df)\n",
    "print(results.summary())"
   ]
  },
  {
   "cell_type": "markdown",
   "id": "2816eac7",
   "metadata": {
    "slideshow": {
     "slide_type": "slide"
    }
   },
   "source": [
    "### ACRO Probit\n",
    "This is an example of probit regression using ACRO  \n",
    "We use a different combination of variables from the original dataset.\n",
    "\n",
    "Again, we support the use of R-lijke formulas - because we suprort R "
   ]
  },
  {
   "cell_type": "code",
   "execution_count": 20,
   "id": "5b1a1611",
   "metadata": {
    "slideshow": {
     "slide_type": "slide"
    }
   },
   "outputs": [
    {
     "name": "stderr",
     "output_type": "stream",
     "text": [
      "INFO:acro:probit() outcome: pass; dof=12958.0 >= 10\n",
      "INFO:acro:records:add(): output_5\n"
     ]
    },
    {
     "name": "stdout",
     "output_type": "stream",
     "text": [
      "********************\n",
      "Optimization terminated successfully.\n",
      "         Current function value: 0.693147\n",
      "         Iterations 2\n",
      "                          Probit Regression Results                           \n",
      "==============================================================================\n",
      "Dep. Variable:                finance   No. Observations:                12960\n",
      "Model:                         Probit   Df Residuals:                    12958\n",
      "Method:                           MLE   Df Model:                            1\n",
      "Date:                Sat, 05 Aug 2023   Pseudo R-squ.:               1.386e-08\n",
      "Time:                        23:20:21   Log-Likelihood:                -8983.2\n",
      "converged:                       True   LL-Null:                       -8983.2\n",
      "Covariance Type:            nonrobust   LLR p-value:                    0.9874\n",
      "==============================================================================\n",
      "                 coef    std err          z      P>|z|      [0.025      0.975]\n",
      "------------------------------------------------------------------------------\n",
      "const         -0.0002      0.019     -0.013      0.990      -0.037       0.037\n",
      "children    7.803e-05      0.005      0.016      0.987      -0.010       0.010\n",
      "==============================================================================\n"
     ]
    }
   ],
   "source": [
    "new_df = df[[\"finance\", \"children\"]]\n",
    "new_df = new_df.dropna()\n",
    "\n",
    "y = new_df[\"finance\"].astype(\"category\").cat.codes  # numeric\n",
    "y.name = \"finance\"\n",
    "x = new_df[\"children\"]\n",
    "x = add_constant(x)\n",
    "\n",
    "results = acro.probit(y, x)\n",
    "print(results.summary())"
   ]
  },
  {
   "cell_type": "markdown",
   "id": "f38b4334",
   "metadata": {
    "slideshow": {
     "slide_type": "slide"
    }
   },
   "source": [
    "### ACRO Logit\n",
    "This is an example of logistic regression using ACRO using the statmodels function"
   ]
  },
  {
   "cell_type": "code",
   "execution_count": 21,
   "id": "dcf30f8f",
   "metadata": {
    "slideshow": {
     "slide_type": "slide"
    }
   },
   "outputs": [
    {
     "name": "stderr",
     "output_type": "stream",
     "text": [
      "INFO:acro:logit() outcome: pass; dof=12958.0 >= 10\n",
      "INFO:acro:records:add(): output_6\n"
     ]
    },
    {
     "name": "stdout",
     "output_type": "stream",
     "text": [
      "Optimization terminated successfully.\n",
      "         Current function value: 0.693147\n",
      "         Iterations 2\n"
     ]
    },
    {
     "data": {
      "text/html": [
       "<table class=\"simpletable\">\n",
       "<caption>Logit Regression Results</caption>\n",
       "<tr>\n",
       "  <th>Dep. Variable:</th>        <td>finance</td>     <th>  No. Observations:  </th>  <td> 12960</td>  \n",
       "</tr>\n",
       "<tr>\n",
       "  <th>Model:</th>                 <td>Logit</td>      <th>  Df Residuals:      </th>  <td> 12958</td>  \n",
       "</tr>\n",
       "<tr>\n",
       "  <th>Method:</th>                 <td>MLE</td>       <th>  Df Model:          </th>  <td>     1</td>  \n",
       "</tr>\n",
       "<tr>\n",
       "  <th>Date:</th>            <td>Sat, 05 Aug 2023</td> <th>  Pseudo R-squ.:     </th> <td>1.386e-08</td>\n",
       "</tr>\n",
       "<tr>\n",
       "  <th>Time:</th>                <td>23:20:21</td>     <th>  Log-Likelihood:    </th> <td> -8983.2</td> \n",
       "</tr>\n",
       "<tr>\n",
       "  <th>converged:</th>             <td>True</td>       <th>  LL-Null:           </th> <td> -8983.2</td> \n",
       "</tr>\n",
       "<tr>\n",
       "  <th>Covariance Type:</th>     <td>nonrobust</td>    <th>  LLR p-value:       </th>  <td>0.9874</td>  \n",
       "</tr>\n",
       "</table>\n",
       "<table class=\"simpletable\">\n",
       "<tr>\n",
       "      <td></td>        <th>coef</th>     <th>std err</th>      <th>z</th>      <th>P>|z|</th>  <th>[0.025</th>    <th>0.975]</th>  \n",
       "</tr>\n",
       "<tr>\n",
       "  <th>const</th>    <td>   -0.0004</td> <td>    0.030</td> <td>   -0.013</td> <td> 0.990</td> <td>   -0.060</td> <td>    0.059</td>\n",
       "</tr>\n",
       "<tr>\n",
       "  <th>children</th> <td>    0.0001</td> <td>    0.008</td> <td>    0.016</td> <td> 0.987</td> <td>   -0.015</td> <td>    0.016</td>\n",
       "</tr>\n",
       "</table>"
      ],
      "text/plain": [
       "<class 'statsmodels.iolib.summary.Summary'>\n",
       "\"\"\"\n",
       "                           Logit Regression Results                           \n",
       "==============================================================================\n",
       "Dep. Variable:                finance   No. Observations:                12960\n",
       "Model:                          Logit   Df Residuals:                    12958\n",
       "Method:                           MLE   Df Model:                            1\n",
       "Date:                Sat, 05 Aug 2023   Pseudo R-squ.:               1.386e-08\n",
       "Time:                        23:20:21   Log-Likelihood:                -8983.2\n",
       "converged:                       True   LL-Null:                       -8983.2\n",
       "Covariance Type:            nonrobust   LLR p-value:                    0.9874\n",
       "==============================================================================\n",
       "                 coef    std err          z      P>|z|      [0.025      0.975]\n",
       "------------------------------------------------------------------------------\n",
       "const         -0.0004      0.030     -0.013      0.990      -0.060       0.059\n",
       "children       0.0001      0.008      0.016      0.987      -0.015       0.016\n",
       "==============================================================================\n",
       "\"\"\""
      ]
     },
     "execution_count": 21,
     "metadata": {},
     "output_type": "execute_result"
    }
   ],
   "source": [
    "results = acro.logit(y, x)\n",
    "results.summary()"
   ]
  },
  {
   "cell_type": "markdown",
   "id": "9e554eea",
   "metadata": {
    "slideshow": {
     "slide_type": "slide"
    }
   },
   "source": [
    "# ACRO functionality to let users manage their outputs\n",
    "\n",
    "### 1: List current ACRO outputs\n",
    "This is an example of using the print_output function to list all the outputs created so far"
   ]
  },
  {
   "cell_type": "code",
   "execution_count": 22,
   "id": "ec960039",
   "metadata": {
    "scrolled": true,
    "slideshow": {
     "slide_type": "fragment"
    }
   },
   "outputs": [
    {
     "name": "stdout",
     "output_type": "stream",
     "text": [
      "uid: output_0\n",
      "status: fail\n",
      "type: table\n",
      "properties: {'method': 'crosstab'}\n",
      "sdc: {'summary': {'suppressed': True, 'negative': 0, 'missing': 0, 'threshold': 4, 'p-ratio': 0, 'nk-rule': 0}, 'cells': {'negative': [], 'missing': [], 'threshold': [[2, 0], [2, 1], [2, 2], [4, 0]], 'p-ratio': [], 'nk-rule': []}}\n",
      "command: safe_table = acro.crosstab(df.recommend, df.parents)\n",
      "summary: fail; threshold: 4 cells suppressed; \n",
      "outcome: parents      great_pret  pretentious        usual\n",
      "recommend                                        \n",
      "not_recom            ok           ok           ok\n",
      "priority             ok           ok           ok\n",
      "recommend   threshold;   threshold;   threshold; \n",
      "spec_prior           ok           ok           ok\n",
      "very_recom  threshold;            ok           ok\n",
      "output: [parents     great_pret  pretentious   usual\n",
      "recommend                                  \n",
      "not_recom       1440.0       1440.0  1440.0\n",
      "priority         858.0       1484.0  1924.0\n",
      "recommend          NaN          NaN     NaN\n",
      "spec_prior      2022.0       1264.0   758.0\n",
      "very_recom         NaN        132.0   196.0]\n",
      "timestamp: 2023-08-05T23:20:20.848790\n",
      "comments: []\n",
      "exception: \n",
      "\n",
      "uid: output_1\n",
      "status: fail\n",
      "type: table\n",
      "properties: {'method': 'crosstab'}\n",
      "sdc: {'summary': {'suppressed': True, 'negative': 0, 'missing': 0, 'threshold': 1, 'p-ratio': 4, 'nk-rule': 4}, 'cells': {'negative': [], 'missing': [], 'threshold': [[2, 2]], 'p-ratio': [[2, 0], [2, 1], [2, 2], [4, 0]], 'nk-rule': [[2, 0], [2, 1], [2, 2], [4, 0]]}}\n",
      "command: safe_table = acro.crosstab(df.recommend, df.parents, values=df.children, aggfunc=\"mean\")\n",
      "summary: fail; threshold: 1 cells suppressed; p-ratio: 4 cells suppressed; nk-rule: 4 cells suppressed; \n",
      "outcome: parents             great_pret         pretentious  \\\n",
      "recommend                                            \n",
      "not_recom                   ok                  ok   \n",
      "priority                    ok                  ok   \n",
      "recommend   p-ratio; nk-rule;   p-ratio; nk-rule;    \n",
      "spec_prior                  ok                  ok   \n",
      "very_recom  p-ratio; nk-rule;                   ok   \n",
      "\n",
      "parents                             usual  \n",
      "recommend                                  \n",
      "not_recom                              ok  \n",
      "priority                               ok  \n",
      "recommend   threshold; p-ratio; nk-rule;   \n",
      "spec_prior                             ok  \n",
      "very_recom                             ok  \n",
      "output: [parents     great_pret  pretentious     usual\n",
      "recommend                                    \n",
      "not_recom     3.095833     3.152778  3.136111\n",
      "priority      2.609557     3.022237  3.130457\n",
      "recommend          NaN          NaN       NaN\n",
      "spec_prior    3.305638     3.331487  3.335092\n",
      "very_recom         NaN     2.128788  2.209184]\n",
      "timestamp: 2023-08-05T23:20:21.009730\n",
      "comments: []\n",
      "exception: \n",
      "\n",
      "uid: output_2\n",
      "status: pass\n",
      "type: table\n",
      "properties: {'method': 'pivot_table'}\n",
      "sdc: {'summary': {'suppressed': True, 'negative': 0, 'missing': 0, 'threshold': 0, 'p-ratio': 0, 'nk-rule': 0}, 'cells': {'negative': [], 'missing': [], 'threshold': [], 'p-ratio': [], 'nk-rule': []}}\n",
      "command: table = acro.pivot_table(\n",
      "summary: pass\n",
      "outcome:                 mean      std\n",
      "            children children\n",
      "parents                      \n",
      "great_pret        ok       ok\n",
      "pretentious       ok       ok\n",
      "usual             ok       ok\n",
      "output: [                 mean       std\n",
      "             children  children\n",
      "parents                        \n",
      "great_pret   3.097454  2.196946\n",
      "pretentious  3.128935  2.245790\n",
      "usual        3.125463  2.237258]\n",
      "timestamp: 2023-08-05T23:20:21.129758\n",
      "comments: []\n",
      "exception: \n",
      "\n",
      "uid: output_3\n",
      "status: pass\n",
      "type: regression\n",
      "properties: {'method': 'ols', 'dof': 12958.0}\n",
      "sdc: {}\n",
      "command: results = acro.ols(y, x)\n",
      "summary: pass; dof=12958.0 >= 10\n",
      "outcome: Empty DataFrame\n",
      "Columns: []\n",
      "Index: []\n",
      "output: [                          recommend           R-squared:      0.000\n",
      "Dep. Variable:                                                     \n",
      "Model:                          OLS      Adj. R-squared:      0.000\n",
      "Method:               Least Squares         F-statistic:      5.412\n",
      "Date:              Sat, 05 Aug 2023  Prob (F-statistic):      0.020\n",
      "Time:                      23:20:21      Log-Likelihood: -25125.000\n",
      "No. Observations:             12960                 AIC:  50250.000\n",
      "Df Residuals:                 12958                 BIC:  50270.000\n",
      "Df Model:                         1                  NaN        NaN\n",
      "Covariance Type:          nonrobust                  NaN        NaN,             coef  std err       t  P>|t|  [0.025  0.975]\n",
      "const     2.2383    0.025  88.069   0.00   2.188   2.288\n",
      "children  0.0154    0.007   2.326   0.02   0.002   0.028,                 76685.405     Durbin-Watson:     2.883\n",
      "Omnibus:                                              \n",
      "Prob(Omnibus):      0.000  Jarque-Bera (JB):  1743.003\n",
      "Skew:              -0.485          Prob(JB):     0.000\n",
      "Kurtosis:           1.487          Cond. No.     6.890]\n",
      "timestamp: 2023-08-05T23:20:21.445658\n",
      "comments: []\n",
      "exception: \n",
      "\n",
      "uid: output_4\n",
      "status: pass\n",
      "type: regression\n",
      "properties: {'method': 'olsr', 'dof': 12958.0}\n",
      "sdc: {}\n",
      "command: results = acro.olsr(formula=\"recommend ~ children\", data=new_df)\n",
      "summary: pass; dof=12958.0 >= 10\n",
      "outcome: Empty DataFrame\n",
      "Columns: []\n",
      "Index: []\n",
      "output: [                          recommend           R-squared:      0.000\n",
      "Dep. Variable:                                                     \n",
      "Model:                          OLS      Adj. R-squared:      0.000\n",
      "Method:               Least Squares         F-statistic:      5.412\n",
      "Date:              Sat, 05 Aug 2023  Prob (F-statistic):      0.020\n",
      "Time:                      23:20:21      Log-Likelihood: -25125.000\n",
      "No. Observations:             12960                 AIC:  50250.000\n",
      "Df Residuals:                 12958                 BIC:  50270.000\n",
      "Df Model:                         1                  NaN        NaN\n",
      "Covariance Type:          nonrobust                  NaN        NaN,              coef  std err       t  P>|t|  [0.025  0.975]\n",
      "Intercept  2.2383    0.025  88.069   0.00   2.188   2.288\n",
      "children   0.0154    0.007   2.326   0.02   0.002   0.028,                 76685.405     Durbin-Watson:     2.883\n",
      "Omnibus:                                              \n",
      "Prob(Omnibus):      0.000  Jarque-Bera (JB):  1743.003\n",
      "Skew:              -0.485          Prob(JB):     0.000\n",
      "Kurtosis:           1.487          Cond. No.     6.890]\n",
      "timestamp: 2023-08-05T23:20:21.543354\n",
      "comments: []\n",
      "exception: \n",
      "\n",
      "uid: output_5\n",
      "status: pass\n",
      "type: regression\n",
      "properties: {'method': 'probit', 'dof': 12958.0}\n",
      "sdc: {}\n",
      "command: results = acro.probit(y, x)\n",
      "summary: pass; dof=12958.0 >= 10\n",
      "outcome: Empty DataFrame\n",
      "Columns: []\n",
      "Index: []\n",
      "output: [                           finance No. Observations:         12960\n",
      "Dep. Variable:                                                    \n",
      "Model:                      Probit     Df Residuals:  1.295800e+04\n",
      "Method:                        MLE         Df Model:  1.000000e+00\n",
      "Date:             Sat, 05 Aug 2023    Pseudo R-squ.:  1.386000e-08\n",
      "Time:                     23:20:21   Log-Likelihood: -8.983200e+03\n",
      "converged:                    True          LL-Null: -8.983200e+03\n",
      "Covariance Type:         nonrobust      LLR p-value:  9.874000e-01,               coef  std err      z  P>|z|  [0.025  0.975]\n",
      "const    -0.000200    0.019 -0.013  0.990  -0.037   0.037\n",
      "children  0.000078    0.005  0.016  0.987  -0.010   0.010]\n",
      "timestamp: 2023-08-05T23:20:21.651465\n",
      "comments: []\n",
      "exception: \n",
      "\n",
      "uid: output_6\n",
      "status: pass\n",
      "type: regression\n",
      "properties: {'method': 'logit', 'dof': 12958.0}\n",
      "sdc: {}\n",
      "command: results = acro.logit(y, x)\n",
      "summary: pass; dof=12958.0 >= 10\n",
      "outcome: Empty DataFrame\n",
      "Columns: []\n",
      "Index: []\n",
      "output: [                           finance No. Observations:         12960\n",
      "Dep. Variable:                                                    \n",
      "Model:                       Logit     Df Residuals:  1.295800e+04\n",
      "Method:                        MLE         Df Model:  1.000000e+00\n",
      "Date:             Sat, 05 Aug 2023    Pseudo R-squ.:  1.386000e-08\n",
      "Time:                     23:20:21   Log-Likelihood: -8.983200e+03\n",
      "converged:                    True          LL-Null: -8.983200e+03\n",
      "Covariance Type:         nonrobust      LLR p-value:  9.874000e-01,             coef  std err      z  P>|z|  [0.025  0.975]\n",
      "const    -0.0004    0.030 -0.013  0.990  -0.060   0.059\n",
      "children  0.0001    0.008  0.016  0.987  -0.015   0.016]\n",
      "timestamp: 2023-08-05T23:20:21.739666\n",
      "comments: []\n",
      "exception: \n",
      "\n",
      "\n"
     ]
    },
    {
     "data": {
      "text/plain": [
       "'uid: output_0\\nstatus: fail\\ntype: table\\nproperties: {\\'method\\': \\'crosstab\\'}\\nsdc: {\\'summary\\': {\\'suppressed\\': True, \\'negative\\': 0, \\'missing\\': 0, \\'threshold\\': 4, \\'p-ratio\\': 0, \\'nk-rule\\': 0}, \\'cells\\': {\\'negative\\': [], \\'missing\\': [], \\'threshold\\': [[2, 0], [2, 1], [2, 2], [4, 0]], \\'p-ratio\\': [], \\'nk-rule\\': []}}\\ncommand: safe_table = acro.crosstab(df.recommend, df.parents)\\nsummary: fail; threshold: 4 cells suppressed; \\noutcome: parents      great_pret  pretentious        usual\\nrecommend                                        \\nnot_recom            ok           ok           ok\\npriority             ok           ok           ok\\nrecommend   threshold;   threshold;   threshold; \\nspec_prior           ok           ok           ok\\nvery_recom  threshold;            ok           ok\\noutput: [parents     great_pret  pretentious   usual\\nrecommend                                  \\nnot_recom       1440.0       1440.0  1440.0\\npriority         858.0       1484.0  1924.0\\nrecommend          NaN          NaN     NaN\\nspec_prior      2022.0       1264.0   758.0\\nvery_recom         NaN        132.0   196.0]\\ntimestamp: 2023-08-05T23:20:20.848790\\ncomments: []\\nexception: \\n\\nuid: output_1\\nstatus: fail\\ntype: table\\nproperties: {\\'method\\': \\'crosstab\\'}\\nsdc: {\\'summary\\': {\\'suppressed\\': True, \\'negative\\': 0, \\'missing\\': 0, \\'threshold\\': 1, \\'p-ratio\\': 4, \\'nk-rule\\': 4}, \\'cells\\': {\\'negative\\': [], \\'missing\\': [], \\'threshold\\': [[2, 2]], \\'p-ratio\\': [[2, 0], [2, 1], [2, 2], [4, 0]], \\'nk-rule\\': [[2, 0], [2, 1], [2, 2], [4, 0]]}}\\ncommand: safe_table = acro.crosstab(df.recommend, df.parents, values=df.children, aggfunc=\"mean\")\\nsummary: fail; threshold: 1 cells suppressed; p-ratio: 4 cells suppressed; nk-rule: 4 cells suppressed; \\noutcome: parents             great_pret         pretentious  \\\\\\nrecommend                                            \\nnot_recom                   ok                  ok   \\npriority                    ok                  ok   \\nrecommend   p-ratio; nk-rule;   p-ratio; nk-rule;    \\nspec_prior                  ok                  ok   \\nvery_recom  p-ratio; nk-rule;                   ok   \\n\\nparents                             usual  \\nrecommend                                  \\nnot_recom                              ok  \\npriority                               ok  \\nrecommend   threshold; p-ratio; nk-rule;   \\nspec_prior                             ok  \\nvery_recom                             ok  \\noutput: [parents     great_pret  pretentious     usual\\nrecommend                                    \\nnot_recom     3.095833     3.152778  3.136111\\npriority      2.609557     3.022237  3.130457\\nrecommend          NaN          NaN       NaN\\nspec_prior    3.305638     3.331487  3.335092\\nvery_recom         NaN     2.128788  2.209184]\\ntimestamp: 2023-08-05T23:20:21.009730\\ncomments: []\\nexception: \\n\\nuid: output_2\\nstatus: pass\\ntype: table\\nproperties: {\\'method\\': \\'pivot_table\\'}\\nsdc: {\\'summary\\': {\\'suppressed\\': True, \\'negative\\': 0, \\'missing\\': 0, \\'threshold\\': 0, \\'p-ratio\\': 0, \\'nk-rule\\': 0}, \\'cells\\': {\\'negative\\': [], \\'missing\\': [], \\'threshold\\': [], \\'p-ratio\\': [], \\'nk-rule\\': []}}\\ncommand: table = acro.pivot_table(\\nsummary: pass\\noutcome:                 mean      std\\n            children children\\nparents                      \\ngreat_pret        ok       ok\\npretentious       ok       ok\\nusual             ok       ok\\noutput: [                 mean       std\\n             children  children\\nparents                        \\ngreat_pret   3.097454  2.196946\\npretentious  3.128935  2.245790\\nusual        3.125463  2.237258]\\ntimestamp: 2023-08-05T23:20:21.129758\\ncomments: []\\nexception: \\n\\nuid: output_3\\nstatus: pass\\ntype: regression\\nproperties: {\\'method\\': \\'ols\\', \\'dof\\': 12958.0}\\nsdc: {}\\ncommand: results = acro.ols(y, x)\\nsummary: pass; dof=12958.0 >= 10\\noutcome: Empty DataFrame\\nColumns: []\\nIndex: []\\noutput: [                          recommend           R-squared:      0.000\\nDep. Variable:                                                     \\nModel:                          OLS      Adj. R-squared:      0.000\\nMethod:               Least Squares         F-statistic:      5.412\\nDate:              Sat, 05 Aug 2023  Prob (F-statistic):      0.020\\nTime:                      23:20:21      Log-Likelihood: -25125.000\\nNo. Observations:             12960                 AIC:  50250.000\\nDf Residuals:                 12958                 BIC:  50270.000\\nDf Model:                         1                  NaN        NaN\\nCovariance Type:          nonrobust                  NaN        NaN,             coef  std err       t  P>|t|  [0.025  0.975]\\nconst     2.2383    0.025  88.069   0.00   2.188   2.288\\nchildren  0.0154    0.007   2.326   0.02   0.002   0.028,                 76685.405     Durbin-Watson:     2.883\\nOmnibus:                                              \\nProb(Omnibus):      0.000  Jarque-Bera (JB):  1743.003\\nSkew:              -0.485          Prob(JB):     0.000\\nKurtosis:           1.487          Cond. No.     6.890]\\ntimestamp: 2023-08-05T23:20:21.445658\\ncomments: []\\nexception: \\n\\nuid: output_4\\nstatus: pass\\ntype: regression\\nproperties: {\\'method\\': \\'olsr\\', \\'dof\\': 12958.0}\\nsdc: {}\\ncommand: results = acro.olsr(formula=\"recommend ~ children\", data=new_df)\\nsummary: pass; dof=12958.0 >= 10\\noutcome: Empty DataFrame\\nColumns: []\\nIndex: []\\noutput: [                          recommend           R-squared:      0.000\\nDep. Variable:                                                     \\nModel:                          OLS      Adj. R-squared:      0.000\\nMethod:               Least Squares         F-statistic:      5.412\\nDate:              Sat, 05 Aug 2023  Prob (F-statistic):      0.020\\nTime:                      23:20:21      Log-Likelihood: -25125.000\\nNo. Observations:             12960                 AIC:  50250.000\\nDf Residuals:                 12958                 BIC:  50270.000\\nDf Model:                         1                  NaN        NaN\\nCovariance Type:          nonrobust                  NaN        NaN,              coef  std err       t  P>|t|  [0.025  0.975]\\nIntercept  2.2383    0.025  88.069   0.00   2.188   2.288\\nchildren   0.0154    0.007   2.326   0.02   0.002   0.028,                 76685.405     Durbin-Watson:     2.883\\nOmnibus:                                              \\nProb(Omnibus):      0.000  Jarque-Bera (JB):  1743.003\\nSkew:              -0.485          Prob(JB):     0.000\\nKurtosis:           1.487          Cond. No.     6.890]\\ntimestamp: 2023-08-05T23:20:21.543354\\ncomments: []\\nexception: \\n\\nuid: output_5\\nstatus: pass\\ntype: regression\\nproperties: {\\'method\\': \\'probit\\', \\'dof\\': 12958.0}\\nsdc: {}\\ncommand: results = acro.probit(y, x)\\nsummary: pass; dof=12958.0 >= 10\\noutcome: Empty DataFrame\\nColumns: []\\nIndex: []\\noutput: [                           finance No. Observations:         12960\\nDep. Variable:                                                    \\nModel:                      Probit     Df Residuals:  1.295800e+04\\nMethod:                        MLE         Df Model:  1.000000e+00\\nDate:             Sat, 05 Aug 2023    Pseudo R-squ.:  1.386000e-08\\nTime:                     23:20:21   Log-Likelihood: -8.983200e+03\\nconverged:                    True          LL-Null: -8.983200e+03\\nCovariance Type:         nonrobust      LLR p-value:  9.874000e-01,               coef  std err      z  P>|z|  [0.025  0.975]\\nconst    -0.000200    0.019 -0.013  0.990  -0.037   0.037\\nchildren  0.000078    0.005  0.016  0.987  -0.010   0.010]\\ntimestamp: 2023-08-05T23:20:21.651465\\ncomments: []\\nexception: \\n\\nuid: output_6\\nstatus: pass\\ntype: regression\\nproperties: {\\'method\\': \\'logit\\', \\'dof\\': 12958.0}\\nsdc: {}\\ncommand: results = acro.logit(y, x)\\nsummary: pass; dof=12958.0 >= 10\\noutcome: Empty DataFrame\\nColumns: []\\nIndex: []\\noutput: [                           finance No. Observations:         12960\\nDep. Variable:                                                    \\nModel:                       Logit     Df Residuals:  1.295800e+04\\nMethod:                        MLE         Df Model:  1.000000e+00\\nDate:             Sat, 05 Aug 2023    Pseudo R-squ.:  1.386000e-08\\nTime:                     23:20:21   Log-Likelihood: -8.983200e+03\\nconverged:                    True          LL-Null: -8.983200e+03\\nCovariance Type:         nonrobust      LLR p-value:  9.874000e-01,             coef  std err      z  P>|z|  [0.025  0.975]\\nconst    -0.0004    0.030 -0.013  0.990  -0.060   0.059\\nchildren  0.0001    0.008  0.016  0.987  -0.015   0.016]\\ntimestamp: 2023-08-05T23:20:21.739666\\ncomments: []\\nexception: \\n\\n'"
      ]
     },
     "execution_count": 22,
     "metadata": {},
     "output_type": "execute_result"
    }
   ],
   "source": [
    "acro.print_outputs()"
   ]
  },
  {
   "cell_type": "markdown",
   "id": "f78b5a08",
   "metadata": {
    "slideshow": {
     "slide_type": "slide"
    }
   },
   "source": [
    "### 2: Remove some ACRO outputs before finalising \n",
    "This is an example of deleting some of the ACRO outputs.  \n",
    "The name of the output that needs to be removed should be passed to the function remove_output.  \n",
    "- Currently, all outputs names contain timestamp; that is the time when the output was created.  \n",
    "- The output name can be taken from the outputs listed by the print_outputs function, \n",
    "- or by listing the results and choosing the specific output that needs to be removed"
   ]
  },
  {
   "cell_type": "code",
   "execution_count": 23,
   "id": "e4ee985e",
   "metadata": {
    "slideshow": {
     "slide_type": "fragment"
    }
   },
   "outputs": [
    {
     "name": "stderr",
     "output_type": "stream",
     "text": [
      "INFO:acro:records:remove(): output_0 removed\n"
     ]
    }
   ],
   "source": [
    "acro.remove_output(\"output_0\")"
   ]
  },
  {
   "cell_type": "markdown",
   "id": "df2a02e0",
   "metadata": {
    "slideshow": {
     "slide_type": "slide"
    }
   },
   "source": [
    "### 3: Rename ACRO outputs before finalising\n",
    "This is an example of renaming the outputs to provide a more descriptive name.  \n",
    "The timestamp associated with the output name will not get overwritten"
   ]
  },
  {
   "cell_type": "code",
   "execution_count": 24,
   "id": "b9d0b9ac",
   "metadata": {
    "slideshow": {
     "slide_type": "fragment"
    }
   },
   "outputs": [
    {
     "name": "stderr",
     "output_type": "stream",
     "text": [
      "INFO:acro:records:rename_output(): output_2 renamed to pivot_table\n"
     ]
    }
   ],
   "source": [
    "acro.rename_output(\"output_2\", \"pivot_table\")"
   ]
  },
  {
   "cell_type": "markdown",
   "id": "56d2b6a1",
   "metadata": {
    "slideshow": {
     "slide_type": "slide"
    }
   },
   "source": [
    "### 4: Add a comment to output\n",
    "This is an example to add a comment to outputs.  \n",
    "It can be used to provide a description or to pass additional information to the output checkers."
   ]
  },
  {
   "cell_type": "code",
   "execution_count": 25,
   "id": "8e21f7b0",
   "metadata": {
    "slideshow": {
     "slide_type": "fragment"
    }
   },
   "outputs": [
    {
     "name": "stderr",
     "output_type": "stream",
     "text": [
      "INFO:acro:records:a comment was added to output_1\n",
      "INFO:acro:records:a comment was added to output_1\n"
     ]
    }
   ],
   "source": [
    "acro.add_comments(\"output_1\", \"Please let me have this data.\")\n",
    "acro.add_comments(\"output_1\", \"6 cells were supressed in this table\")"
   ]
  },
  {
   "cell_type": "markdown",
   "id": "8496fed4",
   "metadata": {
    "slideshow": {
     "slide_type": "slide"
    }
   },
   "source": [
    "### 5: Add an unsupported output to the list of outputs\n",
    "This is an example to add an unsupported outputs (such as images) to the list of outputs"
   ]
  },
  {
   "cell_type": "code",
   "execution_count": 26,
   "id": "1e8000a1",
   "metadata": {
    "slideshow": {
     "slide_type": "fragment"
    }
   },
   "outputs": [
    {
     "name": "stderr",
     "output_type": "stream",
     "text": [
      "INFO:acro:records:add_custom(): output_7\n"
     ]
    }
   ],
   "source": [
    "acro.custom_output(\n",
    "    \"XandY.jpeg\", \"This output is an image showing the relationship between X and Y\"\n",
    ")"
   ]
  },
  {
   "cell_type": "markdown",
   "id": "5a586694",
   "metadata": {
    "slideshow": {
     "slide_type": "slide"
    }
   },
   "source": [
    "## 6: (the big one) Finalise ACRO\n",
    "This is an example of the function _finalise()_ which the users must call at the end of each session.  \n",
    "- It takes each output and saves it to a CSV file.    \n",
    "- It also saves the SDC analysis for each output to a json file or Excel file  \n",
    "  (depending on the extension of the name of the file provided as an input to the function)"
   ]
  },
  {
   "cell_type": "code",
   "execution_count": 27,
   "id": "f941aca2",
   "metadata": {
    "slideshow": {
     "slide_type": "fragment"
    }
   },
   "outputs": [
    {
     "name": "stderr",
     "output_type": "stream",
     "text": [
      "INFO:acro:records:\n",
      "uid: output_1\n",
      "status: fail\n",
      "type: table\n",
      "properties: {'method': 'crosstab'}\n",
      "sdc: {'summary': {'suppressed': True, 'negative': 0, 'missing': 0, 'threshold': 1, 'p-ratio': 4, 'nk-rule': 4}, 'cells': {'negative': [], 'missing': [], 'threshold': [[2, 2]], 'p-ratio': [[2, 0], [2, 1], [2, 2], [4, 0]], 'nk-rule': [[2, 0], [2, 1], [2, 2], [4, 0]]}}\n",
      "command: safe_table = acro.crosstab(df.recommend, df.parents, values=df.children, aggfunc=\"mean\")\n",
      "summary: fail; threshold: 1 cells suppressed; p-ratio: 4 cells suppressed; nk-rule: 4 cells suppressed; \n",
      "outcome: parents             great_pret         pretentious  \\\n",
      "recommend                                            \n",
      "not_recom                   ok                  ok   \n",
      "priority                    ok                  ok   \n",
      "recommend   p-ratio; nk-rule;   p-ratio; nk-rule;    \n",
      "spec_prior                  ok                  ok   \n",
      "very_recom  p-ratio; nk-rule;                   ok   \n",
      "\n",
      "parents                             usual  \n",
      "recommend                                  \n",
      "not_recom                              ok  \n",
      "priority                               ok  \n",
      "recommend   threshold; p-ratio; nk-rule;   \n",
      "spec_prior                             ok  \n",
      "very_recom                             ok  \n",
      "output: [parents     great_pret  pretentious     usual\n",
      "recommend                                    \n",
      "not_recom     3.095833     3.152778  3.136111\n",
      "priority      2.609557     3.022237  3.130457\n",
      "recommend          NaN          NaN       NaN\n",
      "spec_prior    3.305638     3.331487  3.335092\n",
      "very_recom         NaN     2.128788  2.209184]\n",
      "timestamp: 2023-08-05T23:20:21.009730\n",
      "comments: ['Please let me have this data.', '6 cells were supressed in this table']\n",
      "exception: \n",
      "\n",
      "The status of the record above is: fail.\n",
      "Please explain why an exception should be granted.\n",
      "\n",
      "INFO:acro:records:\n",
      "uid: output_7\n",
      "status: review\n",
      "type: custom\n",
      "properties: {}\n",
      "sdc: {}\n",
      "command: custom\n",
      "summary: review\n",
      "outcome: Empty DataFrame\n",
      "Columns: []\n",
      "Index: []\n",
      "output: ['XandY.jpeg']\n",
      "timestamp: 2023-08-05T23:20:21.892738\n",
      "comments: ['This output is an image showing the relationship between X and Y']\n",
      "exception: \n",
      "\n",
      "The status of the record above is: review.\n",
      "Please explain why an exception should be granted.\n",
      "\n",
      "INFO:acro:records:outputs written to: NURSERY\n"
     ]
    }
   ],
   "source": [
    "output = acro.finalise(\"NURSERY\", \"json\")"
   ]
  },
  {
   "cell_type": "markdown",
   "id": "113d84ec",
   "metadata": {},
   "source": [
    "### 7: Add a directory of outputs to an acro object \n",
    "This is an example of adding a list of files (produced by the researcher without using ACRO) to an acro object and creates a results file for checking."
   ]
  },
  {
   "cell_type": "code",
   "execution_count": 12,
   "id": "fdea993a",
   "metadata": {},
   "outputs": [
    {
     "name": "stderr",
     "output_type": "stream",
     "text": [
      "INFO:acro:version: 0.4.2\n",
      "INFO:acro:config: {'safe_threshold': 10, 'safe_dof_threshold': 10, 'safe_nk_n': 2, 'safe_nk_k': 0.9, 'safe_pratio_p': 0.1, 'check_missing_values': False}\n",
      "INFO:acro:automatic suppression: False\n",
      "INFO:acro:records:add_custom(): output_0\n",
      "INFO:acro:records:rename_output(): output_0 renamed to crosstab.pkl\n",
      "INFO:acro:records:add_custom(): output_1\n",
      "INFO:acro:records:rename_output(): output_1 renamed to output_0_2023-07-17-13145522.csv\n",
      "INFO:acro:records:add_custom(): output_2\n",
      "INFO:acro:records:rename_output(): output_2 renamed to output_0_2023-07-19-11035057.csv\n",
      "INFO:acro:records:\n",
      "uid: crosstab.pkl\n",
      "status: review\n",
      "type: custom\n",
      "properties: {}\n",
      "sdc: {}\n",
      "command: custom\n",
      "summary: review\n",
      "outcome: Empty DataFrame\n",
      "Columns: []\n",
      "Index: []\n",
      "output: ['crosstab.pkl']\n",
      "timestamp: 2023-08-06T14:33:29.117782\n",
      "comments: ['']\n",
      "exception: \n",
      "\n",
      "The status of the record above is: review.\n",
      "Please explain why an exception should be granted.\n",
      "\n"
     ]
    },
    {
     "name": "stderr",
     "output_type": "stream",
     "text": [
      "INFO:acro:records:\n",
      "uid: output_0_2023-07-17-13145522.csv\n",
      "status: review\n",
      "type: custom\n",
      "properties: {}\n",
      "sdc: {}\n",
      "command: custom\n",
      "summary: review\n",
      "outcome: Empty DataFrame\n",
      "Columns: []\n",
      "Index: []\n",
      "output: ['output_0_2023-07-17-13145522.csv']\n",
      "timestamp: 2023-08-06T14:33:29.121783\n",
      "comments: ['']\n",
      "exception: \n",
      "\n",
      "The status of the record above is: review.\n",
      "Please explain why an exception should be granted.\n",
      "\n",
      "INFO:acro:records:\n",
      "uid: output_0_2023-07-19-11035057.csv\n",
      "status: review\n",
      "type: custom\n",
      "properties: {}\n",
      "sdc: {}\n",
      "command: custom\n",
      "summary: review\n",
      "outcome: Empty DataFrame\n",
      "Columns: []\n",
      "Index: []\n",
      "output: ['output_0_2023-07-19-11035057.csv']\n",
      "timestamp: 2023-08-06T14:33:29.123784\n",
      "comments: ['']\n",
      "exception: \n",
      "\n",
      "The status of the record above is: review.\n",
      "Please explain why an exception should be granted.\n",
      "\n",
      "INFO:acro:records:outputs written to: test_add_to_acro\n"
     ]
    },
    {
     "name": "stdout",
     "output_type": "stream",
     "text": [
      "I entered this code\n",
      "crosstab.pkl\n",
      "I entered this code\n",
      "output_0_2023-07-17-13145522.csv\n",
      "I entered this code\n",
      "output_0_2023-07-19-11035057.csv\n"
     ]
    }
   ],
   "source": [
    "import shutil\n",
    "\n",
    "table = pd.crosstab(df.recommend, df.parents)\n",
    "# save the output table to a file and add this file to a directory\n",
    "dir_path = \"test_add_to_acro\"\n",
    "file_path = \"crosstab.pkl\"\n",
    "if not os.path.exists(dir_path):\n",
    "    table.to_pickle(file_path)\n",
    "    os.mkdir(dir_path)\n",
    "    shutil.move(file_path, dir_path, copy_function=shutil.copytree)\n",
    "\n",
    "# add the output to acro\n",
    "add_to_acro(dir_path)"
   ]
  },
  {
   "cell_type": "markdown",
   "id": "4bd64659",
   "metadata": {
    "slideshow": {
     "slide_type": "slide"
    }
   },
   "source": [
    "# Over to Ben"
   ]
  },
  {
   "cell_type": "code",
   "execution_count": null,
   "id": "2593810e",
   "metadata": {},
   "outputs": [],
   "source": []
  }
 ],
 "metadata": {
  "celltoolbar": "Slideshow",
  "kernelspec": {
   "display_name": "Python 3 (ipykernel)",
   "language": "python",
   "name": "python3"
  },
  "language_info": {
   "codemirror_mode": {
    "name": "ipython",
    "version": 3
   },
   "file_extension": ".py",
   "mimetype": "text/x-python",
   "name": "python",
   "nbconvert_exporter": "python",
   "pygments_lexer": "ipython3",
   "version": "3.10.2"
  }
 },
 "nbformat": 4,
 "nbformat_minor": 5
}

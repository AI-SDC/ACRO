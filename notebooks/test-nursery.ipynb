{
 "cells": [
  {
   "cell_type": "markdown",
   "id": "00cac1f9",
   "metadata": {},
   "source": [
    "# ACRO Tests"
   ]
  },
  {
   "cell_type": "code",
   "execution_count": 1,
   "id": "e33fd4fb",
   "metadata": {},
   "outputs": [],
   "source": [
    "import os\n",
    "import sys\n",
    "import pandas as pd\n",
    "import numpy as np"
   ]
  },
  {
   "cell_type": "code",
   "execution_count": 2,
   "id": "c01cfe12",
   "metadata": {},
   "outputs": [],
   "source": [
    "sys.path.insert(0, os.path.abspath(\"..\"))"
   ]
  },
  {
   "cell_type": "code",
   "execution_count": 3,
   "id": "cc8d993a",
   "metadata": {
    "scrolled": true
   },
   "outputs": [],
   "source": [
    "from acro import ACRO, add_constant, utils"
   ]
  },
  {
   "cell_type": "markdown",
   "id": "530efcfe",
   "metadata": {},
   "source": [
    "### Instantiate ACRO"
   ]
  },
  {
   "cell_type": "code",
   "execution_count": 4,
   "id": "4b8a77e2",
   "metadata": {},
   "outputs": [
    {
     "name": "stderr",
     "output_type": "stream",
     "text": [
      "INFO:acro:config: {'safe_threshold': 10, 'safe_dof_threshold': 10, 'safe_nk_n': 2, 'safe_nk_k': 0.9, 'safe_pratio_p': 0.1, 'check_missing_values': False}\n"
     ]
    }
   ],
   "source": [
    "acro = ACRO()"
   ]
  },
  {
   "cell_type": "markdown",
   "id": "27a2baaa",
   "metadata": {},
   "source": [
    "### Load test data"
   ]
  },
  {
   "cell_type": "code",
   "execution_count": 5,
   "id": "ac790b2b-b02f-49f7-8237-a033abed6e87",
   "metadata": {
    "scrolled": true
   },
   "outputs": [
    {
     "name": "stderr",
     "output_type": "stream",
     "text": [
      "c:\\Users\\M-ALBASHIR\\Desktop\\SACRO\\venvs\\acro_venv\\lib\\site-packages\\sklearn\\datasets\\_openml.py:968: FutureWarning: The default value of `parser` will change from `'liac-arff'` to `'auto'` in 1.4. You can set `parser='auto'` to silence this warning. Therefore, an `ImportError` will be raised from 1.4 if the dataset is dense and pandas is not installed. Note that the pandas parser may return different data types. See the Notes Section in fetch_openml's API doc for details.\n",
      "  warn(\n"
     ]
    },
    {
     "data": {
      "text/html": [
       "<div>\n",
       "<style scoped>\n",
       "    .dataframe tbody tr th:only-of-type {\n",
       "        vertical-align: middle;\n",
       "    }\n",
       "\n",
       "    .dataframe tbody tr th {\n",
       "        vertical-align: top;\n",
       "    }\n",
       "\n",
       "    .dataframe thead th {\n",
       "        text-align: right;\n",
       "    }\n",
       "</style>\n",
       "<table border=\"1\" class=\"dataframe\">\n",
       "  <thead>\n",
       "    <tr style=\"text-align: right;\">\n",
       "      <th></th>\n",
       "      <th>parents</th>\n",
       "      <th>has_nurs</th>\n",
       "      <th>form</th>\n",
       "      <th>children</th>\n",
       "      <th>housing</th>\n",
       "      <th>finance</th>\n",
       "      <th>social</th>\n",
       "      <th>health</th>\n",
       "      <th>recommend</th>\n",
       "    </tr>\n",
       "  </thead>\n",
       "  <tbody>\n",
       "    <tr>\n",
       "      <th>0</th>\n",
       "      <td>usual</td>\n",
       "      <td>proper</td>\n",
       "      <td>complete</td>\n",
       "      <td>1</td>\n",
       "      <td>convenient</td>\n",
       "      <td>convenient</td>\n",
       "      <td>nonprob</td>\n",
       "      <td>recommended</td>\n",
       "      <td>recommend</td>\n",
       "    </tr>\n",
       "    <tr>\n",
       "      <th>1</th>\n",
       "      <td>usual</td>\n",
       "      <td>proper</td>\n",
       "      <td>complete</td>\n",
       "      <td>1</td>\n",
       "      <td>convenient</td>\n",
       "      <td>convenient</td>\n",
       "      <td>nonprob</td>\n",
       "      <td>priority</td>\n",
       "      <td>priority</td>\n",
       "    </tr>\n",
       "    <tr>\n",
       "      <th>2</th>\n",
       "      <td>usual</td>\n",
       "      <td>proper</td>\n",
       "      <td>complete</td>\n",
       "      <td>1</td>\n",
       "      <td>convenient</td>\n",
       "      <td>convenient</td>\n",
       "      <td>nonprob</td>\n",
       "      <td>not_recom</td>\n",
       "      <td>not_recom</td>\n",
       "    </tr>\n",
       "    <tr>\n",
       "      <th>3</th>\n",
       "      <td>usual</td>\n",
       "      <td>proper</td>\n",
       "      <td>complete</td>\n",
       "      <td>1</td>\n",
       "      <td>convenient</td>\n",
       "      <td>convenient</td>\n",
       "      <td>slightly_prob</td>\n",
       "      <td>recommended</td>\n",
       "      <td>recommend</td>\n",
       "    </tr>\n",
       "    <tr>\n",
       "      <th>4</th>\n",
       "      <td>usual</td>\n",
       "      <td>proper</td>\n",
       "      <td>complete</td>\n",
       "      <td>1</td>\n",
       "      <td>convenient</td>\n",
       "      <td>convenient</td>\n",
       "      <td>slightly_prob</td>\n",
       "      <td>priority</td>\n",
       "      <td>priority</td>\n",
       "    </tr>\n",
       "  </tbody>\n",
       "</table>\n",
       "</div>"
      ],
      "text/plain": [
       "  parents has_nurs      form children     housing     finance         social  \\\n",
       "0   usual   proper  complete        1  convenient  convenient        nonprob   \n",
       "1   usual   proper  complete        1  convenient  convenient        nonprob   \n",
       "2   usual   proper  complete        1  convenient  convenient        nonprob   \n",
       "3   usual   proper  complete        1  convenient  convenient  slightly_prob   \n",
       "4   usual   proper  complete        1  convenient  convenient  slightly_prob   \n",
       "\n",
       "        health  recommend  \n",
       "0  recommended  recommend  \n",
       "1     priority   priority  \n",
       "2    not_recom  not_recom  \n",
       "3  recommended  recommend  \n",
       "4     priority   priority  "
      ]
     },
     "execution_count": 5,
     "metadata": {},
     "output_type": "execute_result"
    }
   ],
   "source": [
    "# path = os.path.join(\"../data\", \"test_data.dta\")\n",
    "# df = pd.read_stata(path)\n",
    "# df.head()\n",
    "from sklearn.datasets import fetch_openml\n",
    "\n",
    "data = fetch_openml(data_id=26, as_frame=True)\n",
    "df = data.data\n",
    "df[\"recommend\"] = data.target\n",
    "# print(df.describe())\n",
    "df.head()"
   ]
  },
  {
   "cell_type": "markdown",
   "id": "ea2a0d76-ba68-4a74-93c3-bdaa88c48929",
   "metadata": {},
   "source": [
    "### convert 'more than 3' children to random between 4 and 10"
   ]
  },
  {
   "cell_type": "code",
   "execution_count": 14,
   "id": "7fb14245-e465-48a4-a5d6-88508d5bb08f",
   "metadata": {
    "scrolled": true
   },
   "outputs": [
    {
     "name": "stdout",
     "output_type": "stream",
     "text": [
      "[1 2 3 5 9 7 4 8 6]\n",
      "values before apply transforamtion: [1 2 3 5 9 7 4 8 6]\n",
      "values after apply transformation: [1 2 3 5 6 9 7 8 4]\n"
     ]
    },
    {
     "data": {
      "text/html": [
       "<div>\n",
       "<style scoped>\n",
       "    .dataframe tbody tr th:only-of-type {\n",
       "        vertical-align: middle;\n",
       "    }\n",
       "\n",
       "    .dataframe tbody tr th {\n",
       "        vertical-align: top;\n",
       "    }\n",
       "\n",
       "    .dataframe thead th {\n",
       "        text-align: right;\n",
       "    }\n",
       "</style>\n",
       "<table border=\"1\" class=\"dataframe\">\n",
       "  <thead>\n",
       "    <tr style=\"text-align: right;\">\n",
       "      <th></th>\n",
       "      <th>children</th>\n",
       "    </tr>\n",
       "  </thead>\n",
       "  <tbody>\n",
       "    <tr>\n",
       "      <th>count</th>\n",
       "      <td>12960.000000</td>\n",
       "    </tr>\n",
       "    <tr>\n",
       "      <th>mean</th>\n",
       "      <td>3.136420</td>\n",
       "    </tr>\n",
       "    <tr>\n",
       "      <th>std</th>\n",
       "      <td>2.265549</td>\n",
       "    </tr>\n",
       "    <tr>\n",
       "      <th>min</th>\n",
       "      <td>1.000000</td>\n",
       "    </tr>\n",
       "    <tr>\n",
       "      <th>25%</th>\n",
       "      <td>1.750000</td>\n",
       "    </tr>\n",
       "    <tr>\n",
       "      <th>50%</th>\n",
       "      <td>2.500000</td>\n",
       "    </tr>\n",
       "    <tr>\n",
       "      <th>75%</th>\n",
       "      <td>3.250000</td>\n",
       "    </tr>\n",
       "    <tr>\n",
       "      <th>max</th>\n",
       "      <td>9.000000</td>\n",
       "    </tr>\n",
       "  </tbody>\n",
       "</table>\n",
       "</div>"
      ],
      "text/plain": [
       "           children\n",
       "count  12960.000000\n",
       "mean       3.136420\n",
       "std        2.265549\n",
       "min        1.000000\n",
       "25%        1.750000\n",
       "50%        2.500000\n",
       "75%        3.250000\n",
       "max        9.000000"
      ]
     },
     "execution_count": 14,
     "metadata": {},
     "output_type": "execute_result"
    }
   ],
   "source": [
    "print(df[\"children\"].unique())\n",
    "df[\"children\"].replace(to_replace={\"more\": \"4\"}, inplace=True)\n",
    "df[\"children\"] = pd.to_numeric(df[\"children\"])\n",
    "print(f\"values before apply transforamtion: {df['children'].unique()}\")\n",
    "\n",
    "df[\"children\"] = df.apply(\n",
    "    lambda row: row[\"children\"]\n",
    "    if row[\"children\"] in (1, 2, 3)\n",
    "    else np.random.randint(4, 10),\n",
    "    axis=1,\n",
    ")\n",
    "print(f\"values after apply transformation: {df['children'].unique()}\")\n",
    "\n",
    "df.describe()"
   ]
  },
  {
   "cell_type": "markdown",
   "id": "4ae844a0",
   "metadata": {},
   "source": [
    "### Pandas crosstab"
   ]
  },
  {
   "cell_type": "code",
   "execution_count": 7,
   "id": "961684cb",
   "metadata": {},
   "outputs": [
    {
     "data": {
      "text/html": [
       "<div>\n",
       "<style scoped>\n",
       "    .dataframe tbody tr th:only-of-type {\n",
       "        vertical-align: middle;\n",
       "    }\n",
       "\n",
       "    .dataframe tbody tr th {\n",
       "        vertical-align: top;\n",
       "    }\n",
       "\n",
       "    .dataframe thead th {\n",
       "        text-align: right;\n",
       "    }\n",
       "</style>\n",
       "<table border=\"1\" class=\"dataframe\">\n",
       "  <thead>\n",
       "    <tr style=\"text-align: right;\">\n",
       "      <th>parents</th>\n",
       "      <th>great_pret</th>\n",
       "      <th>pretentious</th>\n",
       "      <th>usual</th>\n",
       "    </tr>\n",
       "    <tr>\n",
       "      <th>recommend</th>\n",
       "      <th></th>\n",
       "      <th></th>\n",
       "      <th></th>\n",
       "    </tr>\n",
       "  </thead>\n",
       "  <tbody>\n",
       "    <tr>\n",
       "      <th>not_recom</th>\n",
       "      <td>1440</td>\n",
       "      <td>1440</td>\n",
       "      <td>1440</td>\n",
       "    </tr>\n",
       "    <tr>\n",
       "      <th>priority</th>\n",
       "      <td>858</td>\n",
       "      <td>1484</td>\n",
       "      <td>1924</td>\n",
       "    </tr>\n",
       "    <tr>\n",
       "      <th>recommend</th>\n",
       "      <td>0</td>\n",
       "      <td>0</td>\n",
       "      <td>2</td>\n",
       "    </tr>\n",
       "    <tr>\n",
       "      <th>spec_prior</th>\n",
       "      <td>2022</td>\n",
       "      <td>1264</td>\n",
       "      <td>758</td>\n",
       "    </tr>\n",
       "    <tr>\n",
       "      <th>very_recom</th>\n",
       "      <td>0</td>\n",
       "      <td>132</td>\n",
       "      <td>196</td>\n",
       "    </tr>\n",
       "  </tbody>\n",
       "</table>\n",
       "</div>"
      ],
      "text/plain": [
       "parents     great_pret  pretentious  usual\n",
       "recommend                                 \n",
       "not_recom         1440         1440   1440\n",
       "priority           858         1484   1924\n",
       "recommend            0            0      2\n",
       "spec_prior        2022         1264    758\n",
       "very_recom           0          132    196"
      ]
     },
     "execution_count": 7,
     "metadata": {},
     "output_type": "execute_result"
    }
   ],
   "source": [
    "table = pd.crosstab(df.recommend, df.parents)\n",
    "table"
   ]
  },
  {
   "cell_type": "markdown",
   "id": "d642ed00",
   "metadata": {},
   "source": [
    "### ACRO crosstab"
   ]
  },
  {
   "cell_type": "code",
   "execution_count": 8,
   "id": "bb4b2677",
   "metadata": {
    "scrolled": true
   },
   "outputs": [
    {
     "name": "stderr",
     "output_type": "stream",
     "text": [
      "INFO:acro:outcome_df:\n",
      "parents      great_pret  pretentious        usual\n",
      "recommend                                        \n",
      "not_recom            ok           ok           ok\n",
      "priority             ok           ok           ok\n",
      "recommend   threshold;   threshold;   threshold; \n",
      "spec_prior           ok           ok           ok\n",
      "very_recom  threshold;            ok           ok\n",
      "INFO:acro:get_summary(): fail; threshold: 4 cells suppressed; \n",
      "INFO:acro:add_output(): output_0_2023-04-27-19542171\n"
     ]
    },
    {
     "data": {
      "text/html": [
       "<div>\n",
       "<style scoped>\n",
       "    .dataframe tbody tr th:only-of-type {\n",
       "        vertical-align: middle;\n",
       "    }\n",
       "\n",
       "    .dataframe tbody tr th {\n",
       "        vertical-align: top;\n",
       "    }\n",
       "\n",
       "    .dataframe thead th {\n",
       "        text-align: right;\n",
       "    }\n",
       "</style>\n",
       "<table border=\"1\" class=\"dataframe\">\n",
       "  <thead>\n",
       "    <tr style=\"text-align: right;\">\n",
       "      <th>parents</th>\n",
       "      <th>great_pret</th>\n",
       "      <th>pretentious</th>\n",
       "      <th>usual</th>\n",
       "    </tr>\n",
       "    <tr>\n",
       "      <th>recommend</th>\n",
       "      <th></th>\n",
       "      <th></th>\n",
       "      <th></th>\n",
       "    </tr>\n",
       "  </thead>\n",
       "  <tbody>\n",
       "    <tr>\n",
       "      <th>not_recom</th>\n",
       "      <td>1440.0</td>\n",
       "      <td>1440.0</td>\n",
       "      <td>1440.0</td>\n",
       "    </tr>\n",
       "    <tr>\n",
       "      <th>priority</th>\n",
       "      <td>858.0</td>\n",
       "      <td>1484.0</td>\n",
       "      <td>1924.0</td>\n",
       "    </tr>\n",
       "    <tr>\n",
       "      <th>recommend</th>\n",
       "      <td>NaN</td>\n",
       "      <td>NaN</td>\n",
       "      <td>NaN</td>\n",
       "    </tr>\n",
       "    <tr>\n",
       "      <th>spec_prior</th>\n",
       "      <td>2022.0</td>\n",
       "      <td>1264.0</td>\n",
       "      <td>758.0</td>\n",
       "    </tr>\n",
       "    <tr>\n",
       "      <th>very_recom</th>\n",
       "      <td>NaN</td>\n",
       "      <td>132.0</td>\n",
       "      <td>196.0</td>\n",
       "    </tr>\n",
       "  </tbody>\n",
       "</table>\n",
       "</div>"
      ],
      "text/plain": [
       "parents     great_pret  pretentious   usual\n",
       "recommend                                  \n",
       "not_recom       1440.0       1440.0  1440.0\n",
       "priority         858.0       1484.0  1924.0\n",
       "recommend          NaN          NaN     NaN\n",
       "spec_prior      2022.0       1264.0   758.0\n",
       "very_recom         NaN        132.0   196.0"
      ]
     },
     "execution_count": 8,
     "metadata": {},
     "output_type": "execute_result"
    }
   ],
   "source": [
    "safe_table = acro.crosstab(df.recommend, df.parents)\n",
    "safe_table"
   ]
  },
  {
   "cell_type": "markdown",
   "id": "8b603548",
   "metadata": {},
   "source": [
    "### ACRO crosstab with aggregation function"
   ]
  },
  {
   "cell_type": "code",
   "execution_count": 9,
   "id": "298d2b40",
   "metadata": {},
   "outputs": [
    {
     "name": "stderr",
     "output_type": "stream",
     "text": [
      "INFO:acro:outcome_df:\n",
      "parents                        great_pret                    pretentious  \\\n",
      "recommend                                                                  \n",
      "not_recom                              ok                             ok   \n",
      "priority                               ok                             ok   \n",
      "recommend   threshold; p-ratio; nk-rule;   threshold; p-ratio; nk-rule;    \n",
      "spec_prior                             ok                             ok   \n",
      "very_recom  threshold; p-ratio; nk-rule;                              ok   \n",
      "\n",
      "parents                             usual  \n",
      "recommend                                  \n",
      "not_recom                              ok  \n",
      "priority                               ok  \n",
      "recommend   threshold; p-ratio; nk-rule;   \n",
      "spec_prior                             ok  \n",
      "very_recom                             ok  \n",
      "INFO:acro:get_summary(): fail; threshold: 4 cells suppressed; p-ratio: 4 cells suppressed; nk-rule: 4 cells suppressed; \n",
      "INFO:acro:add_output(): output_1_2023-04-27-19542739\n"
     ]
    },
    {
     "data": {
      "text/html": [
       "<div>\n",
       "<style scoped>\n",
       "    .dataframe tbody tr th:only-of-type {\n",
       "        vertical-align: middle;\n",
       "    }\n",
       "\n",
       "    .dataframe tbody tr th {\n",
       "        vertical-align: top;\n",
       "    }\n",
       "\n",
       "    .dataframe thead th {\n",
       "        text-align: right;\n",
       "    }\n",
       "</style>\n",
       "<table border=\"1\" class=\"dataframe\">\n",
       "  <thead>\n",
       "    <tr style=\"text-align: right;\">\n",
       "      <th>parents</th>\n",
       "      <th>great_pret</th>\n",
       "      <th>pretentious</th>\n",
       "      <th>usual</th>\n",
       "    </tr>\n",
       "    <tr>\n",
       "      <th>recommend</th>\n",
       "      <th></th>\n",
       "      <th></th>\n",
       "      <th></th>\n",
       "    </tr>\n",
       "  </thead>\n",
       "  <tbody>\n",
       "    <tr>\n",
       "      <th>not_recom</th>\n",
       "      <td>3.101389</td>\n",
       "      <td>3.113889</td>\n",
       "      <td>3.109028</td>\n",
       "    </tr>\n",
       "    <tr>\n",
       "      <th>priority</th>\n",
       "      <td>2.594406</td>\n",
       "      <td>3.037062</td>\n",
       "      <td>3.110187</td>\n",
       "    </tr>\n",
       "    <tr>\n",
       "      <th>recommend</th>\n",
       "      <td>NaN</td>\n",
       "      <td>NaN</td>\n",
       "      <td>NaN</td>\n",
       "    </tr>\n",
       "    <tr>\n",
       "      <th>spec_prior</th>\n",
       "      <td>3.388724</td>\n",
       "      <td>3.307753</td>\n",
       "      <td>3.369393</td>\n",
       "    </tr>\n",
       "    <tr>\n",
       "      <th>very_recom</th>\n",
       "      <td>NaN</td>\n",
       "      <td>2.242424</td>\n",
       "      <td>2.239796</td>\n",
       "    </tr>\n",
       "  </tbody>\n",
       "</table>\n",
       "</div>"
      ],
      "text/plain": [
       "parents     great_pret  pretentious     usual\n",
       "recommend                                    \n",
       "not_recom     3.101389     3.113889  3.109028\n",
       "priority      2.594406     3.037062  3.110187\n",
       "recommend          NaN          NaN       NaN\n",
       "spec_prior    3.388724     3.307753  3.369393\n",
       "very_recom         NaN     2.242424  2.239796"
      ]
     },
     "execution_count": 9,
     "metadata": {},
     "output_type": "execute_result"
    }
   ],
   "source": [
    "safe_table = acro.crosstab(df.recommend, df.parents, values=df.children, aggfunc=\"mean\")\n",
    "safe_table"
   ]
  },
  {
   "cell_type": "markdown",
   "id": "a521cb83",
   "metadata": {},
   "source": [
    "### ACRO crosstab with missing values"
   ]
  },
  {
   "cell_type": "code",
   "execution_count": 25,
   "id": "bf132239",
   "metadata": {},
   "outputs": [
    {
     "name": "stderr",
     "output_type": "stream",
     "text": [
      "INFO:acro:outcome_df:\n",
      "parents    great_pret pretentious    usual\n",
      "form                                      \n",
      "complete                           missing\n",
      "completed                                 \n",
      "foster                                    \n",
      "incomplete                                \n",
      "INFO:acro:get_summary(): review; missing values found\n",
      "INFO:acro:add_output(): output_10_2023-04-27-20084191\n"
     ]
    },
    {
     "data": {
      "text/html": [
       "<div>\n",
       "<style scoped>\n",
       "    .dataframe tbody tr th:only-of-type {\n",
       "        vertical-align: middle;\n",
       "    }\n",
       "\n",
       "    .dataframe tbody tr th {\n",
       "        vertical-align: top;\n",
       "    }\n",
       "\n",
       "    .dataframe thead th {\n",
       "        text-align: right;\n",
       "    }\n",
       "</style>\n",
       "<table border=\"1\" class=\"dataframe\">\n",
       "  <thead>\n",
       "    <tr style=\"text-align: right;\">\n",
       "      <th>parents</th>\n",
       "      <th>great_pret</th>\n",
       "      <th>pretentious</th>\n",
       "      <th>usual</th>\n",
       "    </tr>\n",
       "    <tr>\n",
       "      <th>form</th>\n",
       "      <th></th>\n",
       "      <th></th>\n",
       "      <th></th>\n",
       "    </tr>\n",
       "  </thead>\n",
       "  <tbody>\n",
       "    <tr>\n",
       "      <th>complete</th>\n",
       "      <td>3.126852</td>\n",
       "      <td>3.125000</td>\n",
       "      <td>3.161682</td>\n",
       "    </tr>\n",
       "    <tr>\n",
       "      <th>completed</th>\n",
       "      <td>3.154630</td>\n",
       "      <td>3.087037</td>\n",
       "      <td>3.173148</td>\n",
       "    </tr>\n",
       "    <tr>\n",
       "      <th>foster</th>\n",
       "      <td>3.137037</td>\n",
       "      <td>3.111111</td>\n",
       "      <td>3.133333</td>\n",
       "    </tr>\n",
       "    <tr>\n",
       "      <th>incomplete</th>\n",
       "      <td>3.156481</td>\n",
       "      <td>3.178704</td>\n",
       "      <td>3.112037</td>\n",
       "    </tr>\n",
       "  </tbody>\n",
       "</table>\n",
       "</div>"
      ],
      "text/plain": [
       "parents     great_pret  pretentious     usual\n",
       "form                                         \n",
       "complete      3.126852     3.125000  3.161682\n",
       "completed     3.154630     3.087037  3.173148\n",
       "foster        3.137037     3.111111  3.133333\n",
       "incomplete    3.156481     3.178704  3.112037"
      ]
     },
     "execution_count": 25,
     "metadata": {},
     "output_type": "execute_result"
    }
   ],
   "source": [
    "utils.CHECK_MISSING_VALUES = True\n",
    "\n",
    "missing = df.children.copy()\n",
    "missing[0:10] = np.NaN\n",
    "\n",
    "safe_table = acro.crosstab(df.form, df.parents, values=missing, aggfunc=\"mean\")\n",
    "safe_table"
   ]
  },
  {
   "cell_type": "code",
   "execution_count": 26,
   "id": "7cc417a0",
   "metadata": {},
   "outputs": [],
   "source": [
    "utils.CHECK_MISSING_VALUES = False"
   ]
  },
  {
   "cell_type": "markdown",
   "id": "fcc81e98",
   "metadata": {},
   "source": [
    "### ACRO crosstab with negative values"
   ]
  },
  {
   "cell_type": "code",
   "execution_count": 27,
   "id": "15bcdc7c",
   "metadata": {},
   "outputs": [
    {
     "name": "stderr",
     "output_type": "stream",
     "text": [
      "INFO:acro:outcome_df:\n",
      "parents    great_pret pretentious     usual\n",
      "form                                       \n",
      "complete                           negative\n",
      "completed                                  \n",
      "foster                                     \n",
      "incomplete                                 \n",
      "INFO:acro:get_summary(): review; negative values found\n",
      "INFO:acro:add_output(): output_11_2023-04-27-20092201\n"
     ]
    },
    {
     "data": {
      "text/html": [
       "<div>\n",
       "<style scoped>\n",
       "    .dataframe tbody tr th:only-of-type {\n",
       "        vertical-align: middle;\n",
       "    }\n",
       "\n",
       "    .dataframe tbody tr th {\n",
       "        vertical-align: top;\n",
       "    }\n",
       "\n",
       "    .dataframe thead th {\n",
       "        text-align: right;\n",
       "    }\n",
       "</style>\n",
       "<table border=\"1\" class=\"dataframe\">\n",
       "  <thead>\n",
       "    <tr style=\"text-align: right;\">\n",
       "      <th>parents</th>\n",
       "      <th>great_pret</th>\n",
       "      <th>pretentious</th>\n",
       "      <th>usual</th>\n",
       "    </tr>\n",
       "    <tr>\n",
       "      <th>form</th>\n",
       "      <th></th>\n",
       "      <th></th>\n",
       "      <th></th>\n",
       "    </tr>\n",
       "  </thead>\n",
       "  <tbody>\n",
       "    <tr>\n",
       "      <th>complete</th>\n",
       "      <td>3.126852</td>\n",
       "      <td>3.125000</td>\n",
       "      <td>3.039815</td>\n",
       "    </tr>\n",
       "    <tr>\n",
       "      <th>completed</th>\n",
       "      <td>3.154630</td>\n",
       "      <td>3.087037</td>\n",
       "      <td>3.173148</td>\n",
       "    </tr>\n",
       "    <tr>\n",
       "      <th>foster</th>\n",
       "      <td>3.137037</td>\n",
       "      <td>3.111111</td>\n",
       "      <td>3.133333</td>\n",
       "    </tr>\n",
       "    <tr>\n",
       "      <th>incomplete</th>\n",
       "      <td>3.156481</td>\n",
       "      <td>3.178704</td>\n",
       "      <td>3.112037</td>\n",
       "    </tr>\n",
       "  </tbody>\n",
       "</table>\n",
       "</div>"
      ],
      "text/plain": [
       "parents     great_pret  pretentious     usual\n",
       "form                                         \n",
       "complete      3.126852     3.125000  3.039815\n",
       "completed     3.154630     3.087037  3.173148\n",
       "foster        3.137037     3.111111  3.133333\n",
       "incomplete    3.156481     3.178704  3.112037"
      ]
     },
     "execution_count": 27,
     "metadata": {},
     "output_type": "execute_result"
    }
   ],
   "source": [
    "negative = df.children.copy()\n",
    "negative[0:10] = -10\n",
    "safe_table = acro.crosstab(df.form, df.parents, values=negative, aggfunc=\"mean\")\n",
    "safe_table"
   ]
  },
  {
   "cell_type": "markdown",
   "id": "d66e565b",
   "metadata": {},
   "source": [
    "### ACRO pivot_table"
   ]
  },
  {
   "cell_type": "code",
   "execution_count": 24,
   "id": "966c1a9b",
   "metadata": {},
   "outputs": [
    {
     "name": "stderr",
     "output_type": "stream",
     "text": [
      "INFO:acro:outcome_df:\n",
      "                mean      std\n",
      "            children children\n",
      "parents                      \n",
      "great_pret        ok       ok\n",
      "pretentious       ok       ok\n",
      "usual             ok       ok\n",
      "INFO:acro:get_summary(): pass\n",
      "INFO:acro:add_output(): output_8_2023-04-27-19250153\n"
     ]
    },
    {
     "data": {
      "text/html": [
       "<div>\n",
       "<style scoped>\n",
       "    .dataframe tbody tr th:only-of-type {\n",
       "        vertical-align: middle;\n",
       "    }\n",
       "\n",
       "    .dataframe tbody tr th {\n",
       "        vertical-align: top;\n",
       "    }\n",
       "\n",
       "    .dataframe thead tr th {\n",
       "        text-align: left;\n",
       "    }\n",
       "\n",
       "    .dataframe thead tr:last-of-type th {\n",
       "        text-align: right;\n",
       "    }\n",
       "</style>\n",
       "<table border=\"1\" class=\"dataframe\">\n",
       "  <thead>\n",
       "    <tr>\n",
       "      <th></th>\n",
       "      <th>mean</th>\n",
       "      <th>std</th>\n",
       "    </tr>\n",
       "    <tr>\n",
       "      <th></th>\n",
       "      <th>children</th>\n",
       "      <th>children</th>\n",
       "    </tr>\n",
       "    <tr>\n",
       "      <th>parents</th>\n",
       "      <th></th>\n",
       "      <th></th>\n",
       "    </tr>\n",
       "  </thead>\n",
       "  <tbody>\n",
       "    <tr>\n",
       "      <th>great_pret</th>\n",
       "      <td>3.103241</td>\n",
       "      <td>2.212384</td>\n",
       "    </tr>\n",
       "    <tr>\n",
       "      <th>pretentious</th>\n",
       "      <td>3.121759</td>\n",
       "      <td>2.239532</td>\n",
       "    </tr>\n",
       "    <tr>\n",
       "      <th>usual</th>\n",
       "      <td>3.132407</td>\n",
       "      <td>2.254078</td>\n",
       "    </tr>\n",
       "  </tbody>\n",
       "</table>\n",
       "</div>"
      ],
      "text/plain": [
       "                 mean       std\n",
       "             children  children\n",
       "parents                        \n",
       "great_pret   3.103241  2.212384\n",
       "pretentious  3.121759  2.239532\n",
       "usual        3.132407  2.254078"
      ]
     },
     "execution_count": 24,
     "metadata": {},
     "output_type": "execute_result"
    }
   ],
   "source": [
    "table = acro.pivot_table(\n",
    "    df, index=[\"parents\"], values=[\"children\"], aggfunc=[\"mean\", \"std\"]\n",
    ")\n",
    "table"
   ]
  },
  {
   "cell_type": "markdown",
   "id": "dc99fa71",
   "metadata": {},
   "source": [
    "### ACRO pivot_table with missing values"
   ]
  },
  {
   "cell_type": "code",
   "execution_count": 27,
   "id": "f3a87c20",
   "metadata": {},
   "outputs": [
    {
     "name": "stderr",
     "output_type": "stream",
     "text": [
      "INFO:acro:outcome_df:\n",
      "                mean      std\n",
      "            children children\n",
      "parents                      \n",
      "great_pret                   \n",
      "pretentious                  \n",
      "usual        missing  missing\n",
      "INFO:acro:get_summary(): review; missing values found\n",
      "INFO:acro:add_output(): output_10_2023-04-27-19263597\n"
     ]
    },
    {
     "data": {
      "text/html": [
       "<div>\n",
       "<style scoped>\n",
       "    .dataframe tbody tr th:only-of-type {\n",
       "        vertical-align: middle;\n",
       "    }\n",
       "\n",
       "    .dataframe tbody tr th {\n",
       "        vertical-align: top;\n",
       "    }\n",
       "\n",
       "    .dataframe thead tr th {\n",
       "        text-align: left;\n",
       "    }\n",
       "\n",
       "    .dataframe thead tr:last-of-type th {\n",
       "        text-align: right;\n",
       "    }\n",
       "</style>\n",
       "<table border=\"1\" class=\"dataframe\">\n",
       "  <thead>\n",
       "    <tr>\n",
       "      <th></th>\n",
       "      <th>mean</th>\n",
       "      <th>std</th>\n",
       "    </tr>\n",
       "    <tr>\n",
       "      <th></th>\n",
       "      <th>children</th>\n",
       "      <th>children</th>\n",
       "    </tr>\n",
       "    <tr>\n",
       "      <th>parents</th>\n",
       "      <th></th>\n",
       "      <th></th>\n",
       "    </tr>\n",
       "  </thead>\n",
       "  <tbody>\n",
       "    <tr>\n",
       "      <th>great_pret</th>\n",
       "      <td>3.103241</td>\n",
       "      <td>2.212384</td>\n",
       "    </tr>\n",
       "    <tr>\n",
       "      <th>pretentious</th>\n",
       "      <td>3.121759</td>\n",
       "      <td>2.239532</td>\n",
       "    </tr>\n",
       "    <tr>\n",
       "      <th>usual</th>\n",
       "      <td>3.137851</td>\n",
       "      <td>2.254373</td>\n",
       "    </tr>\n",
       "  </tbody>\n",
       "</table>\n",
       "</div>"
      ],
      "text/plain": [
       "                 mean       std\n",
       "             children  children\n",
       "parents                        \n",
       "great_pret   3.103241  2.212384\n",
       "pretentious  3.121759  2.239532\n",
       "usual        3.137851  2.254373"
      ]
     },
     "execution_count": 27,
     "metadata": {},
     "output_type": "execute_result"
    }
   ],
   "source": [
    "utils.CHECK_MISSING_VALUES = True\n",
    "\n",
    "df.loc[0:10, \"children\"] = np.NaN\n",
    "\n",
    "table = acro.pivot_table(\n",
    "    df, index=[\"parents\"], values=[\"children\"], aggfunc=[\"mean\", \"std\"]\n",
    ")\n",
    "table"
   ]
  },
  {
   "cell_type": "code",
   "execution_count": 28,
   "id": "ac4fd993",
   "metadata": {},
   "outputs": [],
   "source": [
    "utils.CHECK_MISSING_VALUES = False"
   ]
  },
  {
   "cell_type": "markdown",
   "id": "b1f77749",
   "metadata": {},
   "source": [
    "### ACRO pivot_table with negative values"
   ]
  },
  {
   "cell_type": "code",
   "execution_count": 29,
   "id": "01152d49",
   "metadata": {},
   "outputs": [
    {
     "name": "stderr",
     "output_type": "stream",
     "text": [
      "INFO:acro:outcome_df:\n",
      "                 mean       std\n",
      "             children  children\n",
      "parents                        \n",
      "great_pret                     \n",
      "pretentious                    \n",
      "usual        negative  negative\n",
      "INFO:acro:get_summary(): review; negative values found\n",
      "INFO:acro:add_output(): output_11_2023-04-27-19265430\n"
     ]
    },
    {
     "data": {
      "text/html": [
       "<div>\n",
       "<style scoped>\n",
       "    .dataframe tbody tr th:only-of-type {\n",
       "        vertical-align: middle;\n",
       "    }\n",
       "\n",
       "    .dataframe tbody tr th {\n",
       "        vertical-align: top;\n",
       "    }\n",
       "\n",
       "    .dataframe thead tr th {\n",
       "        text-align: left;\n",
       "    }\n",
       "\n",
       "    .dataframe thead tr:last-of-type th {\n",
       "        text-align: right;\n",
       "    }\n",
       "</style>\n",
       "<table border=\"1\" class=\"dataframe\">\n",
       "  <thead>\n",
       "    <tr>\n",
       "      <th></th>\n",
       "      <th>mean</th>\n",
       "      <th>std</th>\n",
       "    </tr>\n",
       "    <tr>\n",
       "      <th></th>\n",
       "      <th>children</th>\n",
       "      <th>children</th>\n",
       "    </tr>\n",
       "    <tr>\n",
       "      <th>parents</th>\n",
       "      <th></th>\n",
       "      <th></th>\n",
       "    </tr>\n",
       "  </thead>\n",
       "  <tbody>\n",
       "    <tr>\n",
       "      <th>great_pret</th>\n",
       "      <td>3.103241</td>\n",
       "      <td>2.212384</td>\n",
       "    </tr>\n",
       "    <tr>\n",
       "      <th>pretentious</th>\n",
       "      <td>3.121759</td>\n",
       "      <td>2.239532</td>\n",
       "    </tr>\n",
       "    <tr>\n",
       "      <th>usual</th>\n",
       "      <td>3.104398</td>\n",
       "      <td>2.346857</td>\n",
       "    </tr>\n",
       "  </tbody>\n",
       "</table>\n",
       "</div>"
      ],
      "text/plain": [
       "                 mean       std\n",
       "             children  children\n",
       "parents                        \n",
       "great_pret   3.103241  2.212384\n",
       "pretentious  3.121759  2.239532\n",
       "usual        3.104398  2.346857"
      ]
     },
     "execution_count": 29,
     "metadata": {},
     "output_type": "execute_result"
    }
   ],
   "source": [
    "df.loc[0:10, \"children\"] = -10\n",
    "\n",
    "table = acro.pivot_table(\n",
    "    df, index=[\"parents\"], values=[\"children\"], aggfunc=[\"mean\", \"std\"]\n",
    ")\n",
    "table"
   ]
  },
  {
   "cell_type": "markdown",
   "id": "45ec04ef",
   "metadata": {},
   "source": [
    "### ACRO OLS"
   ]
  },
  {
   "cell_type": "code",
   "execution_count": 33,
   "id": "72aefb22",
   "metadata": {},
   "outputs": [
    {
     "name": "stdout",
     "output_type": "stream",
     "text": [
      "[2 1 0 4 3]\n",
      "[2 1 0 4 3]\n"
     ]
    }
   ],
   "source": [
    "print(df[\"recommend\"].unique())\n",
    "df[\"recommend\"].replace(\n",
    "    to_replace={\n",
    "        \"not_recom\": \"0\",\n",
    "        \"priority\": \"1\",\n",
    "        \"recommend\": \"2\",\n",
    "        \"spec_prior\": \"3\",\n",
    "        \"very_recom\": \"4\",\n",
    "    },\n",
    "    inplace=True,\n",
    ")\n",
    "df[\"recommend\"] = pd.to_numeric(df[\"recommend\"])\n",
    "print(df[\"recommend\"].unique())\n",
    "\n",
    "# df.describe()"
   ]
  },
  {
   "cell_type": "code",
   "execution_count": 34,
   "id": "2f462e42",
   "metadata": {
    "scrolled": true
   },
   "outputs": [
    {
     "name": "stderr",
     "output_type": "stream",
     "text": [
      "INFO:acro:ols() outcome: pass; dof=12958.0 >= 10\n",
      "INFO:acro:add_output(): output_12_2023-04-27-19375775\n"
     ]
    },
    {
     "data": {
      "text/html": [
       "<table class=\"simpletable\">\n",
       "<caption>OLS Regression Results</caption>\n",
       "<tr>\n",
       "  <th>Dep. Variable:</th>        <td>recommend</td>    <th>  R-squared:         </th> <td>   0.001</td> \n",
       "</tr>\n",
       "<tr>\n",
       "  <th>Model:</th>                   <td>OLS</td>       <th>  Adj. R-squared:    </th> <td>   0.000</td> \n",
       "</tr>\n",
       "<tr>\n",
       "  <th>Method:</th>             <td>Least Squares</td>  <th>  F-statistic:       </th> <td>   7.025</td> \n",
       "</tr>\n",
       "<tr>\n",
       "  <th>Date:</th>             <td>Thu, 27 Apr 2023</td> <th>  Prob (F-statistic):</th>  <td>0.00805</td> \n",
       "</tr>\n",
       "<tr>\n",
       "  <th>Time:</th>                 <td>19:37:57</td>     <th>  Log-Likelihood:    </th> <td> -21728.</td> \n",
       "</tr>\n",
       "<tr>\n",
       "  <th>No. Observations:</th>      <td> 12960</td>      <th>  AIC:               </th> <td>4.346e+04</td>\n",
       "</tr>\n",
       "<tr>\n",
       "  <th>Df Residuals:</th>          <td> 12958</td>      <th>  BIC:               </th> <td>4.347e+04</td>\n",
       "</tr>\n",
       "<tr>\n",
       "  <th>Df Model:</th>              <td>     1</td>      <th>                     </th>     <td> </td>    \n",
       "</tr>\n",
       "<tr>\n",
       "  <th>Covariance Type:</th>      <td>nonrobust</td>    <th>                     </th>     <td> </td>    \n",
       "</tr>\n",
       "</table>\n",
       "<table class=\"simpletable\">\n",
       "<tr>\n",
       "      <td></td>        <th>coef</th>     <th>std err</th>      <th>t</th>      <th>P>|t|</th>  <th>[0.025</th>    <th>0.975]</th>  \n",
       "</tr>\n",
       "<tr>\n",
       "  <th>const</th>    <td>    1.3255</td> <td>    0.019</td> <td>   68.694</td> <td> 0.000</td> <td>    1.288</td> <td>    1.363</td>\n",
       "</tr>\n",
       "<tr>\n",
       "  <th>children</th> <td>    0.0133</td> <td>    0.005</td> <td>    2.651</td> <td> 0.008</td> <td>    0.003</td> <td>    0.023</td>\n",
       "</tr>\n",
       "</table>\n",
       "<table class=\"simpletable\">\n",
       "<tr>\n",
       "  <th>Omnibus:</th>       <td>261578.361</td> <th>  Durbin-Watson:     </th> <td>   2.416</td> \n",
       "</tr>\n",
       "<tr>\n",
       "  <th>Prob(Omnibus):</th>   <td> 0.000</td>   <th>  Jarque-Bera (JB):  </th> <td>1403.968</td> \n",
       "</tr>\n",
       "<tr>\n",
       "  <th>Skew:</th>            <td> 0.440</td>   <th>  Prob(JB):          </th> <td>1.36e-305</td>\n",
       "</tr>\n",
       "<tr>\n",
       "  <th>Kurtosis:</th>        <td> 1.649</td>   <th>  Cond. No.          </th> <td>    6.83</td> \n",
       "</tr>\n",
       "</table><br/><br/>Notes:<br/>[1] Standard Errors assume that the covariance matrix of the errors is correctly specified."
      ],
      "text/plain": [
       "<class 'statsmodels.iolib.summary.Summary'>\n",
       "\"\"\"\n",
       "                            OLS Regression Results                            \n",
       "==============================================================================\n",
       "Dep. Variable:              recommend   R-squared:                       0.001\n",
       "Model:                            OLS   Adj. R-squared:                  0.000\n",
       "Method:                 Least Squares   F-statistic:                     7.025\n",
       "Date:                Thu, 27 Apr 2023   Prob (F-statistic):            0.00805\n",
       "Time:                        19:37:57   Log-Likelihood:                -21728.\n",
       "No. Observations:               12960   AIC:                         4.346e+04\n",
       "Df Residuals:                   12958   BIC:                         4.347e+04\n",
       "Df Model:                           1                                         \n",
       "Covariance Type:            nonrobust                                         \n",
       "==============================================================================\n",
       "                 coef    std err          t      P>|t|      [0.025      0.975]\n",
       "------------------------------------------------------------------------------\n",
       "const          1.3255      0.019     68.694      0.000       1.288       1.363\n",
       "children       0.0133      0.005      2.651      0.008       0.003       0.023\n",
       "==============================================================================\n",
       "Omnibus:                   261578.361   Durbin-Watson:                   2.416\n",
       "Prob(Omnibus):                  0.000   Jarque-Bera (JB):             1403.968\n",
       "Skew:                           0.440   Prob(JB):                    1.36e-305\n",
       "Kurtosis:                       1.649   Cond. No.                         6.83\n",
       "==============================================================================\n",
       "\n",
       "Notes:\n",
       "[1] Standard Errors assume that the covariance matrix of the errors is correctly specified.\n",
       "\"\"\""
      ]
     },
     "execution_count": 34,
     "metadata": {},
     "output_type": "execute_result"
    }
   ],
   "source": [
    "new_df = df[[\"recommend\", \"children\"]]\n",
    "new_df = new_df.dropna()\n",
    "\n",
    "y = new_df[\"recommend\"]\n",
    "x = new_df[\"children\"]\n",
    "x = add_constant(x)\n",
    "\n",
    "results = acro.ols(y, x)\n",
    "results.summary()"
   ]
  },
  {
   "cell_type": "markdown",
   "id": "0c826271",
   "metadata": {},
   "source": [
    "### ACRO OLSR"
   ]
  },
  {
   "cell_type": "code",
   "execution_count": 35,
   "id": "cc90f7c9",
   "metadata": {},
   "outputs": [
    {
     "name": "stderr",
     "output_type": "stream",
     "text": [
      "INFO:acro:olsr() outcome: pass; dof=12958.0 >= 10\n",
      "INFO:acro:add_output(): output_13_2023-04-27-19383360\n"
     ]
    },
    {
     "data": {
      "text/html": [
       "<table class=\"simpletable\">\n",
       "<caption>OLS Regression Results</caption>\n",
       "<tr>\n",
       "  <th>Dep. Variable:</th>        <td>recommend</td>    <th>  R-squared:         </th> <td>   0.001</td> \n",
       "</tr>\n",
       "<tr>\n",
       "  <th>Model:</th>                   <td>OLS</td>       <th>  Adj. R-squared:    </th> <td>   0.000</td> \n",
       "</tr>\n",
       "<tr>\n",
       "  <th>Method:</th>             <td>Least Squares</td>  <th>  F-statistic:       </th> <td>   7.025</td> \n",
       "</tr>\n",
       "<tr>\n",
       "  <th>Date:</th>             <td>Thu, 27 Apr 2023</td> <th>  Prob (F-statistic):</th>  <td>0.00805</td> \n",
       "</tr>\n",
       "<tr>\n",
       "  <th>Time:</th>                 <td>19:38:33</td>     <th>  Log-Likelihood:    </th> <td> -21728.</td> \n",
       "</tr>\n",
       "<tr>\n",
       "  <th>No. Observations:</th>      <td> 12960</td>      <th>  AIC:               </th> <td>4.346e+04</td>\n",
       "</tr>\n",
       "<tr>\n",
       "  <th>Df Residuals:</th>          <td> 12958</td>      <th>  BIC:               </th> <td>4.347e+04</td>\n",
       "</tr>\n",
       "<tr>\n",
       "  <th>Df Model:</th>              <td>     1</td>      <th>                     </th>     <td> </td>    \n",
       "</tr>\n",
       "<tr>\n",
       "  <th>Covariance Type:</th>      <td>nonrobust</td>    <th>                     </th>     <td> </td>    \n",
       "</tr>\n",
       "</table>\n",
       "<table class=\"simpletable\">\n",
       "<tr>\n",
       "      <td></td>         <th>coef</th>     <th>std err</th>      <th>t</th>      <th>P>|t|</th>  <th>[0.025</th>    <th>0.975]</th>  \n",
       "</tr>\n",
       "<tr>\n",
       "  <th>Intercept</th> <td>    1.3255</td> <td>    0.019</td> <td>   68.694</td> <td> 0.000</td> <td>    1.288</td> <td>    1.363</td>\n",
       "</tr>\n",
       "<tr>\n",
       "  <th>children</th>  <td>    0.0133</td> <td>    0.005</td> <td>    2.651</td> <td> 0.008</td> <td>    0.003</td> <td>    0.023</td>\n",
       "</tr>\n",
       "</table>\n",
       "<table class=\"simpletable\">\n",
       "<tr>\n",
       "  <th>Omnibus:</th>       <td>261578.361</td> <th>  Durbin-Watson:     </th> <td>   2.416</td> \n",
       "</tr>\n",
       "<tr>\n",
       "  <th>Prob(Omnibus):</th>   <td> 0.000</td>   <th>  Jarque-Bera (JB):  </th> <td>1403.968</td> \n",
       "</tr>\n",
       "<tr>\n",
       "  <th>Skew:</th>            <td> 0.440</td>   <th>  Prob(JB):          </th> <td>1.36e-305</td>\n",
       "</tr>\n",
       "<tr>\n",
       "  <th>Kurtosis:</th>        <td> 1.649</td>   <th>  Cond. No.          </th> <td>    6.83</td> \n",
       "</tr>\n",
       "</table><br/><br/>Notes:<br/>[1] Standard Errors assume that the covariance matrix of the errors is correctly specified."
      ],
      "text/plain": [
       "<class 'statsmodels.iolib.summary.Summary'>\n",
       "\"\"\"\n",
       "                            OLS Regression Results                            \n",
       "==============================================================================\n",
       "Dep. Variable:              recommend   R-squared:                       0.001\n",
       "Model:                            OLS   Adj. R-squared:                  0.000\n",
       "Method:                 Least Squares   F-statistic:                     7.025\n",
       "Date:                Thu, 27 Apr 2023   Prob (F-statistic):            0.00805\n",
       "Time:                        19:38:33   Log-Likelihood:                -21728.\n",
       "No. Observations:               12960   AIC:                         4.346e+04\n",
       "Df Residuals:                   12958   BIC:                         4.347e+04\n",
       "Df Model:                           1                                         \n",
       "Covariance Type:            nonrobust                                         \n",
       "==============================================================================\n",
       "                 coef    std err          t      P>|t|      [0.025      0.975]\n",
       "------------------------------------------------------------------------------\n",
       "Intercept      1.3255      0.019     68.694      0.000       1.288       1.363\n",
       "children       0.0133      0.005      2.651      0.008       0.003       0.023\n",
       "==============================================================================\n",
       "Omnibus:                   261578.361   Durbin-Watson:                   2.416\n",
       "Prob(Omnibus):                  0.000   Jarque-Bera (JB):             1403.968\n",
       "Skew:                           0.440   Prob(JB):                    1.36e-305\n",
       "Kurtosis:                       1.649   Cond. No.                         6.83\n",
       "==============================================================================\n",
       "\n",
       "Notes:\n",
       "[1] Standard Errors assume that the covariance matrix of the errors is correctly specified.\n",
       "\"\"\""
      ]
     },
     "execution_count": 35,
     "metadata": {},
     "output_type": "execute_result"
    }
   ],
   "source": [
    "results = acro.olsr(formula=\"recommend ~ children\", data=new_df)\n",
    "results.summary()"
   ]
  },
  {
   "cell_type": "markdown",
   "id": "2816eac7",
   "metadata": {},
   "source": [
    "### ACRO Probit"
   ]
  },
  {
   "cell_type": "code",
   "execution_count": 49,
   "id": "5b1a1611",
   "metadata": {},
   "outputs": [
    {
     "name": "stderr",
     "output_type": "stream",
     "text": [
      "INFO:acro:probit() outcome: pass; dof=12958.0 >= 10\n",
      "INFO:acro:add_output(): output_15_2023-04-27-19491702\n"
     ]
    },
    {
     "name": "stdout",
     "output_type": "stream",
     "text": [
      "Optimization terminated successfully.\n",
      "         Current function value: 0.693114\n",
      "         Iterations 3\n"
     ]
    },
    {
     "data": {
      "text/html": [
       "<table class=\"simpletable\">\n",
       "<caption>Probit Regression Results</caption>\n",
       "<tr>\n",
       "  <th>Dep. Variable:</th>        <td>finance</td>     <th>  No. Observations:  </th>  <td> 12960</td>  \n",
       "</tr>\n",
       "<tr>\n",
       "  <th>Model:</th>                <td>Probit</td>      <th>  Df Residuals:      </th>  <td> 12958</td>  \n",
       "</tr>\n",
       "<tr>\n",
       "  <th>Method:</th>                 <td>MLE</td>       <th>  Df Model:          </th>  <td>     1</td>  \n",
       "</tr>\n",
       "<tr>\n",
       "  <th>Date:</th>            <td>Thu, 27 Apr 2023</td> <th>  Pseudo R-squ.:     </th> <td>4.775e-05</td>\n",
       "</tr>\n",
       "<tr>\n",
       "  <th>Time:</th>                <td>19:49:17</td>     <th>  Log-Likelihood:    </th> <td> -8982.8</td> \n",
       "</tr>\n",
       "<tr>\n",
       "  <th>converged:</th>             <td>True</td>       <th>  LL-Null:           </th> <td> -8983.2</td> \n",
       "</tr>\n",
       "<tr>\n",
       "  <th>Covariance Type:</th>     <td>nonrobust</td>    <th>  LLR p-value:       </th>  <td>0.3543</td>  \n",
       "</tr>\n",
       "</table>\n",
       "<table class=\"simpletable\">\n",
       "<tr>\n",
       "      <td></td>        <th>coef</th>     <th>std err</th>      <th>z</th>      <th>P>|z|</th>  <th>[0.025</th>    <th>0.975]</th>  \n",
       "</tr>\n",
       "<tr>\n",
       "  <th>const</th>    <td>   -0.0140</td> <td>    0.019</td> <td>   -0.749</td> <td> 0.454</td> <td>   -0.051</td> <td>    0.023</td>\n",
       "</tr>\n",
       "<tr>\n",
       "  <th>children</th> <td>    0.0045</td> <td>    0.005</td> <td>    0.926</td> <td> 0.354</td> <td>   -0.005</td> <td>    0.014</td>\n",
       "</tr>\n",
       "</table>"
      ],
      "text/plain": [
       "<class 'statsmodels.iolib.summary.Summary'>\n",
       "\"\"\"\n",
       "                          Probit Regression Results                           \n",
       "==============================================================================\n",
       "Dep. Variable:                finance   No. Observations:                12960\n",
       "Model:                         Probit   Df Residuals:                    12958\n",
       "Method:                           MLE   Df Model:                            1\n",
       "Date:                Thu, 27 Apr 2023   Pseudo R-squ.:               4.775e-05\n",
       "Time:                        19:49:17   Log-Likelihood:                -8982.8\n",
       "converged:                       True   LL-Null:                       -8983.2\n",
       "Covariance Type:            nonrobust   LLR p-value:                    0.3543\n",
       "==============================================================================\n",
       "                 coef    std err          z      P>|z|      [0.025      0.975]\n",
       "------------------------------------------------------------------------------\n",
       "const         -0.0140      0.019     -0.749      0.454      -0.051       0.023\n",
       "children       0.0045      0.005      0.926      0.354      -0.005       0.014\n",
       "==============================================================================\n",
       "\"\"\""
      ]
     },
     "execution_count": 49,
     "metadata": {},
     "output_type": "execute_result"
    }
   ],
   "source": [
    "new_df = df[[\"finance\", \"children\"]]\n",
    "new_df = new_df.dropna()\n",
    "\n",
    "y = new_df[\"finance\"].astype(\"category\").cat.codes  # numeric\n",
    "y.name = \"finance\"\n",
    "x = new_df[\"children\"]\n",
    "x = add_constant(x)\n",
    "\n",
    "results = acro.probit(y, x)\n",
    "results.summary()"
   ]
  },
  {
   "cell_type": "markdown",
   "id": "f38b4334",
   "metadata": {},
   "source": [
    "### ACRO Logit"
   ]
  },
  {
   "cell_type": "code",
   "execution_count": 50,
   "id": "dcf30f8f",
   "metadata": {},
   "outputs": [
    {
     "name": "stderr",
     "output_type": "stream",
     "text": [
      "INFO:acro:logit() outcome: pass; dof=12958.0 >= 10\n",
      "INFO:acro:add_output(): output_16_2023-04-27-19492044\n"
     ]
    },
    {
     "name": "stdout",
     "output_type": "stream",
     "text": [
      "Optimization terminated successfully.\n",
      "         Current function value: 0.693114\n",
      "         Iterations 3\n"
     ]
    },
    {
     "data": {
      "text/html": [
       "<table class=\"simpletable\">\n",
       "<caption>Logit Regression Results</caption>\n",
       "<tr>\n",
       "  <th>Dep. Variable:</th>        <td>finance</td>     <th>  No. Observations:  </th>  <td> 12960</td>  \n",
       "</tr>\n",
       "<tr>\n",
       "  <th>Model:</th>                 <td>Logit</td>      <th>  Df Residuals:      </th>  <td> 12958</td>  \n",
       "</tr>\n",
       "<tr>\n",
       "  <th>Method:</th>                 <td>MLE</td>       <th>  Df Model:          </th>  <td>     1</td>  \n",
       "</tr>\n",
       "<tr>\n",
       "  <th>Date:</th>            <td>Thu, 27 Apr 2023</td> <th>  Pseudo R-squ.:     </th> <td>4.775e-05</td>\n",
       "</tr>\n",
       "<tr>\n",
       "  <th>Time:</th>                <td>19:49:20</td>     <th>  Log-Likelihood:    </th> <td> -8982.8</td> \n",
       "</tr>\n",
       "<tr>\n",
       "  <th>converged:</th>             <td>True</td>       <th>  LL-Null:           </th> <td> -8983.2</td> \n",
       "</tr>\n",
       "<tr>\n",
       "  <th>Covariance Type:</th>     <td>nonrobust</td>    <th>  LLR p-value:       </th>  <td>0.3543</td>  \n",
       "</tr>\n",
       "</table>\n",
       "<table class=\"simpletable\">\n",
       "<tr>\n",
       "      <td></td>        <th>coef</th>     <th>std err</th>      <th>z</th>      <th>P>|z|</th>  <th>[0.025</th>    <th>0.975]</th>  \n",
       "</tr>\n",
       "<tr>\n",
       "  <th>const</th>    <td>   -0.0223</td> <td>    0.030</td> <td>   -0.748</td> <td> 0.454</td> <td>   -0.081</td> <td>    0.036</td>\n",
       "</tr>\n",
       "<tr>\n",
       "  <th>children</th> <td>    0.0072</td> <td>    0.008</td> <td>    0.926</td> <td> 0.354</td> <td>   -0.008</td> <td>    0.022</td>\n",
       "</tr>\n",
       "</table>"
      ],
      "text/plain": [
       "<class 'statsmodels.iolib.summary.Summary'>\n",
       "\"\"\"\n",
       "                           Logit Regression Results                           \n",
       "==============================================================================\n",
       "Dep. Variable:                finance   No. Observations:                12960\n",
       "Model:                          Logit   Df Residuals:                    12958\n",
       "Method:                           MLE   Df Model:                            1\n",
       "Date:                Thu, 27 Apr 2023   Pseudo R-squ.:               4.775e-05\n",
       "Time:                        19:49:20   Log-Likelihood:                -8982.8\n",
       "converged:                       True   LL-Null:                       -8983.2\n",
       "Covariance Type:            nonrobust   LLR p-value:                    0.3543\n",
       "==============================================================================\n",
       "                 coef    std err          z      P>|z|      [0.025      0.975]\n",
       "------------------------------------------------------------------------------\n",
       "const         -0.0223      0.030     -0.748      0.454      -0.081       0.036\n",
       "children       0.0072      0.008      0.926      0.354      -0.008       0.022\n",
       "==============================================================================\n",
       "\"\"\""
      ]
     },
     "execution_count": 50,
     "metadata": {},
     "output_type": "execute_result"
    }
   ],
   "source": [
    "results = acro.logit(y, x)\n",
    "results.summary()"
   ]
  },
  {
   "cell_type": "markdown",
   "id": "9e554eea",
   "metadata": {},
   "source": [
    "### List current ACRO outputs"
   ]
  },
  {
   "cell_type": "code",
   "execution_count": 36,
   "id": "ec960039",
   "metadata": {
    "scrolled": true
   },
   "outputs": [
    {
     "name": "stdout",
     "output_type": "stream",
     "text": [
      "output_0_2023-04-27-19161061:\n",
      "command: safe_table = acro.crosstab(df.recommend, df.parents)\n",
      "summary: fail; threshold: 4 cells suppressed; \n",
      "outcome: parents      great_pret  pretentious        usual\n",
      "recommend                                        \n",
      "not_recom            ok           ok           ok\n",
      "priority             ok           ok           ok\n",
      "recommend   threshold;   threshold;   threshold; \n",
      "spec_prior           ok           ok           ok\n",
      "very_recom  threshold;            ok           ok\n",
      "output: [parents     great_pret  pretentious   usual\n",
      "recommend                                  \n",
      "not_recom       1440.0       1440.0  1440.0\n",
      "priority         858.0       1484.0  1924.0\n",
      "recommend          NaN          NaN     NaN\n",
      "spec_prior      2022.0       1264.0   758.0\n",
      "very_recom         NaN        132.0   196.0]\n",
      "timestamp: 2023-04-27-19161061\n",
      "comments: \n",
      "\n",
      "\n",
      "output_1_2023-04-27-19161631:\n",
      "command: safe_table = acro.crosstab(df.recommend, df.parents, values=df.children, aggfunc=\"mean\")\n",
      "summary: fail; threshold: 4 cells suppressed; p-ratio: 4 cells suppressed; nk-rule: 4 cells suppressed; \n",
      "outcome: parents                        great_pret                    pretentious  \\\n",
      "recommend                                                                  \n",
      "not_recom                              ok                             ok   \n",
      "priority                               ok                             ok   \n",
      "recommend   threshold; p-ratio; nk-rule;   threshold; p-ratio; nk-rule;    \n",
      "spec_prior                             ok                             ok   \n",
      "very_recom  threshold; p-ratio; nk-rule;                              ok   \n",
      "\n",
      "parents                             usual  \n",
      "recommend                                  \n",
      "not_recom                              ok  \n",
      "priority                               ok  \n",
      "recommend   threshold; p-ratio; nk-rule;   \n",
      "spec_prior                             ok  \n",
      "very_recom                             ok  \n",
      "output: [parents     great_pret  pretentious     usual\n",
      "recommend                                    \n",
      "not_recom     3.106250     3.109722  3.110417\n",
      "priority      2.578089     3.045822  3.151247\n",
      "recommend          NaN          NaN       NaN\n",
      "spec_prior    3.323937     3.321994  3.366755\n",
      "very_recom         NaN     2.189394  2.224490]\n",
      "timestamp: 2023-04-27-19161631\n",
      "comments: \n",
      "\n",
      "\n",
      "output_2_2023-04-27-19202194:\n",
      "command: safe_table = acro.crosstab(df.form, df.parents, values=missing, aggfunc=\"mean\")\n",
      "summary: review; missing values found\n",
      "outcome: parents    great_pret pretentious    usual\n",
      "form                                      \n",
      "complete                           missing\n",
      "completed                                 \n",
      "foster                                    \n",
      "incomplete                                \n",
      "output: [parents     great_pret  pretentious     usual\n",
      "form                                         \n",
      "complete      3.089815     3.137037  3.144860\n",
      "completed     3.135185     3.089815  3.153704\n",
      "foster        3.102778     3.150926  3.121296\n",
      "incomplete    3.085185     3.109259  3.129630]\n",
      "timestamp: 2023-04-27-19202194\n",
      "comments: \n",
      "\n",
      "\n",
      "output_3_2023-04-27-19211026:\n",
      "command: safe_table = acro.crosstab(df.recommend, df.parents, values=negative, aggfunc=\"mean\")\n",
      "summary: review; missing values found\n",
      "outcome: parents    great_pret pretentious usual\n",
      "recommend                              \n",
      "not_recom                              \n",
      "priority                               \n",
      "recommend     missing     missing      \n",
      "spec_prior                             \n",
      "very_recom    missing                  \n",
      "output: [parents     great_pret  pretentious      usual\n",
      "recommend                                     \n",
      "not_recom     3.106250     3.109722   3.087500\n",
      "priority      2.578089     3.045822   3.128378\n",
      "recommend          NaN          NaN -10.000000\n",
      "spec_prior    3.323937     3.321994   3.366755\n",
      "very_recom         NaN     2.189394   2.168367]\n",
      "timestamp: 2023-04-27-19211026\n",
      "comments: \n",
      "\n",
      "\n",
      "output_4_2023-04-27-19214775:\n",
      "command: safe_table = acro.crosstab(df.form, df.parents, values=negative, aggfunc=\"mean\")\n",
      "summary: review; negative values found\n",
      "outcome: parents    great_pret pretentious     usual\n",
      "form                                       \n",
      "complete                           negative\n",
      "completed                                  \n",
      "foster                                     \n",
      "incomplete                                 \n",
      "output: [parents     great_pret  pretentious     usual\n",
      "form                                         \n",
      "complete      3.089815     3.137037  3.023148\n",
      "completed     3.135185     3.089815  3.153704\n",
      "foster        3.102778     3.150926  3.121296\n",
      "incomplete    3.085185     3.109259  3.129630]\n",
      "timestamp: 2023-04-27-19214775\n",
      "comments: \n",
      "\n",
      "\n",
      "output_5_2023-04-27-19231762:\n",
      "command: table = acro.pivot_table(\n",
      "summary: review; missing values found\n",
      "outcome:                 mean      std\n",
      "            children children\n",
      "parents                      \n",
      "great_pret                   \n",
      "pretentious                  \n",
      "usual                        \n",
      "output: [                 mean       std\n",
      "             children  children\n",
      "parents                        \n",
      "great_pret   3.103241  2.212384\n",
      "pretentious  3.121759  2.239532\n",
      "usual        3.132407  2.254078]\n",
      "timestamp: 2023-04-27-19231762\n",
      "comments: \n",
      "\n",
      "\n",
      "output_6_2023-04-27-19241214:\n",
      "command: safe_table = acro.crosstab(df.form, df.parents, values=negative, aggfunc=\"mean\")\n",
      "summary: review; negative values found\n",
      "outcome: parents    great_pret pretentious     usual\n",
      "form                                       \n",
      "complete                           negative\n",
      "completed                                  \n",
      "foster                                     \n",
      "incomplete                                 \n",
      "output: [parents     great_pret  pretentious     usual\n",
      "form                                         \n",
      "complete      3.089815     3.137037  3.023148\n",
      "completed     3.135185     3.089815  3.153704\n",
      "foster        3.102778     3.150926  3.121296\n",
      "incomplete    3.085185     3.109259  3.129630]\n",
      "timestamp: 2023-04-27-19241214\n",
      "comments: \n",
      "\n",
      "\n",
      "output_7_2023-04-27-19241810:\n",
      "command: safe_table = acro.crosstab(df.recommend, df.parents, values=negative, aggfunc=\"mean\")\n",
      "summary: fail; threshold: 4 cells suppressed; p-ratio: 3 cells suppressed; nk-rule: 3 cells suppressed; \n",
      "outcome: parents                        great_pret                    pretentious  \\\n",
      "recommend                                                                  \n",
      "not_recom                              ok                             ok   \n",
      "priority                               ok                             ok   \n",
      "recommend   threshold; p-ratio; nk-rule;   threshold; p-ratio; nk-rule;    \n",
      "spec_prior                             ok                             ok   \n",
      "very_recom  threshold; p-ratio; nk-rule;                              ok   \n",
      "\n",
      "parents           usual  \n",
      "recommend                \n",
      "not_recom            ok  \n",
      "priority             ok  \n",
      "recommend   threshold;   \n",
      "spec_prior           ok  \n",
      "very_recom           ok  \n",
      "output: [parents     great_pret  pretentious     usual\n",
      "recommend                                    \n",
      "not_recom     3.106250     3.109722  3.087500\n",
      "priority      2.578089     3.045822  3.128378\n",
      "recommend          NaN          NaN       NaN\n",
      "spec_prior    3.323937     3.321994  3.366755\n",
      "very_recom         NaN     2.189394  2.168367]\n",
      "timestamp: 2023-04-27-19241810\n",
      "comments: \n",
      "\n",
      "\n",
      "output_8_2023-04-27-19250153:\n",
      "command: table = acro.pivot_table(\n",
      "summary: pass\n",
      "outcome:                 mean      std\n",
      "            children children\n",
      "parents                      \n",
      "great_pret        ok       ok\n",
      "pretentious       ok       ok\n",
      "usual             ok       ok\n",
      "output: [                 mean       std\n",
      "             children  children\n",
      "parents                        \n",
      "great_pret   3.103241  2.212384\n",
      "pretentious  3.121759  2.239532\n",
      "usual        3.132407  2.254078]\n",
      "timestamp: 2023-04-27-19250153\n",
      "comments: \n",
      "\n",
      "\n",
      "output_9_2023-04-27-19253124:\n",
      "command: table = acro.pivot_table(\n",
      "summary: review; missing values found\n",
      "outcome:                 mean      std\n",
      "            children children\n",
      "parents                      \n",
      "great_pret                   \n",
      "pretentious                  \n",
      "usual        missing  missing\n",
      "output: [                 mean       std\n",
      "             children  children\n",
      "parents                        \n",
      "great_pret   3.103241  2.212384\n",
      "pretentious  3.121759  2.239532\n",
      "usual        3.137851  2.254373]\n",
      "timestamp: 2023-04-27-19253124\n",
      "comments: \n",
      "\n",
      "\n",
      "output_10_2023-04-27-19263597:\n",
      "command: table = acro.pivot_table(\n",
      "summary: review; missing values found\n",
      "outcome:                 mean      std\n",
      "            children children\n",
      "parents                      \n",
      "great_pret                   \n",
      "pretentious                  \n",
      "usual        missing  missing\n",
      "output: [                 mean       std\n",
      "             children  children\n",
      "parents                        \n",
      "great_pret   3.103241  2.212384\n",
      "pretentious  3.121759  2.239532\n",
      "usual        3.137851  2.254373]\n",
      "timestamp: 2023-04-27-19263597\n",
      "comments: \n",
      "\n",
      "\n",
      "output_11_2023-04-27-19265430:\n",
      "command: table = acro.pivot_table(\n",
      "summary: review; negative values found\n",
      "outcome:                  mean       std\n",
      "             children  children\n",
      "parents                        \n",
      "great_pret                     \n",
      "pretentious                    \n",
      "usual        negative  negative\n",
      "output: [                 mean       std\n",
      "             children  children\n",
      "parents                        \n",
      "great_pret   3.103241  2.212384\n",
      "pretentious  3.121759  2.239532\n",
      "usual        3.104398  2.346857]\n",
      "timestamp: 2023-04-27-19265430\n",
      "comments: \n",
      "\n",
      "\n",
      "output_12_2023-04-27-19375775:\n",
      "command: results = acro.ols(y, x)\n",
      "summary: pass; dof=12958.0 >= 10\n",
      "outcome: Empty DataFrame\n",
      "Columns: []\n",
      "Index: []\n",
      "output: [                          recommend           R-squared:        0.001\n",
      "Dep. Variable:                                                       \n",
      "Model:                          OLS      Adj. R-squared:      0.00000\n",
      "Method:               Least Squares         F-statistic:      7.02500\n",
      "Date:              Thu, 27 Apr 2023  Prob (F-statistic):      0.00805\n",
      "Time:                      19:37:57      Log-Likelihood: -21728.00000\n",
      "No. Observations:             12960                 AIC:  43460.00000\n",
      "Df Residuals:                 12958                 BIC:  43470.00000\n",
      "Df Model:                         1                  NaN          NaN\n",
      "Covariance Type:          nonrobust                  NaN          NaN,             coef  std err       t  P>|t|  [0.025  0.975]\n",
      "const     1.3255    0.019  68.694  0.000   1.288   1.363\n",
      "children  0.0133    0.005   2.651  0.008   0.003   0.023,                 261578.361     Durbin-Watson:          2.416\n",
      "Omnibus:                                                    \n",
      "Prob(Omnibus):       0.000  Jarque-Bera (JB):   1.403968e+03\n",
      "Skew:                0.440          Prob(JB):  1.360000e-305\n",
      "Kurtosis:            1.649          Cond. No.   6.830000e+00]\n",
      "timestamp: 2023-04-27-19375775\n",
      "comments: \n",
      "\n",
      "\n",
      "output_13_2023-04-27-19383360:\n",
      "command: results = acro.olsr(\n",
      "summary: pass; dof=12958.0 >= 10\n",
      "outcome: Empty DataFrame\n",
      "Columns: []\n",
      "Index: []\n",
      "output: [                          recommend           R-squared:        0.001\n",
      "Dep. Variable:                                                       \n",
      "Model:                          OLS      Adj. R-squared:      0.00000\n",
      "Method:               Least Squares         F-statistic:      7.02500\n",
      "Date:              Thu, 27 Apr 2023  Prob (F-statistic):      0.00805\n",
      "Time:                      19:38:33      Log-Likelihood: -21728.00000\n",
      "No. Observations:             12960                 AIC:  43460.00000\n",
      "Df Residuals:                 12958                 BIC:  43470.00000\n",
      "Df Model:                         1                  NaN          NaN\n",
      "Covariance Type:          nonrobust                  NaN          NaN,              coef  std err       t  P>|t|  [0.025  0.975]\n",
      "Intercept  1.3255    0.019  68.694  0.000   1.288   1.363\n",
      "children   0.0133    0.005   2.651  0.008   0.003   0.023,                 261578.361     Durbin-Watson:          2.416\n",
      "Omnibus:                                                    \n",
      "Prob(Omnibus):       0.000  Jarque-Bera (JB):   1.403968e+03\n",
      "Skew:                0.440          Prob(JB):  1.360000e-305\n",
      "Kurtosis:            1.649          Cond. No.   6.830000e+00]\n",
      "timestamp: 2023-04-27-19383360\n",
      "comments: \n",
      "\n",
      "\n"
     ]
    }
   ],
   "source": [
    "acro.print_outputs()"
   ]
  },
  {
   "cell_type": "markdown",
   "id": "f78b5a08",
   "metadata": {},
   "source": [
    "### Remove some ACRO outputs before finalising"
   ]
  },
  {
   "cell_type": "code",
   "execution_count": 37,
   "id": "e4ee985e",
   "metadata": {},
   "outputs": [
    {
     "name": "stderr",
     "output_type": "stream",
     "text": [
      "INFO:acro:remove_output(): output_1_2023-04-27-19161631 removed\n",
      "INFO:acro:remove_output(): output_4_2023-04-27-19214775 removed\n"
     ]
    }
   ],
   "source": [
    "output_1 = list(acro.results.keys())[1]\n",
    "output_4 = list(acro.results.keys())[4]\n",
    "\n",
    "acro.remove_output(output_1)\n",
    "acro.remove_output(output_4)"
   ]
  },
  {
   "cell_type": "markdown",
   "id": "df2a02e0",
   "metadata": {},
   "source": [
    "### Rename ACRO outputs before finalising"
   ]
  },
  {
   "cell_type": "code",
   "execution_count": 38,
   "id": "b9d0b9ac",
   "metadata": {},
   "outputs": [
    {
     "name": "stderr",
     "output_type": "stream",
     "text": [
      "INFO:acro:rename_output(): output_3_2023-04-27-19211026 renamed to pivot_table_2023-04-27-19211026\n"
     ]
    }
   ],
   "source": [
    "acro.rename_output(list(acro.results.keys())[2], \"pivot_table\")"
   ]
  },
  {
   "cell_type": "markdown",
   "id": "56d2b6a1",
   "metadata": {},
   "source": [
    "### Add a comment to output"
   ]
  },
  {
   "cell_type": "code",
   "execution_count": 39,
   "id": "8e21f7b0",
   "metadata": {},
   "outputs": [
    {
     "name": "stderr",
     "output_type": "stream",
     "text": [
      "INFO:acro:a comment was added to output_0_2023-04-27-19161061\n",
      "INFO:acro:a comment was added to output_0_2023-04-27-19161061\n"
     ]
    }
   ],
   "source": [
    "acro.add_comments(\n",
    "    list(acro.results.keys())[0], \"This is a cross table between year and grant_type\"\n",
    ")\n",
    "acro.add_comments(list(acro.results.keys())[0], \"6 cells were supressed in this table\")"
   ]
  },
  {
   "cell_type": "markdown",
   "id": "8496fed4",
   "metadata": {},
   "source": [
    "### Add an unsupported output to the list of outputs"
   ]
  },
  {
   "cell_type": "code",
   "execution_count": 40,
   "id": "1e8000a1",
   "metadata": {},
   "outputs": [
    {
     "name": "stderr",
     "output_type": "stream",
     "text": [
      "INFO:acro:add_output(): output_14_2023-04-27-19393314\n"
     ]
    }
   ],
   "source": [
    "acro.custom_output(\n",
    "    \"XandY.jfif\", \"This output is an image showing the relationship between X and Y\"\n",
    ")"
   ]
  },
  {
   "cell_type": "markdown",
   "id": "5a586694",
   "metadata": {},
   "source": [
    "### Finalise ACRO"
   ]
  },
  {
   "cell_type": "code",
   "execution_count": 42,
   "id": "f941aca2",
   "metadata": {},
   "outputs": [
    {
     "name": "stderr",
     "output_type": "stream",
     "text": [
      "INFO:acro:Directory outputs/ already exists\n",
      "INFO:acro:output written to: test_results.json\n"
     ]
    }
   ],
   "source": [
    "# output = acro.finalise(\"test_results.xlsx\")\n",
    "output = acro.finalise(\"test_results.json\")"
   ]
  },
  {
   "cell_type": "code",
   "execution_count": null,
   "id": "50c59b97",
   "metadata": {},
   "outputs": [],
   "source": []
  }
 ],
 "metadata": {
  "kernelspec": {
   "display_name": "acro_venv",
   "language": "python",
   "name": "python3"
  },
  "language_info": {
   "codemirror_mode": {
    "name": "ipython",
    "version": 3
   },
   "file_extension": ".py",
   "mimetype": "text/x-python",
   "name": "python",
   "nbconvert_exporter": "python",
   "pygments_lexer": "ipython3",
   "version": "3.10.2"
  }
 },
 "nbformat": 4,
 "nbformat_minor": 5
}

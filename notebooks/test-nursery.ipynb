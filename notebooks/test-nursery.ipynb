{
 "cells": [
  {
   "cell_type": "markdown",
   "id": "00cac1f9",
   "metadata": {
    "slideshow": {
     "slide_type": "slide"
    }
   },
   "source": [
    "# ACRO Demonstration"
   ]
  },
  {
   "cell_type": "code",
   "execution_count": 12,
   "id": "e33fd4fb",
   "metadata": {
    "slideshow": {
     "slide_type": "fragment"
    }
   },
   "outputs": [],
   "source": [
    "import os\n",
    "import sys\n",
    "import pandas as pd\n",
    "import numpy as np"
   ]
  },
  {
   "cell_type": "code",
   "execution_count": 13,
   "id": "c01cfe12",
   "metadata": {
    "slideshow": {
     "slide_type": "skip"
    }
   },
   "outputs": [],
   "source": [
    "# uncomment this line if acro is not installed\n",
    "# ie you are in development mode\n",
    "# sys.path.insert(0, os.path.abspath(\"..\"))"
   ]
  },
  {
   "cell_type": "code",
   "execution_count": 14,
   "id": "cc8d993a",
   "metadata": {
    "scrolled": true,
    "slideshow": {
     "slide_type": "fragment"
    }
   },
   "outputs": [],
   "source": [
    "from acro import ACRO, add_constant, utils"
   ]
  },
  {
   "cell_type": "markdown",
   "id": "530efcfe",
   "metadata": {
    "slideshow": {
     "slide_type": "slide"
    }
   },
   "source": [
    "### Instantiate ACRO"
   ]
  },
  {
   "cell_type": "code",
   "execution_count": 15,
   "id": "4b8a77e2",
   "metadata": {
    "slideshow": {
     "slide_type": "fragment"
    }
   },
   "outputs": [
    {
     "name": "stderr",
     "output_type": "stream",
     "text": [
      "INFO:acro:config: {'safe_threshold': 10, 'safe_dof_threshold': 10, 'safe_nk_n': 2, 'safe_nk_k': 0.9, 'safe_pratio_p': 0.1, 'check_missing_values': False}\n"
     ]
    }
   ],
   "source": [
    "acro = ACRO()"
   ]
  },
  {
   "cell_type": "markdown",
   "id": "27a2baaa",
   "metadata": {
    "slideshow": {
     "slide_type": "slide"
    }
   },
   "source": [
    "### Load test data\n",
    "The dataset used in this notebook is the nursery dataset from OpenML.  \n",
    "- The dataset can be read directly from OpenML using the code commented in the next cell.\n",
    "- In this version, it can be read directly from the local machine if it has been downloaded. \n",
    "- The code below reads the data from a folder called \"data\" which we assume is at the same level as the folder where you are working.\n",
    "- The path might need to be changed if the data has been downloaded and stored elsewhere.\n",
    " - for example use:  \n",
    "    path = os.path.join(\"data\", \"nursery.arff\")  \n",
    "    if the data is in a sub-folder of your work folder"
   ]
  },
  {
   "cell_type": "code",
   "execution_count": 16,
   "id": "ac790b2b-b02f-49f7-8237-a033abed6e87",
   "metadata": {
    "scrolled": true,
    "slideshow": {
     "slide_type": "fragment"
    }
   },
   "outputs": [
    {
     "ename": "FileNotFoundError",
     "evalue": "[Errno 2] No such file or directory: '../data/nursery.arff'",
     "output_type": "error",
     "traceback": [
      "\u001b[0;31m---------------------------------------------------------------------------\u001b[0m",
      "\u001b[0;31mFileNotFoundError\u001b[0m                         Traceback (most recent call last)",
      "Cell \u001b[0;32mIn[16], line 4\u001b[0m\n\u001b[1;32m      1\u001b[0m \u001b[38;5;28;01mfrom\u001b[39;00m \u001b[38;5;21;01mscipy\u001b[39;00m\u001b[38;5;21;01m.\u001b[39;00m\u001b[38;5;21;01mio\u001b[39;00m\u001b[38;5;21;01m.\u001b[39;00m\u001b[38;5;21;01marff\u001b[39;00m \u001b[38;5;28;01mimport\u001b[39;00m loadarff\n\u001b[1;32m      3\u001b[0m path \u001b[38;5;241m=\u001b[39m os\u001b[38;5;241m.\u001b[39mpath\u001b[38;5;241m.\u001b[39mjoin(\u001b[38;5;124m\"\u001b[39m\u001b[38;5;124m../data\u001b[39m\u001b[38;5;124m\"\u001b[39m, \u001b[38;5;124m\"\u001b[39m\u001b[38;5;124mnursery.arff\u001b[39m\u001b[38;5;124m\"\u001b[39m)\n\u001b[0;32m----> 4\u001b[0m data \u001b[38;5;241m=\u001b[39m \u001b[43mloadarff\u001b[49m\u001b[43m(\u001b[49m\u001b[43mpath\u001b[49m\u001b[43m)\u001b[49m\n\u001b[1;32m      5\u001b[0m df \u001b[38;5;241m=\u001b[39m pd\u001b[38;5;241m.\u001b[39mDataFrame(data[\u001b[38;5;241m0\u001b[39m])\n\u001b[1;32m      6\u001b[0m df \u001b[38;5;241m=\u001b[39m df\u001b[38;5;241m.\u001b[39mselect_dtypes([\u001b[38;5;28mobject\u001b[39m])\n",
      "File \u001b[0;32m~/miniforge3/envs/sprint1/lib/python3.10/site-packages/scipy/io/arff/_arffread.py:800\u001b[0m, in \u001b[0;36mloadarff\u001b[0;34m(f)\u001b[0m\n\u001b[1;32m    798\u001b[0m     ofile \u001b[38;5;241m=\u001b[39m f\n\u001b[1;32m    799\u001b[0m \u001b[38;5;28;01melse\u001b[39;00m:\n\u001b[0;32m--> 800\u001b[0m     ofile \u001b[38;5;241m=\u001b[39m \u001b[38;5;28;43mopen\u001b[39;49m\u001b[43m(\u001b[49m\u001b[43mf\u001b[49m\u001b[43m,\u001b[49m\u001b[43m \u001b[49m\u001b[38;5;124;43m'\u001b[39;49m\u001b[38;5;124;43mrt\u001b[39;49m\u001b[38;5;124;43m'\u001b[39;49m\u001b[43m)\u001b[49m\n\u001b[1;32m    801\u001b[0m \u001b[38;5;28;01mtry\u001b[39;00m:\n\u001b[1;32m    802\u001b[0m     \u001b[38;5;28;01mreturn\u001b[39;00m _loadarff(ofile)\n",
      "\u001b[0;31mFileNotFoundError\u001b[0m: [Errno 2] No such file or directory: '../data/nursery.arff'"
     ]
    }
   ],
   "source": [
    "from scipy.io.arff import loadarff\n",
    "\n",
    "path = os.path.join(\"../data\", \"nursery.arff\")\n",
    "data = loadarff(path)\n",
    "df = pd.DataFrame(data[0])\n",
    "df = df.select_dtypes([object])\n",
    "df = df.stack().str.decode(\"utf-8\").unstack()\n",
    "df.rename(columns={\"class\": \"recommend\"}, inplace=True)\n",
    "df.head()"
   ]
  },
  {
   "cell_type": "markdown",
   "id": "ea2a0d76-ba68-4a74-93c3-bdaa88c48929",
   "metadata": {
    "slideshow": {
     "slide_type": "slide"
    }
   },
   "source": [
    "### Convert 'more than 3' children to random between 4 and 10\n",
    "Change the children column from categorical to numeric in order to be able to test some of the ACRO functions that require a numeric feature"
   ]
  },
  {
   "cell_type": "code",
   "execution_count": 11,
   "id": "b43810a8-4da9-4cec-a613-e2562ed95601",
   "metadata": {
    "scrolled": true,
    "slideshow": {
     "slide_type": "fragment"
    }
   },
   "outputs": [
    {
     "ename": "NameError",
     "evalue": "name 'df' is not defined",
     "output_type": "error",
     "traceback": [
      "\u001b[0;31m---------------------------------------------------------------------------\u001b[0m",
      "\u001b[0;31mNameError\u001b[0m                                 Traceback (most recent call last)",
      "Cell \u001b[0;32mIn[11], line 1\u001b[0m\n\u001b[0;32m----> 1\u001b[0m \u001b[38;5;28mprint\u001b[39m(\u001b[38;5;124mf\u001b[39m\u001b[38;5;124m'\u001b[39m\u001b[38;5;124m children column entries in raw file \u001b[39m\u001b[38;5;132;01m{\u001b[39;00m\u001b[43mdf\u001b[49m\u001b[38;5;241m.\u001b[39mchildren\u001b[38;5;241m.\u001b[39munique()\u001b[38;5;132;01m}\u001b[39;00m\u001b[38;5;124m'\u001b[39m)\n",
      "\u001b[0;31mNameError\u001b[0m: name 'df' is not defined"
     ]
    }
   ],
   "source": [
    "print(f' children column entries in raw file {df.children.unique()}')"
   ]
  },
  {
   "cell_type": "code",
   "execution_count": null,
   "id": "042f8e9d-b33b-4daf-851e-9f70b5d4859a",
   "metadata": {
    "scrolled": true,
    "slideshow": {
     "slide_type": "fragment"
    }
   },
   "outputs": [],
   "source": [
    "    \n",
    "df[\"children\"].replace(to_replace={\"more\": \"4\"}, inplace=True)\n",
    "df[\"children\"] = pd.to_numeric(df[\"children\"])\n",
    "\n",
    "df[\"children\"] = df.apply(\n",
    "    lambda row: row[\"children\"]\n",
    "    if row[\"children\"] in (1, 2, 3)\n",
    "    else np.random.randint(4, 10),\n",
    "    axis=1,\n",
    ")"
   ]
  },
  {
   "cell_type": "markdown",
   "id": "21ae8d4b",
   "metadata": {
    "slideshow": {
     "slide_type": "slide"
    }
   },
   "source": [
    "# Examples of producing tabular output\n",
    "We rely on the industry-standard package **pandas** for tabulating data.  \n",
    "In the next few examples we show:\n",
    "- first, how a researcher would normally make a call in pandas, saving the results in a variable that they can view on screen (or save to file?)\n",
    "- then how the call is identical in SACRO, except that:\n",
    "  - \"pd\" is replaced by \"acro\"\n",
    "  - the researcher immediately sees a copy of what the TRE output checker will see.\n",
    "  "
   ]
  },
  {
   "cell_type": "markdown",
   "id": "4ae844a0",
   "metadata": {
    "slideshow": {
     "slide_type": "slide"
    }
   },
   "source": [
    "### Pandas crosstab\n",
    "This is an example of crosstab using pandas.  \n",
    "We first make the call, then the second line print the outputs to screen."
   ]
  },
  {
   "cell_type": "code",
   "execution_count": null,
   "id": "961684cb",
   "metadata": {
    "slideshow": {
     "slide_type": "fragment"
    }
   },
   "outputs": [],
   "source": [
    "table = pd.crosstab(df.recommend, df.parents)\n",
    "print(table)"
   ]
  },
  {
   "cell_type": "markdown",
   "id": "d642ed00",
   "metadata": {
    "slideshow": {
     "slide_type": "slide"
    }
   },
   "source": [
    "### ACRO crosstab\n",
    "This is an example of crosstab using ACRO.  \n",
    "The INFO lines show the researcher what will be reported to the output checkers.\n",
    "Then the (suppressed as necessary)  table is shown via. the print command as before."
   ]
  },
  {
   "cell_type": "code",
   "execution_count": null,
   "id": "bb4b2677",
   "metadata": {
    "scrolled": true,
    "slideshow": {
     "slide_type": "fragment"
    }
   },
   "outputs": [],
   "source": [
    "safe_table = acro.crosstab(df.recommend, df.parents)\n",
    "print(safe_table)"
   ]
  },
  {
   "cell_type": "markdown",
   "id": "8b603548",
   "metadata": {
    "slideshow": {
     "slide_type": "slide"
    }
   },
   "source": [
    "### ACRO crosstab with aggregation function"
   ]
  },
  {
   "cell_type": "code",
   "execution_count": null,
   "id": "298d2b40",
   "metadata": {
    "slideshow": {
     "slide_type": "fragment"
    }
   },
   "outputs": [],
   "source": [
    "safe_table = acro.crosstab(df.recommend, df.parents, values=df.children, aggfunc=\"mean\")\n",
    "print(safe_table)"
   ]
  },
  {
   "cell_type": "markdown",
   "id": "d66e565b",
   "metadata": {
    "slideshow": {
     "slide_type": "slide"
    }
   },
   "source": [
    "### ACRO pivot_table\n",
    "This is an example of pivot table using ACRO.  \n",
    "- Some researchers may prefer this to using crosstab.   \n",
    "- Again the call syntax is identical to the pandas \"pd.pivot_table\"\n",
    "- in this case the output is non-disclosive"
   ]
  },
  {
   "cell_type": "code",
   "execution_count": null,
   "id": "966c1a9b",
   "metadata": {
    "slideshow": {
     "slide_type": "fragment"
    }
   },
   "outputs": [],
   "source": [
    "table = acro.pivot_table(\n",
    "    df, index=[\"parents\"], values=[\"children\"], aggfunc=[\"mean\", \"std\"]\n",
    ")\n",
    "print(table)"
   ]
  },
  {
   "cell_type": "markdown",
   "id": "8446fa99-c073-48b8-875e-700dfa17ea0c",
   "metadata": {
    "slideshow": {
     "slide_type": "slide"
    }
   },
   "source": [
    "# Regression examples using ACRO\n",
    "\n",
    "Again there is an industry-standard package in python, this time called **statsmodels**.\n",
    "- The examples below illustrate the use of the ACRO wrapper standard statsmodel functions\n",
    "- Note that statsmodels can be called using an 'R-like' format (using an 'r' suffix on the command names)\n",
    "- most statsmodels functiobns return a \"results object\" which has a \"summary\" function that produces printable/saveable outputs \n",
    "\n",
    "### Start by manipulating the nursery data to get two numeric variables\n",
    "- The 'recommend' column is converted to an integer scale"
   ]
  },
  {
   "cell_type": "code",
   "execution_count": null,
   "id": "72aefb22",
   "metadata": {
    "slideshow": {
     "slide_type": "slide"
    }
   },
   "outputs": [],
   "source": [
    "df[\"recommend\"].replace(\n",
    "    to_replace={\n",
    "        \"not_recom\": \"0\",\n",
    "        \"recommend\": \"1\",\n",
    "        \"very_recom\": \"2\",\n",
    "        \"priority\": \"3\",\n",
    "        \"spec_prior\": \"4\",\n",
    "    },\n",
    "    inplace=True,\n",
    ")\n",
    "df[\"recommend\"] = pd.to_numeric(df[\"recommend\"])\n",
    "\n",
    "new_df = df[[\"recommend\", \"children\"]]\n",
    "new_df = new_df.dropna()"
   ]
  },
  {
   "cell_type": "markdown",
   "id": "3ef880e6-726f-4a0b-9bcd-da8861dbd5a7",
   "metadata": {
    "slideshow": {
     "slide_type": "slide"
    }
   },
   "source": [
    "### ACRO OLS \n",
    "This is an example of ordinary least square regression using ACRO.  \n",
    "- Above recommend column was converted form categorical to numeric. \n",
    "- Now we perform a the linear regression between recommend and children. \n",
    "- This version includes a constant (intercept)\n",
    "- This is just to show how the regression is done using ACRO.  \n",
    "- **No correlation is expected to be seen by using these variables**"
   ]
  },
  {
   "cell_type": "code",
   "execution_count": null,
   "id": "2f462e42",
   "metadata": {
    "scrolled": true,
    "slideshow": {
     "slide_type": "slide"
    }
   },
   "outputs": [],
   "source": [
    "y = new_df[\"recommend\"]\n",
    "x = new_df[\"children\"]\n",
    "x = add_constant(x)\n",
    "\n",
    "results = acro.ols(y, x)\n",
    "results.summary()"
   ]
  },
  {
   "cell_type": "markdown",
   "id": "0c826271",
   "metadata": {
    "slideshow": {
     "slide_type": "slide"
    }
   },
   "source": [
    "### ACRO OLSR\n",
    "This is an example of ordinary least squares regression using the 'R-like' statsmodels api, i.e. from a formula and dataframe using ACRO "
   ]
  },
  {
   "cell_type": "code",
   "execution_count": null,
   "id": "cc90f7c9",
   "metadata": {
    "slideshow": {
     "slide_type": "slide"
    }
   },
   "outputs": [],
   "source": [
    "results = acro.olsr(formula=\"recommend ~ children\", data=new_df)\n",
    "print(results.summary())"
   ]
  },
  {
   "cell_type": "markdown",
   "id": "2816eac7",
   "metadata": {
    "slideshow": {
     "slide_type": "slide"
    }
   },
   "source": [
    "### ACRO Probit\n",
    "This is an example of probit regression using ACRO  \n",
    "We use a different combination of variables from the original dataset.\n",
    "\n",
    "Again, we support the use of R-lijke formulas - because we suprort R "
   ]
  },
  {
   "cell_type": "code",
   "execution_count": null,
   "id": "5b1a1611",
   "metadata": {
    "slideshow": {
     "slide_type": "slide"
    }
   },
   "outputs": [],
   "source": [
    "new_df = df[[\"finance\", \"children\"]]\n",
    "new_df = new_df.dropna()\n",
    "\n",
    "y = new_df[\"finance\"].astype(\"category\").cat.codes  # numeric\n",
    "y.name = \"finance\"\n",
    "x = new_df[\"children\"]\n",
    "x = add_constant(x)\n",
    "\n",
    "results = acro.probit(y, x)\n",
    "print(results.summary())"
   ]
  },
  {
   "cell_type": "markdown",
   "id": "f38b4334",
   "metadata": {
    "slideshow": {
     "slide_type": "slide"
    }
   },
   "source": [
    "### ACRO Logit\n",
    "This is an example of logistic regression using ACRO using the statmodels function"
   ]
  },
  {
   "cell_type": "code",
   "execution_count": null,
   "id": "dcf30f8f",
   "metadata": {
    "slideshow": {
     "slide_type": "slide"
    }
   },
   "outputs": [],
   "source": [
    "results = acro.logit(y, x)\n",
    "results.summary()"
   ]
  },
  {
   "cell_type": "markdown",
   "id": "9e554eea",
   "metadata": {
    "slideshow": {
     "slide_type": "slide"
    }
   },
   "source": [
    "# ACRO functionality to let users manage their outputs\n",
    "\n",
    "### 1: List current ACRO outputs\n",
    "This is an example of using the print_output function to list all the outputs created so far"
   ]
  },
  {
   "cell_type": "code",
   "execution_count": null,
   "id": "ec960039",
   "metadata": {
    "scrolled": true,
    "slideshow": {
     "slide_type": "fragment"
    }
   },
   "outputs": [],
   "source": [
    "acro.print_outputs()"
   ]
  },
  {
   "cell_type": "markdown",
   "id": "f78b5a08",
   "metadata": {
    "slideshow": {
     "slide_type": "slide"
    }
   },
   "source": [
    "### 2: Remove some ACRO outputs before finalising \n",
    "This is an example of deleting some of the ACRO outputs.  \n",
    "The name of the output that needs to be removed should be passed to the function remove_output.  \n",
    "- Currently, all outputs names contain timestamp; that is the time when the output was created.  \n",
    "- The output name can be taken from the outputs listed by the print_outputs function, \n",
    "- or by listing the results and choosing the specific output that needs to be removed"
   ]
  },
  {
   "cell_type": "code",
   "execution_count": null,
   "id": "e4ee985e",
   "metadata": {
    "slideshow": {
     "slide_type": "fragment"
    }
   },
   "outputs": [],
   "source": [
    "\n",
    "acro.remove_output(\"output_0_2023-06-19-13454368\")\n"
   ]
  },
  {
   "cell_type": "markdown",
   "id": "df2a02e0",
   "metadata": {
    "slideshow": {
     "slide_type": "slide"
    }
   },
   "source": [
    "### 3: Rename ACRO outputs before finalising\n",
    "This is an example of renaming the outputs to provide a more descriptive name.  \n",
    "The timestamp associated with the output name will not get overwritten"
   ]
  },
  {
   "cell_type": "code",
   "execution_count": null,
   "id": "b9d0b9ac",
   "metadata": {
    "slideshow": {
     "slide_type": "fragment"
    }
   },
   "outputs": [],
   "source": [
    "acro.rename_output(\"output_2_2023-06-19-13461618\", \"pivot_table\")"
   ]
  },
  {
   "cell_type": "markdown",
   "id": "56d2b6a1",
   "metadata": {
    "slideshow": {
     "slide_type": "slide"
    }
   },
   "source": [
    "### 4: Add a comment to output\n",
    "This is an example to add a comment to outputs.  \n",
    "It can be used to provide a description or to pass additional information to the output checkers."
   ]
  },
  {
   "cell_type": "code",
   "execution_count": null,
   "id": "8e21f7b0",
   "metadata": {
    "slideshow": {
     "slide_type": "fragment"
    }
   },
   "outputs": [],
   "source": [
    "firstitem= list(acro.results.keys())[0]\n",
    "acro.add_comments(firstitem, \"Please let me have this data.\")\n",
    "acro.add_comments(firstitem, \"6 cells were supressed in this table\")"
   ]
  },
  {
   "cell_type": "markdown",
   "id": "8496fed4",
   "metadata": {
    "slideshow": {
     "slide_type": "slide"
    }
   },
   "source": [
    "### 5: Add an unsupported output to the list of outputs\n",
    "This is an example to add an unsupported outputs (such as images) to the list of outputs"
   ]
  },
  {
   "cell_type": "code",
   "execution_count": null,
   "id": "1e8000a1",
   "metadata": {
    "slideshow": {
     "slide_type": "fragment"
    }
   },
   "outputs": [],
   "source": [
    "acro.custom_output(\n",
    "    \"XandY.jfif\", \"This output is an image showing the relationship between X and Y\"\n",
    ")"
   ]
  },
  {
   "cell_type": "markdown",
   "id": "5a586694",
   "metadata": {
    "slideshow": {
     "slide_type": "slide"
    }
   },
   "source": [
    "## 6 (the big one) Finalise ACRO\n",
    "This is an example of the function _finalise()_ which the users must call at the end of each session.  \n",
    "- It takes each output and saves it to a CSV file.    \n",
    "- It also saves the SDC analysis for each output to a json file or Excel file  \n",
    "  (depending on the extension of the name of the file provided as an input to the function)"
   ]
  },
  {
   "cell_type": "code",
   "execution_count": null,
   "id": "f941aca2",
   "metadata": {
    "slideshow": {
     "slide_type": "fragment"
    }
   },
   "outputs": [],
   "source": [
    "output = acro.finalise(\"test_results.json\")"
   ]
  },
  {
   "cell_type": "markdown",
   "id": "8a8cffc8",
   "metadata": {
    "slideshow": {
     "slide_type": "slide"
    }
   },
   "source": [
    "# Over to Ben"
   ]
  },
  {
   "cell_type": "code",
   "execution_count": null,
   "id": "6d036230",
   "metadata": {},
   "outputs": [],
   "source": []
  }
 ],
 "metadata": {
  "celltoolbar": "Slideshow",
  "kernelspec": {
   "display_name": "sprint1",
   "language": "python",
   "name": "sprint1"
  },
  "language_info": {
   "codemirror_mode": {
    "name": "ipython",
    "version": 3
   },
   "file_extension": ".py",
   "mimetype": "text/x-python",
   "name": "python",
   "nbconvert_exporter": "python",
   "pygments_lexer": "ipython3",
   "version": "3.10.11"
  }
 },
 "nbformat": 4,
 "nbformat_minor": 5
}

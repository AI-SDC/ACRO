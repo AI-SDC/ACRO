{
 "cells": [
  {
   "cell_type": "markdown",
   "id": "00cac1f9",
   "metadata": {},
   "source": [
    "# Test"
   ]
  },
  {
   "cell_type": "code",
   "execution_count": 1,
   "id": "e33fd4fb",
   "metadata": {},
   "outputs": [],
   "source": [
    "import os\n",
    "import sys\n",
    "import pandas as pd"
   ]
  },
  {
   "cell_type": "code",
   "execution_count": 2,
   "id": "c01cfe12",
   "metadata": {},
   "outputs": [],
   "source": [
    "sys.path.insert(0, os.path.abspath(\"..\"))"
   ]
  },
  {
   "cell_type": "code",
   "execution_count": 3,
   "id": "cc8d993a",
   "metadata": {
    "scrolled": true
   },
   "outputs": [],
   "source": [
    "from acro import ACRO"
   ]
  },
  {
   "cell_type": "markdown",
   "id": "530efcfe",
   "metadata": {},
   "source": [
    "### Instantiate ACRO"
   ]
  },
  {
   "cell_type": "code",
   "execution_count": 4,
   "id": "4b8a77e2",
   "metadata": {},
   "outputs": [
    {
     "name": "stderr",
     "output_type": "stream",
     "text": [
      "DEBUG:acro:path: /home/unknown/work/current/ACRO/ACRO/acro/default.yaml\n",
      "DEBUG:acro:config: {'output_template_file': 'ACRO output template v01b.xlsm', 'safe_SDC_set': 'Default', 'safe_tests': 'threshold nk pratio maxmin', 'safe_threshold': 10, 'safe_dof_threshold': 10, 'safe_nk_n': 2, 'safe_nk_k': 0.9, 'safe_pratio_p': 0.1, 'safe_SDC_variations': 'CIS ESS', 'safe_thresholdCIS': 60, 'safe_nk_nCIS': 5, 'safe_nk_kCIS': 0.5, 'safe_testsCIS': 'threshold nk pratio', 'safe_thresholdESS': 15, 'safe_dof_thresholdESS': 10, 'safe_nk_nESS': 2, 'safe_nk_kESS': 0.9, 'safe_pratio_pESS': 0.15, 'safe_testsESS': 'nk pratio'}\n"
     ]
    }
   ],
   "source": [
    "acro = ACRO()"
   ]
  },
  {
   "cell_type": "markdown",
   "id": "27a2baaa",
   "metadata": {},
   "source": [
    "### Load test data"
   ]
  },
  {
   "cell_type": "code",
   "execution_count": 5,
   "id": "8722735f",
   "metadata": {
    "scrolled": true
   },
   "outputs": [
    {
     "data": {
      "text/html": [
       "<div>\n",
       "<style scoped>\n",
       "    .dataframe tbody tr th:only-of-type {\n",
       "        vertical-align: middle;\n",
       "    }\n",
       "\n",
       "    .dataframe tbody tr th {\n",
       "        vertical-align: top;\n",
       "    }\n",
       "\n",
       "    .dataframe thead th {\n",
       "        text-align: right;\n",
       "    }\n",
       "</style>\n",
       "<table border=\"1\" class=\"dataframe\">\n",
       "  <thead>\n",
       "    <tr style=\"text-align: right;\">\n",
       "      <th></th>\n",
       "      <th>charity</th>\n",
       "      <th>grant_type</th>\n",
       "      <th>index</th>\n",
       "      <th>year</th>\n",
       "      <th>inc_activity</th>\n",
       "      <th>inc_grants</th>\n",
       "      <th>inc_donations</th>\n",
       "      <th>inc_other</th>\n",
       "      <th>inc_total</th>\n",
       "      <th>total_costs</th>\n",
       "      <th>...</th>\n",
       "      <th>sh_staff_grants_given</th>\n",
       "      <th>sh_assets_grants_given</th>\n",
       "      <th>sh_income_balance</th>\n",
       "      <th>sh_staff_balance</th>\n",
       "      <th>sh_assets_balance</th>\n",
       "      <th>sh_income_assets</th>\n",
       "      <th>sh_staff_assets</th>\n",
       "      <th>sh_income_staff_costs</th>\n",
       "      <th>sh_assets_staff_costs</th>\n",
       "      <th>wgt</th>\n",
       "    </tr>\n",
       "  </thead>\n",
       "  <tbody>\n",
       "    <tr>\n",
       "      <th>0</th>\n",
       "      <td>4Children</td>\n",
       "      <td>R</td>\n",
       "      <td>1.0</td>\n",
       "      <td>2011</td>\n",
       "      <td>2880902.0</td>\n",
       "      <td>9603182.0</td>\n",
       "      <td>91404.0</td>\n",
       "      <td>310947.0</td>\n",
       "      <td>12886435.0</td>\n",
       "      <td>12127472.0</td>\n",
       "      <td>...</td>\n",
       "      <td>NaN</td>\n",
       "      <td>NaN</td>\n",
       "      <td>0.072636</td>\n",
       "      <td>0.135971</td>\n",
       "      <td>0.767809</td>\n",
       "      <td>0.094602</td>\n",
       "      <td>0.177090</td>\n",
       "      <td>0.534203</td>\n",
       "      <td>5.646843</td>\n",
       "      <td>1.0</td>\n",
       "    </tr>\n",
       "    <tr>\n",
       "      <th>1</th>\n",
       "      <td>4Children</td>\n",
       "      <td>R</td>\n",
       "      <td>1.0</td>\n",
       "      <td>2014</td>\n",
       "      <td>6810520.0</td>\n",
       "      <td>18768904.0</td>\n",
       "      <td>58002.0</td>\n",
       "      <td>401879.0</td>\n",
       "      <td>26039304.0</td>\n",
       "      <td>25493796.0</td>\n",
       "      <td>...</td>\n",
       "      <td>NaN</td>\n",
       "      <td>NaN</td>\n",
       "      <td>0.057641</td>\n",
       "      <td>0.089150</td>\n",
       "      <td>1.001396</td>\n",
       "      <td>0.057560</td>\n",
       "      <td>0.089026</td>\n",
       "      <td>0.646561</td>\n",
       "      <td>11.232729</td>\n",
       "      <td>1.0</td>\n",
       "    </tr>\n",
       "    <tr>\n",
       "      <th>2</th>\n",
       "      <td>4Children</td>\n",
       "      <td>R</td>\n",
       "      <td>1.0</td>\n",
       "      <td>2015</td>\n",
       "      <td>7199403.0</td>\n",
       "      <td>21638036.0</td>\n",
       "      <td>132191.0</td>\n",
       "      <td>512654.0</td>\n",
       "      <td>29482284.0</td>\n",
       "      <td>32290108.0</td>\n",
       "      <td>...</td>\n",
       "      <td>NaN</td>\n",
       "      <td>NaN</td>\n",
       "      <td>-0.049619</td>\n",
       "      <td>-0.079828</td>\n",
       "      <td>-0.620210</td>\n",
       "      <td>0.080004</td>\n",
       "      <td>0.128711</td>\n",
       "      <td>0.621583</td>\n",
       "      <td>7.769365</td>\n",
       "      <td>1.0</td>\n",
       "    </tr>\n",
       "    <tr>\n",
       "      <th>3</th>\n",
       "      <td>4Children</td>\n",
       "      <td>R</td>\n",
       "      <td>1.0</td>\n",
       "      <td>2013</td>\n",
       "      <td>5573013.0</td>\n",
       "      <td>15194731.0</td>\n",
       "      <td>228844.0</td>\n",
       "      <td>267156.0</td>\n",
       "      <td>21263744.0</td>\n",
       "      <td>20989048.0</td>\n",
       "      <td>...</td>\n",
       "      <td>NaN</td>\n",
       "      <td>NaN</td>\n",
       "      <td>0.045740</td>\n",
       "      <td>0.068251</td>\n",
       "      <td>1.008259</td>\n",
       "      <td>0.045365</td>\n",
       "      <td>0.067692</td>\n",
       "      <td>0.670166</td>\n",
       "      <td>14.772749</td>\n",
       "      <td>1.0</td>\n",
       "    </tr>\n",
       "    <tr>\n",
       "      <th>4</th>\n",
       "      <td>4Children</td>\n",
       "      <td>R</td>\n",
       "      <td>1.0</td>\n",
       "      <td>2010</td>\n",
       "      <td>2056816.0</td>\n",
       "      <td>7335103.0</td>\n",
       "      <td>110256.0</td>\n",
       "      <td>424628.0</td>\n",
       "      <td>9926803.0</td>\n",
       "      <td>9769816.0</td>\n",
       "      <td>...</td>\n",
       "      <td>NaN</td>\n",
       "      <td>NaN</td>\n",
       "      <td>0.057696</td>\n",
       "      <td>0.122532</td>\n",
       "      <td>0.567539</td>\n",
       "      <td>0.101660</td>\n",
       "      <td>0.215901</td>\n",
       "      <td>0.470862</td>\n",
       "      <td>4.631749</td>\n",
       "      <td>1.0</td>\n",
       "    </tr>\n",
       "  </tbody>\n",
       "</table>\n",
       "<p>5 rows × 44 columns</p>\n",
       "</div>"
      ],
      "text/plain": [
       "     charity grant_type  index  year  inc_activity  inc_grants  inc_donations  \\\n",
       "0  4Children          R    1.0  2011     2880902.0   9603182.0        91404.0   \n",
       "1  4Children          R    1.0  2014     6810520.0  18768904.0        58002.0   \n",
       "2  4Children          R    1.0  2015     7199403.0  21638036.0       132191.0   \n",
       "3  4Children          R    1.0  2013     5573013.0  15194731.0       228844.0   \n",
       "4  4Children          R    1.0  2010     2056816.0   7335103.0       110256.0   \n",
       "\n",
       "   inc_other   inc_total  total_costs  ...  sh_staff_grants_given  \\\n",
       "0   310947.0  12886435.0   12127472.0  ...                    NaN   \n",
       "1   401879.0  26039304.0   25493796.0  ...                    NaN   \n",
       "2   512654.0  29482284.0   32290108.0  ...                    NaN   \n",
       "3   267156.0  21263744.0   20989048.0  ...                    NaN   \n",
       "4   424628.0   9926803.0    9769816.0  ...                    NaN   \n",
       "\n",
       "   sh_assets_grants_given  sh_income_balance  sh_staff_balance  \\\n",
       "0                     NaN           0.072636          0.135971   \n",
       "1                     NaN           0.057641          0.089150   \n",
       "2                     NaN          -0.049619         -0.079828   \n",
       "3                     NaN           0.045740          0.068251   \n",
       "4                     NaN           0.057696          0.122532   \n",
       "\n",
       "  sh_assets_balance sh_income_assets  sh_staff_assets  sh_income_staff_costs  \\\n",
       "0          0.767809         0.094602         0.177090               0.534203   \n",
       "1          1.001396         0.057560         0.089026               0.646561   \n",
       "2         -0.620210         0.080004         0.128711               0.621583   \n",
       "3          1.008259         0.045365         0.067692               0.670166   \n",
       "4          0.567539         0.101660         0.215901               0.470862   \n",
       "\n",
       "   sh_assets_staff_costs  wgt  \n",
       "0               5.646843  1.0  \n",
       "1              11.232729  1.0  \n",
       "2               7.769365  1.0  \n",
       "3              14.772749  1.0  \n",
       "4               4.631749  1.0  \n",
       "\n",
       "[5 rows x 44 columns]"
      ]
     },
     "execution_count": 5,
     "metadata": {},
     "output_type": "execute_result"
    }
   ],
   "source": [
    "path = os.path.join(\"../data\", \"test_data.dta\")\n",
    "df = pd.read_stata(path)\n",
    "df.head()"
   ]
  },
  {
   "cell_type": "markdown",
   "id": "802a8f80-4f4b-48ae-86ee-8b7056710764",
   "metadata": {},
   "source": [
    "## Create a simple linear regression in three ways\n",
    " and print the results object returned and how to access the degrees of freedom\n",
    " \n",
    " I will start with inc_total vs inc_grants"
   ]
  },
  {
   "cell_type": "markdown",
   "id": "1b02ba7b-0421-402a-96c0-90836960d295",
   "metadata": {},
   "source": [
    "### First sklearn\n"
   ]
  },
  {
   "cell_type": "code",
   "execution_count": 6,
   "id": "637c6305-64ad-419b-bd15-ca9a94b27fc5",
   "metadata": {},
   "outputs": [],
   "source": [
    "from sklearn.linear_model import LinearRegression\n",
    "\n",
    "df.dropna(inplace=True)\n",
    "y = df[\"inc_total\"].values.reshape(-1, 1)  # values converts it into a numpy array\n",
    "x = df[\"inc_grants\"].values.reshape(\n",
    "    -1, 1\n",
    ")  # -1 means that calculate the dimension of rows, but have 1 column\n",
    "linear_regressor = LinearRegression()  # create object for the class\n",
    "res = linear_regressor.fit(x, y)  # perform linear regression\n",
    "y_pred = linear_regressor.predict(x)  # make predictions"
   ]
  },
  {
   "cell_type": "code",
   "execution_count": 7,
   "id": "5bc79c44-5e83-4ab7-b189-37b3c2f14aef",
   "metadata": {},
   "outputs": [
    {
     "name": "stdout",
     "output_type": "stream",
     "text": [
      "intercept [29906766.], coeffecients [[1.8979715]]\n"
     ]
    }
   ],
   "source": [
    "print(f\"intercept {linear_regressor.intercept_}, coeffecients {linear_regressor.coef_}\")"
   ]
  },
  {
   "cell_type": "markdown",
   "id": "42fa93d2-6470-4e99-9952-f2e858973f14",
   "metadata": {},
   "source": [
    "### now a linear regression with two input variables"
   ]
  },
  {
   "cell_type": "code",
   "execution_count": 8,
   "id": "7b361599-20fd-42e6-adf0-9da84b4f7396",
   "metadata": {},
   "outputs": [
    {
     "name": "stdout",
     "output_type": "stream",
     "text": [
      "intercept [12081892.], coeffecients [[1.7231662 1.2810115]]\n"
     ]
    }
   ],
   "source": [
    "x2 = df[[\"inc_grants\", \"inc_activity\"]].values.reshape(\n",
    "    -1, 2\n",
    ")  # -1 means that calculate the dimension of rows, but have 1 column\n",
    "bilinear_regressor = LinearRegression()  # create object for the class\n",
    "res2 = bilinear_regressor.fit(x2, y)  # perform linear regression\n",
    "y_pred2 = bilinear_regressor.predict(x2)  # make predictions\n",
    "\n",
    "print(\n",
    "    f\"intercept {bilinear_regressor.intercept_}, coeffecients {bilinear_regressor.coef_}\"\n",
    ")"
   ]
  },
  {
   "cell_type": "markdown",
   "id": "09049b71-01bc-484d-85b5-3e2e41f768f1",
   "metadata": {},
   "source": [
    "### for completeness a linear regression with three input variables but no intercept"
   ]
  },
  {
   "cell_type": "code",
   "execution_count": 9,
   "id": "c655b56e-ef27-4d77-9f03-82096cbd48d8",
   "metadata": {},
   "outputs": [
    {
     "name": "stdout",
     "output_type": "stream",
     "text": [
      "intercept 0.0, coeffecients [[1.0145859 1.0113665 1.0529852]]\n"
     ]
    }
   ],
   "source": [
    "x3 = df[[\"inc_grants\", \"inc_activity\", \"inc_donations\"]].values.reshape(\n",
    "    -1, 3\n",
    ")  # -1 means that calculate the dimension of rows, but have 1 column\n",
    "trilinear_regressor = LinearRegression(\n",
    "    fit_intercept=False\n",
    ")  # create object for the class\n",
    "res3 = trilinear_regressor.fit(x3, y)  # perform linear regression\n",
    "y_pred3 = trilinear_regressor.predict(x3)  # make predictions\n",
    "\n",
    "\n",
    "print(\n",
    "    f\"intercept {trilinear_regressor.intercept_}, coeffecients {trilinear_regressor.coef_}\"\n",
    ")"
   ]
  },
  {
   "cell_type": "markdown",
   "id": "51066891-3160-44c1-8867-cf8a3cbda93c",
   "metadata": {},
   "source": [
    "### Function to calculate the degrees of freedom of a model \n",
    "(number of parameters that can vary) will depend on whether an intercept is allowed."
   ]
  },
  {
   "cell_type": "code",
   "execution_count": 10,
   "id": "edb372e8-eab2-4b18-a621-31eb65bd9b2e",
   "metadata": {},
   "outputs": [
    {
     "data": {
      "text/plain": [
       "sklearn.linear_model._base.LinearRegression"
      ]
     },
     "execution_count": 10,
     "metadata": {},
     "output_type": "execute_result"
    }
   ],
   "source": [
    "type(linear_regressor)"
   ]
  },
  {
   "cell_type": "code",
   "execution_count": 11,
   "id": "4e83b8c0-9408-4bec-9343-1521d799d946",
   "metadata": {},
   "outputs": [],
   "source": [
    "import sklearn\n",
    "\n",
    "\n",
    "def get_dof(model) -> int:\n",
    "    if isinstance(model, sklearn.linear_model._base.LinearRegression):\n",
    "        dof = model.n_features_in_\n",
    "        if model.fit_intercept:\n",
    "            dof = dof + 1\n",
    "    return dof"
   ]
  },
  {
   "cell_type": "code",
   "execution_count": 12,
   "id": "a4e45253-a0c0-4697-a8dd-6eaa1cabd447",
   "metadata": {},
   "outputs": [
    {
     "name": "stdout",
     "output_type": "stream",
     "text": [
      "Function reports that the Dof for:\n",
      "\t\tsimple linear model is 2\n",
      "\t\tmodel with two variables and intercept is 3\n",
      "\t\tand for model with 3 variables and no intercept is 3.\n"
     ]
    }
   ],
   "source": [
    "print(\n",
    "    \"Function reports that the Dof for:\\n\"\n",
    "    f\"\\t\\tsimple linear model is {get_dof(linear_regressor)}\\n\"\n",
    "    f\"\\t\\tmodel with two variables and intercept is {get_dof(bilinear_regressor)}\\n\"\n",
    "    f\"\\t\\tand for model with 3 variables and no intercept is {get_dof(trilinear_regressor)}.\"\n",
    ")"
   ]
  },
  {
   "cell_type": "markdown",
   "id": "8fa673a8-4c7f-4e6e-8616-39099221f521",
   "metadata": {},
   "source": [
    "## Polynomial regression using sklearn models by transforming data\n",
    "### starting with a simple single input value"
   ]
  },
  {
   "cell_type": "code",
   "execution_count": 13,
   "id": "bd069463-3c31-48d7-9044-0c4ff5679986",
   "metadata": {},
   "outputs": [
    {
     "name": "stdout",
     "output_type": "stream",
     "text": [
      "so to fit a polynomial of degree 2, data now has shape (640, 2)\n",
      "[[3.000e+04 9.000e+08]\n",
      " [0.000e+00 0.000e+00]\n",
      " [0.000e+00 0.000e+00]\n",
      " [0.000e+00 0.000e+00]\n",
      " [4.500e+04 2.025e+09]]\n",
      "intercept [37651692.], coefficients [[4.0277274e-17 7.8147604e-09]]\n",
      "and our function reports the degrees of freedom as 3\n"
     ]
    }
   ],
   "source": [
    "from sklearn.preprocessing import PolynomialFeatures\n",
    "\n",
    "# get a clean version of the data\n",
    "path = os.path.join(\"../data\", \"test_data.dta\")\n",
    "df = pd.read_stata(path)\n",
    "df.dropna(inplace=True)\n",
    "y = df[\"inc_total\"].values.reshape(-1, 1)  # values converts it into a numpy array\n",
    "x = df[\"inc_grants\"].values.reshape(\n",
    "    -1, 1\n",
    ")  # -1 means that calculate the dimension of rows, but have 1 column\n",
    "\n",
    "\n",
    "# one liner to make new data rather than explicitly calling constructor,fit, then transform\n",
    "degree = 2\n",
    "x_ = PolynomialFeatures(degree=degree, include_bias=False).fit_transform(x)\n",
    "\n",
    "print(f\"so to fit a polynomial of degree {degree}, data now has shape {x_.shape}\")\n",
    "print(x_[0:5, :])\n",
    "\n",
    "# fit the data\n",
    "polymodel = LinearRegression().fit(x_, y)\n",
    "print(f\"intercept {polymodel.intercept_}, coefficients {polymodel.coef_}\")\n",
    "print(f\"and our function reports the degrees of freedom as {get_dof(polymodel)}\")"
   ]
  },
  {
   "cell_type": "markdown",
   "id": "9b3ce6af-eef2-4635-9776-171d2755ee27",
   "metadata": {},
   "source": [
    "### and now multiple input values in the same framework\n",
    "e.g. with 2 inputs and polynomial of degree 2, the estiamted regression function is \n",
    "𝑓(𝑥₁, 𝑥₂) = 𝑏₀ + 𝑏₁𝑥₁ + 𝑏₂𝑥₂ + 𝑏₃𝑥₁² + 𝑏₄𝑥₁𝑥₂ + 𝑏₅𝑥₂²."
   ]
  },
  {
   "cell_type": "code",
   "execution_count": 14,
   "id": "b578b265-11b1-4ae5-bbbf-33b6be432986",
   "metadata": {},
   "outputs": [
    {
     "name": "stdout",
     "output_type": "stream",
     "text": [
      "so to fit a polynomial of degree 2, data now has shape (640, 5)\n",
      "first five rows are:\n",
      "[[3.0000000e+04 8.1703200e+05 9.0000000e+08 2.4510960e+10 6.6754131e+11]\n",
      " [0.0000000e+00 5.2915700e+05 0.0000000e+00 0.0000000e+00 2.8000711e+11]\n",
      " [0.0000000e+00 4.2903900e+05 0.0000000e+00 0.0000000e+00 1.8407447e+11]\n",
      " [0.0000000e+00 4.8266800e+05 0.0000000e+00 0.0000000e+00 2.3296840e+11]\n",
      " [4.5000000e+04 7.3457300e+05 2.0249999e+09 3.3055785e+10 5.3959750e+11]]\n",
      "intercept [23210134.], coefficients [[ 4.8942315e-16 -5.4178884e-14  3.0109391e-09  6.4171907e-08\n",
      "   1.9352653e-09]]\n",
      "and our function reports the degrees of freedom as 6\n"
     ]
    }
   ],
   "source": [
    "x2 = df[[\"inc_grants\", \"inc_activity\"]].values.reshape(-1, 2)\n",
    "\n",
    "degree = 2\n",
    "x2_ = PolynomialFeatures(degree=degree, include_bias=False).fit_transform(x2)\n",
    "\n",
    "print(f\"so to fit a polynomial of degree {degree}, data now has shape {x2_.shape}\")\n",
    "print(\"first five rows are:\")\n",
    "print(x2_[0:5, :])\n",
    "\n",
    "# fit the data\n",
    "polymodel2 = LinearRegression().fit(x2_, y)\n",
    "print(f\"intercept {polymodel2.intercept_}, coefficients {polymodel2.coef_}\")\n",
    "print(f\"and our function reports the degrees of freedom as {get_dof(polymodel2)}\")"
   ]
  },
  {
   "cell_type": "markdown",
   "id": "95249663-b27f-40d4-91dc-9192bbe69a5a",
   "metadata": {},
   "source": [
    "### what if they provide intercept in data rather than in call to model"
   ]
  },
  {
   "cell_type": "code",
   "execution_count": 15,
   "id": "80955310-7d59-485c-933f-a6bec4c841eb",
   "metadata": {},
   "outputs": [
    {
     "name": "stdout",
     "output_type": "stream",
     "text": [
      "so to fit a polynomial of degree 2 but including an intercept,data now has shape (640, 6)\n",
      "first five rows are:\n",
      "[[1.0000000e+00 3.0000000e+04 8.1703200e+05 9.0000000e+08 2.4510960e+10\n",
      "  6.6754131e+11]\n",
      " [1.0000000e+00 0.0000000e+00 5.2915700e+05 0.0000000e+00 0.0000000e+00\n",
      "  2.8000711e+11]\n",
      " [1.0000000e+00 0.0000000e+00 4.2903900e+05 0.0000000e+00 0.0000000e+00\n",
      "  1.8407447e+11]\n",
      " [1.0000000e+00 0.0000000e+00 4.8266800e+05 0.0000000e+00 0.0000000e+00\n",
      "  2.3296840e+11]\n",
      " [1.0000000e+00 4.5000000e+04 7.3457300e+05 2.0249999e+09 3.3055785e+10\n",
      "  5.3959750e+11]]\n",
      "intercept 0.0, coefficients [[ 1.1876045e-23 -1.4210855e-14  1.8235969e-15  3.4045611e-09\n",
      "   6.8190062e-08  2.0831159e-09]]\n",
      "and our function reports the degrees of freedom as 6\n"
     ]
    }
   ],
   "source": [
    "x3_ = PolynomialFeatures(degree=degree).fit_transform(x2)\n",
    "\n",
    "print(\n",
    "    f\"so to fit a polynomial of degree {degree}\",\n",
    "    \"but including an intercept,\" f\"data now has shape {x3_.shape}\",\n",
    ")\n",
    "print(\"first five rows are:\")\n",
    "print(f\"{x3_[0:5,:]:}\")\n",
    "\n",
    "# fit the data\n",
    "polymodel3 = LinearRegression(fit_intercept=False).fit(x3_, y)\n",
    "print(f\"intercept {polymodel3.intercept_}, coefficients {polymodel3.coef_}\")\n",
    "print(f\"and our function reports the degrees of freedom as {get_dof(polymodel3)}\")"
   ]
  },
  {
   "cell_type": "code",
   "execution_count": 16,
   "id": "f7f671e1-513c-4a99-8a50-86bd70e024ec",
   "metadata": {},
   "outputs": [
    {
     "name": "stdout",
     "output_type": "stream",
     "text": [
      "if they include the intercept when transforming, making a first column of 1s in the data as above, but then also include the intercept in the model we get this:\n",
      "intercept [23210144.], coefficients [[ 0.0000000e+00 -1.3322676e-14  4.1602384e-17  3.0109304e-09\n",
      "   6.4171935e-08  1.9352613e-09]]\n",
      "and our function reports the degrees of freedom as 7\n"
     ]
    }
   ],
   "source": [
    "print(\n",
    "    \"if they include the intercept when transforming,\"\n",
    "    \" making a first column of 1s in the data as above,\"\n",
    "    \" but then also include the intercept in the model\"\n",
    "    \" we get this:\"\n",
    ")\n",
    "\n",
    "# fit the data\n",
    "\n",
    "polymodel4 = LinearRegression(fit_intercept=True).fit(x3_, y)\n",
    "print(f\"intercept {polymodel4.intercept_}, coefficients {polymodel4.coef_}\")\n",
    "print(f\"and our function reports the degrees of freedom as {get_dof(polymodel4)}\")"
   ]
  },
  {
   "cell_type": "markdown",
   "id": "3faa858b-68f1-4847-9d0f-4dddff929cfd",
   "metadata": {},
   "source": [
    "### <span style=\"color:red\">Question: What should we do in this case?   \n",
    "- We are going to release less with lower degrees of freedom.\n",
    "- So maybe we should say if intercept ==0.00000 we do not count it?   \n",
    "  i.e. \n",
    "    >         if model.fit_intercept :\n",
    "    >              dof = dof +1\n",
    "  becomes\n",
    "    >         if model.fit_intercept and not np.isclose(model.intercept_ ,0.0):\n",
    "    >               dof = dof +1\n",
    " - I've used two clauses in case the intee4cept is not always nicely initialsied to zero when unused "
   ]
  },
  {
   "cell_type": "markdown",
   "id": "6d6f8607-33c3-41eb-b8d2-224bcdda8ebc",
   "metadata": {},
   "source": [
    "## <span style=\"color:red\">Answer: See email reponse from Paul White</span>\n",
    "- The code above calculates the model DoF:P\n",
    "- The value that we compare to the threshold is *N -P -1*\n",
    "  - also known as the 'residual dof'\n",
    " \n",
    "- Paul has agreed with the suggestion that in practice we should use *S* rather than *P*, \n",
    "  where *S* is the number of co-efficients which are statistically significantly different to zero  \n",
    "  taking into account the number of observations. \n",
    "  - OLS returns the signmificabnce/t-tst vals for each co-efficient in its results object\n",
    "  - we would have to compute this (2-sided t-test?) if we used the sklearn version.\n",
    "  "
   ]
  },
  {
   "cell_type": "code",
   "execution_count": null,
   "id": "933c2b9d-3e26-42f9-9270-2bdf7f24f7b4",
   "metadata": {},
   "outputs": [],
   "source": []
  },
  {
   "cell_type": "markdown",
   "id": "e9233a06-441a-4e9d-847e-5fbe4725a9da",
   "metadata": {},
   "source": [
    "# TO-DO\n",
    "1. Repeat this process for different ways of getting a linear regression i.e. via scipy.stats\n",
    "   - in some cases we may be able to get at the dof directly if the fit process returns a results object\n",
    "   - or we could consider getting at it direcrtly from the combination of the number of colu,mns in x and whether an intercept is allowed\n",
    "   - either way, build up the get_dof() function\n",
    "   \n",
    "2. Create a linear_regression() mewthod within the aCRO class that used statsmodel version ut then checks for the DoF against a supplied threshold value (use 6)"
   ]
  },
  {
   "cell_type": "markdown",
   "id": "5d8e3203",
   "metadata": {},
   "source": [
    "# ACRO"
   ]
  },
  {
   "cell_type": "markdown",
   "id": "41e7e043",
   "metadata": {},
   "source": [
    "### Pass"
   ]
  },
  {
   "cell_type": "code",
   "execution_count": 17,
   "id": "84dee00e",
   "metadata": {
    "scrolled": false
   },
   "outputs": [
    {
     "name": "stderr",
     "output_type": "stream",
     "text": [
      "DEBUG:acro:ols() outcome: pass; dof=639.0 >= 10\n",
      "DEBUG:acro:add_output(): output_0\n"
     ]
    },
    {
     "data": {
      "text/html": [
       "<table class=\"simpletable\">\n",
       "<caption>OLS Regression Results</caption>\n",
       "<tr>\n",
       "  <th>Dep. Variable:</th>            <td>y</td>        <th>  R-squared (uncentered):</th>      <td>   0.344</td> \n",
       "</tr>\n",
       "<tr>\n",
       "  <th>Model:</th>                   <td>OLS</td>       <th>  Adj. R-squared (uncentered):</th> <td>   0.343</td> \n",
       "</tr>\n",
       "<tr>\n",
       "  <th>Method:</th>             <td>Least Squares</td>  <th>  F-statistic:       </th>          <td>   334.8</td> \n",
       "</tr>\n",
       "<tr>\n",
       "  <th>Date:</th>             <td>Mon, 26 Sep 2022</td> <th>  Prob (F-statistic):</th>          <td>1.88e-60</td> \n",
       "</tr>\n",
       "<tr>\n",
       "  <th>Time:</th>                 <td>16:36:18</td>     <th>  Log-Likelihood:    </th>          <td> -12585.</td> \n",
       "</tr>\n",
       "<tr>\n",
       "  <th>No. Observations:</th>      <td>   640</td>      <th>  AIC:               </th>          <td>2.517e+04</td>\n",
       "</tr>\n",
       "<tr>\n",
       "  <th>Df Residuals:</th>          <td>   639</td>      <th>  BIC:               </th>          <td>2.518e+04</td>\n",
       "</tr>\n",
       "<tr>\n",
       "  <th>Df Model:</th>              <td>     1</td>      <th>                     </th>              <td> </td>    \n",
       "</tr>\n",
       "<tr>\n",
       "  <th>Covariance Type:</th>      <td>nonrobust</td>    <th>                     </th>              <td> </td>    \n",
       "</tr>\n",
       "</table>\n",
       "<table class=\"simpletable\">\n",
       "<tr>\n",
       "   <td></td>     <th>coef</th>     <th>std err</th>      <th>t</th>      <th>P>|t|</th>  <th>[0.025</th>    <th>0.975]</th>  \n",
       "</tr>\n",
       "<tr>\n",
       "  <th>x1</th> <td>    2.1779</td> <td>    0.119</td> <td>   18.297</td> <td> 0.000</td> <td>    1.944</td> <td>    2.412</td>\n",
       "</tr>\n",
       "</table>\n",
       "<table class=\"simpletable\">\n",
       "<tr>\n",
       "  <th>Omnibus:</th>       <td>450.906</td> <th>  Durbin-Watson:     </th> <td>   0.428</td>\n",
       "</tr>\n",
       "<tr>\n",
       "  <th>Prob(Omnibus):</th> <td> 0.000</td>  <th>  Jarque-Bera (JB):  </th> <td>5423.895</td>\n",
       "</tr>\n",
       "<tr>\n",
       "  <th>Skew:</th>          <td> 3.097</td>  <th>  Prob(JB):          </th> <td>    0.00</td>\n",
       "</tr>\n",
       "<tr>\n",
       "  <th>Kurtosis:</th>      <td>15.846</td>  <th>  Cond. No.          </th> <td>    1.00</td>\n",
       "</tr>\n",
       "</table><br/><br/>Notes:<br/>[1] R² is computed without centering (uncentered) since the model does not contain a constant.<br/>[2] Standard Errors assume that the covariance matrix of the errors is correctly specified."
      ],
      "text/plain": [
       "<class 'statsmodels.iolib.summary.Summary'>\n",
       "\"\"\"\n",
       "                                 OLS Regression Results                                \n",
       "=======================================================================================\n",
       "Dep. Variable:                      y   R-squared (uncentered):                   0.344\n",
       "Model:                            OLS   Adj. R-squared (uncentered):              0.343\n",
       "Method:                 Least Squares   F-statistic:                              334.8\n",
       "Date:                Mon, 26 Sep 2022   Prob (F-statistic):                    1.88e-60\n",
       "Time:                        16:36:18   Log-Likelihood:                         -12585.\n",
       "No. Observations:                 640   AIC:                                  2.517e+04\n",
       "Df Residuals:                     639   BIC:                                  2.518e+04\n",
       "Df Model:                           1                                                  \n",
       "Covariance Type:            nonrobust                                                  \n",
       "==============================================================================\n",
       "                 coef    std err          t      P>|t|      [0.025      0.975]\n",
       "------------------------------------------------------------------------------\n",
       "x1             2.1779      0.119     18.297      0.000       1.944       2.412\n",
       "==============================================================================\n",
       "Omnibus:                      450.906   Durbin-Watson:                   0.428\n",
       "Prob(Omnibus):                  0.000   Jarque-Bera (JB):             5423.895\n",
       "Skew:                           3.097   Prob(JB):                         0.00\n",
       "Kurtosis:                      15.846   Cond. No.                         1.00\n",
       "==============================================================================\n",
       "\n",
       "Notes:\n",
       "[1] R² is computed without centering (uncentered) since the model does not contain a constant.\n",
       "[2] Standard Errors assume that the covariance matrix of the errors is correctly specified.\n",
       "\"\"\""
      ]
     },
     "execution_count": 17,
     "metadata": {},
     "output_type": "execute_result"
    }
   ],
   "source": [
    "y = df[\"inc_total\"].values.reshape(-1, 1)\n",
    "x = df[\"inc_grants\"].values.reshape(-1, 1)\n",
    "# ACRO OLS - auto fits\n",
    "results = acro.ols(y, x)\n",
    "results.summary()"
   ]
  },
  {
   "cell_type": "markdown",
   "id": "63c1debf",
   "metadata": {},
   "source": [
    "### Fail"
   ]
  },
  {
   "cell_type": "code",
   "execution_count": 18,
   "id": "d22ffa95",
   "metadata": {},
   "outputs": [
    {
     "name": "stderr",
     "output_type": "stream",
     "text": [
      "/home/unknown/work/current/ACRO/ACRO/acro/acro.py:618: UserWarning: Unsafe OLS: fail; dof=5.0 < 10\n",
      "  warnings.warn(f\"Unsafe OLS: {outcome}\")\n",
      "DEBUG:acro:ols() outcome: fail; dof=5.0 < 10\n",
      "DEBUG:acro:add_output(): output_1\n",
      "/home/unknown/.local/lib/python3.10/site-packages/statsmodels/stats/stattools.py:74: ValueWarning: omni_normtest is not valid with less than 8 observations; 6 samples were given.\n",
      "  warn(\"omni_normtest is not valid with less than 8 observations; %i \"\n",
      "/home/unknown/.local/lib/python3.10/site-packages/statsmodels/regression/linear_model.py:1825: RuntimeWarning: divide by zero encountered in double_scalars\n",
      "  return self.mse_model/self.mse_resid\n",
      "/home/unknown/.local/lib/python3.10/site-packages/statsmodels/regression/linear_model.py:924: RuntimeWarning: divide by zero encountered in log\n",
      "  llf = -nobs2*np.log(2*np.pi) - nobs2*np.log(ssr / nobs) - nobs2\n",
      "/home/unknown/.local/lib/python3.10/site-packages/statsmodels/stats/stattools.py:50: RuntimeWarning: invalid value encountered in double_scalars\n",
      "  dw = np.sum(diff_resids**2, axis=axis) / np.sum(resids**2, axis=axis)\n"
     ]
    },
    {
     "data": {
      "text/html": [
       "<table class=\"simpletable\">\n",
       "<caption>OLS Regression Results</caption>\n",
       "<tr>\n",
       "  <th>Dep. Variable:</th>            <td>y</td>        <th>  R-squared (uncentered):</th>      <td>   1.000</td>\n",
       "</tr>\n",
       "<tr>\n",
       "  <th>Model:</th>                   <td>OLS</td>       <th>  Adj. R-squared (uncentered):</th> <td>   1.000</td>\n",
       "</tr>\n",
       "<tr>\n",
       "  <th>Method:</th>             <td>Least Squares</td>  <th>  F-statistic:       </th>          <td>     inf</td>\n",
       "</tr>\n",
       "<tr>\n",
       "  <th>Date:</th>             <td>Mon, 26 Sep 2022</td> <th>  Prob (F-statistic):</th>           <td>  0.00</td> \n",
       "</tr>\n",
       "<tr>\n",
       "  <th>Time:</th>                 <td>16:36:18</td>     <th>  Log-Likelihood:    </th>          <td>     inf</td>\n",
       "</tr>\n",
       "<tr>\n",
       "  <th>No. Observations:</th>      <td>     6</td>      <th>  AIC:               </th>          <td>    -inf</td>\n",
       "</tr>\n",
       "<tr>\n",
       "  <th>Df Residuals:</th>          <td>     5</td>      <th>  BIC:               </th>          <td>    -inf</td>\n",
       "</tr>\n",
       "<tr>\n",
       "  <th>Df Model:</th>              <td>     1</td>      <th>                     </th>              <td> </td>   \n",
       "</tr>\n",
       "<tr>\n",
       "  <th>Covariance Type:</th>      <td>nonrobust</td>    <th>                     </th>              <td> </td>   \n",
       "</tr>\n",
       "</table>\n",
       "<table class=\"simpletable\">\n",
       "<tr>\n",
       "   <td></td>     <th>coef</th>     <th>std err</th>      <th>t</th>      <th>P>|t|</th>  <th>[0.025</th>    <th>0.975]</th>  \n",
       "</tr>\n",
       "<tr>\n",
       "  <th>x1</th> <td>    1.0000</td> <td>        0</td> <td>      inf</td> <td> 0.000</td> <td>    1.000</td> <td>    1.000</td>\n",
       "</tr>\n",
       "</table>\n",
       "<table class=\"simpletable\">\n",
       "<tr>\n",
       "  <th>Omnibus:</th>       <td>   nan</td> <th>  Durbin-Watson:     </th> <td>     nan</td>\n",
       "</tr>\n",
       "<tr>\n",
       "  <th>Prob(Omnibus):</th> <td>   nan</td> <th>  Jarque-Bera (JB):  </th> <td>     nan</td>\n",
       "</tr>\n",
       "<tr>\n",
       "  <th>Skew:</th>          <td>   nan</td> <th>  Prob(JB):          </th> <td>     nan</td>\n",
       "</tr>\n",
       "<tr>\n",
       "  <th>Kurtosis:</th>      <td>   nan</td> <th>  Cond. No.          </th> <td>    1.00</td>\n",
       "</tr>\n",
       "</table><br/><br/>Notes:<br/>[1] R² is computed without centering (uncentered) since the model does not contain a constant.<br/>[2] Standard Errors assume that the covariance matrix of the errors is correctly specified."
      ],
      "text/plain": [
       "<class 'statsmodels.iolib.summary.Summary'>\n",
       "\"\"\"\n",
       "                                 OLS Regression Results                                \n",
       "=======================================================================================\n",
       "Dep. Variable:                      y   R-squared (uncentered):                   1.000\n",
       "Model:                            OLS   Adj. R-squared (uncentered):              1.000\n",
       "Method:                 Least Squares   F-statistic:                                inf\n",
       "Date:                Mon, 26 Sep 2022   Prob (F-statistic):                        0.00\n",
       "Time:                        16:36:18   Log-Likelihood:                             inf\n",
       "No. Observations:                   6   AIC:                                       -inf\n",
       "Df Residuals:                       5   BIC:                                       -inf\n",
       "Df Model:                           1                                                  \n",
       "Covariance Type:            nonrobust                                                  \n",
       "==============================================================================\n",
       "                 coef    std err          t      P>|t|      [0.025      0.975]\n",
       "------------------------------------------------------------------------------\n",
       "x1             1.0000          0        inf      0.000       1.000       1.000\n",
       "==============================================================================\n",
       "Omnibus:                          nan   Durbin-Watson:                     nan\n",
       "Prob(Omnibus):                    nan   Jarque-Bera (JB):                  nan\n",
       "Skew:                             nan   Prob(JB):                          nan\n",
       "Kurtosis:                         nan   Cond. No.                         1.00\n",
       "==============================================================================\n",
       "\n",
       "Notes:\n",
       "[1] R² is computed without centering (uncentered) since the model does not contain a constant.\n",
       "[2] Standard Errors assume that the covariance matrix of the errors is correctly specified.\n",
       "\"\"\""
      ]
     },
     "execution_count": 18,
     "metadata": {},
     "output_type": "execute_result"
    }
   ],
   "source": [
    "import numpy as np\n",
    "\n",
    "y = np.linspace(0, 1, 6)\n",
    "x = np.linspace(0, 1, 6)\n",
    "# ACRO OLS - auto fits\n",
    "results = acro.ols(y, x)\n",
    "results.summary()"
   ]
  },
  {
   "cell_type": "markdown",
   "id": "133b57db",
   "metadata": {},
   "source": [
    "### Outputs"
   ]
  },
  {
   "cell_type": "code",
   "execution_count": 19,
   "id": "37a09bf7",
   "metadata": {},
   "outputs": [
    {
     "name": "stderr",
     "output_type": "stream",
     "text": [
      "DEBUG:acro:get_outputs()\n"
     ]
    },
    {
     "data": {
      "text/plain": [
       "{'output_0': {'command': 'results = acro.ols(y, x)',\n",
       "  'summary': 'pass',\n",
       "  'outcome': 'pass; dof=639.0 >= 10',\n",
       "  'output': {}},\n",
       " 'output_1': {'command': 'results = acro.ols(y, x)',\n",
       "  'summary': 'fail',\n",
       "  'outcome': 'fail; dof=5.0 < 10',\n",
       "  'output': {}}}"
      ]
     },
     "execution_count": 19,
     "metadata": {},
     "output_type": "execute_result"
    }
   ],
   "source": [
    "outputs = acro.get_outputs()\n",
    "outputs"
   ]
  },
  {
   "cell_type": "code",
   "execution_count": null,
   "id": "61146811",
   "metadata": {},
   "outputs": [],
   "source": []
  }
 ],
 "metadata": {
  "kernelspec": {
   "display_name": "Python 3 (ipykernel)",
   "language": "python",
   "name": "python3"
  },
  "language_info": {
   "codemirror_mode": {
    "name": "ipython",
    "version": 3
   },
   "file_extension": ".py",
   "mimetype": "text/x-python",
   "name": "python",
   "nbconvert_exporter": "python",
   "pygments_lexer": "ipython3",
   "version": "3.10.6"
  }
 },
 "nbformat": 4,
 "nbformat_minor": 5
}

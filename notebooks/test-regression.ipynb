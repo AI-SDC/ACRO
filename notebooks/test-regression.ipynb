{
 "cells": [
  {
   "cell_type": "markdown",
   "id": "00cac1f9",
   "metadata": {},
   "source": [
    "# Test"
   ]
  },
  {
   "cell_type": "code",
   "execution_count": 1,
   "id": "e33fd4fb",
   "metadata": {},
   "outputs": [],
   "source": [
    "import os\n",
    "import sys\n",
    "import pandas as pd"
   ]
  },
  {
   "cell_type": "code",
   "execution_count": 2,
   "id": "c01cfe12",
   "metadata": {},
   "outputs": [],
   "source": [
    "sys.path.insert(0, os.path.abspath(\"..\"))"
   ]
  },
  {
   "cell_type": "code",
   "execution_count": 3,
   "id": "cc8d993a",
   "metadata": {
    "scrolled": true
   },
   "outputs": [],
   "source": [
    "from acro import ACRO"
   ]
  },
  {
   "cell_type": "markdown",
   "id": "530efcfe",
   "metadata": {},
   "source": [
    "### Instantiate ACRO"
   ]
  },
  {
   "cell_type": "code",
   "execution_count": 4,
   "id": "4b8a77e2",
   "metadata": {},
   "outputs": [
    {
     "name": "stderr",
     "output_type": "stream",
     "text": [
      "DEBUG:acro:path: /Users/j4-smith/GitHub/AI-SDC/ACRO/acro/default.yaml\n",
      "DEBUG:acro:config: {'output_template_file': 'ACRO output template v01b.xlsm', 'safe_SDC_set': 'Default', 'safe_tests': 'threshold nk pratio maxmin', 'safe_threshold': 10, 'safe_dof_threshold': 10, 'safe_nk_n': 2, 'safe_nk_k': 0.9, 'safe_pratio_p': 0.1, 'safe_SDC_variations': 'CIS ESS', 'safe_thresholdCIS': 60, 'safe_nk_nCIS': 5, 'safe_nk_kCIS': 0.5, 'safe_testsCIS': 'threshold nk pratio', 'safe_thresholdESS': 15, 'safe_dof_thresholdESS': 10, 'safe_nk_nESS': 2, 'safe_nk_kESS': 0.9, 'safe_pratio_pESS': 0.15, 'safe_testsESS': 'nk pratio'}\n"
     ]
    }
   ],
   "source": [
    "acro = ACRO()"
   ]
  },
  {
   "cell_type": "markdown",
   "id": "27a2baaa",
   "metadata": {},
   "source": [
    "### Load test data"
   ]
  },
  {
   "cell_type": "code",
   "execution_count": 5,
   "id": "8722735f",
   "metadata": {
    "scrolled": true
   },
   "outputs": [
    {
     "data": {
      "text/html": [
       "<div>\n",
       "<style scoped>\n",
       "    .dataframe tbody tr th:only-of-type {\n",
       "        vertical-align: middle;\n",
       "    }\n",
       "\n",
       "    .dataframe tbody tr th {\n",
       "        vertical-align: top;\n",
       "    }\n",
       "\n",
       "    .dataframe thead th {\n",
       "        text-align: right;\n",
       "    }\n",
       "</style>\n",
       "<table border=\"1\" class=\"dataframe\">\n",
       "  <thead>\n",
       "    <tr style=\"text-align: right;\">\n",
       "      <th></th>\n",
       "      <th>charity</th>\n",
       "      <th>grant_type</th>\n",
       "      <th>index</th>\n",
       "      <th>year</th>\n",
       "      <th>inc_activity</th>\n",
       "      <th>inc_grants</th>\n",
       "      <th>inc_donations</th>\n",
       "      <th>inc_other</th>\n",
       "      <th>inc_total</th>\n",
       "      <th>total_costs</th>\n",
       "      <th>...</th>\n",
       "      <th>sh_staff_grants_given</th>\n",
       "      <th>sh_assets_grants_given</th>\n",
       "      <th>sh_income_balance</th>\n",
       "      <th>sh_staff_balance</th>\n",
       "      <th>sh_assets_balance</th>\n",
       "      <th>sh_income_assets</th>\n",
       "      <th>sh_staff_assets</th>\n",
       "      <th>sh_income_staff_costs</th>\n",
       "      <th>sh_assets_staff_costs</th>\n",
       "      <th>wgt</th>\n",
       "    </tr>\n",
       "  </thead>\n",
       "  <tbody>\n",
       "    <tr>\n",
       "      <th>0</th>\n",
       "      <td>4Children</td>\n",
       "      <td>R</td>\n",
       "      <td>1.0</td>\n",
       "      <td>2011</td>\n",
       "      <td>2880902.0</td>\n",
       "      <td>9603182.0</td>\n",
       "      <td>91404.0</td>\n",
       "      <td>310947.0</td>\n",
       "      <td>12886435.0</td>\n",
       "      <td>12127472.0</td>\n",
       "      <td>...</td>\n",
       "      <td>NaN</td>\n",
       "      <td>NaN</td>\n",
       "      <td>0.072636</td>\n",
       "      <td>0.135971</td>\n",
       "      <td>0.767809</td>\n",
       "      <td>0.094602</td>\n",
       "      <td>0.177090</td>\n",
       "      <td>0.534203</td>\n",
       "      <td>5.646843</td>\n",
       "      <td>1.0</td>\n",
       "    </tr>\n",
       "    <tr>\n",
       "      <th>1</th>\n",
       "      <td>4Children</td>\n",
       "      <td>R</td>\n",
       "      <td>1.0</td>\n",
       "      <td>2014</td>\n",
       "      <td>6810520.0</td>\n",
       "      <td>18768904.0</td>\n",
       "      <td>58002.0</td>\n",
       "      <td>401879.0</td>\n",
       "      <td>26039304.0</td>\n",
       "      <td>25493796.0</td>\n",
       "      <td>...</td>\n",
       "      <td>NaN</td>\n",
       "      <td>NaN</td>\n",
       "      <td>0.057641</td>\n",
       "      <td>0.089150</td>\n",
       "      <td>1.001396</td>\n",
       "      <td>0.057560</td>\n",
       "      <td>0.089026</td>\n",
       "      <td>0.646561</td>\n",
       "      <td>11.232729</td>\n",
       "      <td>1.0</td>\n",
       "    </tr>\n",
       "    <tr>\n",
       "      <th>2</th>\n",
       "      <td>4Children</td>\n",
       "      <td>R</td>\n",
       "      <td>1.0</td>\n",
       "      <td>2015</td>\n",
       "      <td>7199403.0</td>\n",
       "      <td>21638036.0</td>\n",
       "      <td>132191.0</td>\n",
       "      <td>512654.0</td>\n",
       "      <td>29482284.0</td>\n",
       "      <td>32290108.0</td>\n",
       "      <td>...</td>\n",
       "      <td>NaN</td>\n",
       "      <td>NaN</td>\n",
       "      <td>-0.049619</td>\n",
       "      <td>-0.079828</td>\n",
       "      <td>-0.620210</td>\n",
       "      <td>0.080004</td>\n",
       "      <td>0.128711</td>\n",
       "      <td>0.621583</td>\n",
       "      <td>7.769365</td>\n",
       "      <td>1.0</td>\n",
       "    </tr>\n",
       "    <tr>\n",
       "      <th>3</th>\n",
       "      <td>4Children</td>\n",
       "      <td>R</td>\n",
       "      <td>1.0</td>\n",
       "      <td>2013</td>\n",
       "      <td>5573013.0</td>\n",
       "      <td>15194731.0</td>\n",
       "      <td>228844.0</td>\n",
       "      <td>267156.0</td>\n",
       "      <td>21263744.0</td>\n",
       "      <td>20989048.0</td>\n",
       "      <td>...</td>\n",
       "      <td>NaN</td>\n",
       "      <td>NaN</td>\n",
       "      <td>0.045740</td>\n",
       "      <td>0.068251</td>\n",
       "      <td>1.008259</td>\n",
       "      <td>0.045365</td>\n",
       "      <td>0.067692</td>\n",
       "      <td>0.670166</td>\n",
       "      <td>14.772749</td>\n",
       "      <td>1.0</td>\n",
       "    </tr>\n",
       "    <tr>\n",
       "      <th>4</th>\n",
       "      <td>4Children</td>\n",
       "      <td>R</td>\n",
       "      <td>1.0</td>\n",
       "      <td>2010</td>\n",
       "      <td>2056816.0</td>\n",
       "      <td>7335103.0</td>\n",
       "      <td>110256.0</td>\n",
       "      <td>424628.0</td>\n",
       "      <td>9926803.0</td>\n",
       "      <td>9769816.0</td>\n",
       "      <td>...</td>\n",
       "      <td>NaN</td>\n",
       "      <td>NaN</td>\n",
       "      <td>0.057696</td>\n",
       "      <td>0.122532</td>\n",
       "      <td>0.567539</td>\n",
       "      <td>0.101660</td>\n",
       "      <td>0.215901</td>\n",
       "      <td>0.470862</td>\n",
       "      <td>4.631749</td>\n",
       "      <td>1.0</td>\n",
       "    </tr>\n",
       "  </tbody>\n",
       "</table>\n",
       "<p>5 rows × 44 columns</p>\n",
       "</div>"
      ],
      "text/plain": [
       "     charity grant_type  index  year  inc_activity  inc_grants  inc_donations  \\\n",
       "0  4Children          R    1.0  2011     2880902.0   9603182.0        91404.0   \n",
       "1  4Children          R    1.0  2014     6810520.0  18768904.0        58002.0   \n",
       "2  4Children          R    1.0  2015     7199403.0  21638036.0       132191.0   \n",
       "3  4Children          R    1.0  2013     5573013.0  15194731.0       228844.0   \n",
       "4  4Children          R    1.0  2010     2056816.0   7335103.0       110256.0   \n",
       "\n",
       "   inc_other   inc_total  total_costs  ...  sh_staff_grants_given  \\\n",
       "0   310947.0  12886435.0   12127472.0  ...                    NaN   \n",
       "1   401879.0  26039304.0   25493796.0  ...                    NaN   \n",
       "2   512654.0  29482284.0   32290108.0  ...                    NaN   \n",
       "3   267156.0  21263744.0   20989048.0  ...                    NaN   \n",
       "4   424628.0   9926803.0    9769816.0  ...                    NaN   \n",
       "\n",
       "   sh_assets_grants_given  sh_income_balance  sh_staff_balance  \\\n",
       "0                     NaN           0.072636          0.135971   \n",
       "1                     NaN           0.057641          0.089150   \n",
       "2                     NaN          -0.049619         -0.079828   \n",
       "3                     NaN           0.045740          0.068251   \n",
       "4                     NaN           0.057696          0.122532   \n",
       "\n",
       "  sh_assets_balance sh_income_assets  sh_staff_assets  sh_income_staff_costs  \\\n",
       "0          0.767809         0.094602         0.177090               0.534203   \n",
       "1          1.001396         0.057560         0.089026               0.646561   \n",
       "2         -0.620210         0.080004         0.128711               0.621583   \n",
       "3          1.008259         0.045365         0.067692               0.670166   \n",
       "4          0.567539         0.101660         0.215901               0.470862   \n",
       "\n",
       "   sh_assets_staff_costs  wgt  \n",
       "0               5.646843  1.0  \n",
       "1              11.232729  1.0  \n",
       "2               7.769365  1.0  \n",
       "3              14.772749  1.0  \n",
       "4               4.631749  1.0  \n",
       "\n",
       "[5 rows x 44 columns]"
      ]
     },
     "execution_count": 5,
     "metadata": {},
     "output_type": "execute_result"
    }
   ],
   "source": [
    "path = os.path.join(\"../data\", \"test_data.dta\")\n",
    "df = pd.read_stata(path)\n",
    "df.head()"
   ]
  },
  {
   "cell_type": "markdown",
   "id": "802a8f80-4f4b-48ae-86ee-8b7056710764",
   "metadata": {},
   "source": [
    "## Create a simple linear regression in three ways\n",
    " and print the results object returned and how to access the degrees of freedom\n",
    " \n",
    " I will start with inc_total vs inc_grants"
   ]
  },
  {
   "cell_type": "markdown",
   "id": "1b02ba7b-0421-402a-96c0-90836960d295",
   "metadata": {},
   "source": [
    "### First sklearn\n"
   ]
  },
  {
   "cell_type": "code",
   "execution_count": 8,
   "id": "637c6305-64ad-419b-bd15-ca9a94b27fc5",
   "metadata": {},
   "outputs": [],
   "source": [
    "from sklearn.linear_model import LinearRegression\n",
    "\n",
    "df.dropna(inplace=True)\n",
    "y = df['inc_total'].values.reshape(-1, 1)  # values converts it into a numpy array\n",
    "x = df['inc_grants'].values.reshape(-1, 1)  # -1 means that calculate the dimension of rows, but have 1 column\n",
    "linear_regressor = LinearRegression()  # create object for the class\n",
    "res= linear_regressor.fit(x, y)  # perform linear regression\n",
    "y_pred = linear_regressor.predict(x)  # make predictions"
   ]
  },
  {
   "cell_type": "code",
   "execution_count": 34,
   "id": "5bc79c44-5e83-4ab7-b189-37b3c2f14aef",
   "metadata": {},
   "outputs": [
    {
     "name": "stdout",
     "output_type": "stream",
     "text": [
      "intercept [29906768.], coeffecients [[1.8979713]]\n"
     ]
    }
   ],
   "source": [
    "print(f'intercept {linear_regressor.intercept_}, coeffecients {linear_regressor.coef_}')"
   ]
  },
  {
   "cell_type": "markdown",
   "id": "42fa93d2-6470-4e99-9952-f2e858973f14",
   "metadata": {},
   "source": [
    "### now a linear regression with two input variables"
   ]
  },
  {
   "cell_type": "code",
   "execution_count": 36,
   "id": "7b361599-20fd-42e6-adf0-9da84b4f7396",
   "metadata": {},
   "outputs": [
    {
     "name": "stdout",
     "output_type": "stream",
     "text": [
      "intercept [12081892.], coeffecients [[1.723166  1.2810115]]\n"
     ]
    }
   ],
   "source": [
    "x2 = df[['inc_grants','inc_activity']].values.reshape(-1, 2)  # -1 means that calculate the dimension of rows, but have 1 column\n",
    "bilinear_regressor = LinearRegression()  # create object for the class\n",
    "res2= bilinear_regressor.fit(x2, y)  # perform linear regression\n",
    "y_pred2 = bilinear_regressor.predict(x2)  # make predictions\n",
    "\n",
    "print(f'intercept {bilinear_regressor.intercept_}, coeffecients {bilinear_regressor.coef_}')"
   ]
  },
  {
   "cell_type": "markdown",
   "id": "09049b71-01bc-484d-85b5-3e2e41f768f1",
   "metadata": {},
   "source": [
    "### for completeness a linear regression with three input variables but no intercept"
   ]
  },
  {
   "cell_type": "code",
   "execution_count": 41,
   "id": "c655b56e-ef27-4d77-9f03-82096cbd48d8",
   "metadata": {},
   "outputs": [
    {
     "name": "stdout",
     "output_type": "stream",
     "text": [
      "intercept 0.0, coeffecients [[1.0145854 1.0113673 1.0529848]]\n"
     ]
    }
   ],
   "source": [
    "x3 = df[['inc_grants','inc_activity','inc_donations']].values.reshape(-1, 3)  # -1 means that calculate the dimension of rows, but have 1 column\n",
    "trilinear_regressor = LinearRegression(fit_intercept=False)  # create object for the class\n",
    "res3= trilinear_regressor.fit(x3, y)  # perform linear regression\n",
    "y_pred3 = trilinear_regressor.predict(x3)  # make predictions\n",
    "\n",
    "\n",
    "print(f'intercept {trilinear_regressor.intercept_}, coeffecients {trilinear_regressor.coef_}')"
   ]
  },
  {
   "cell_type": "markdown",
   "id": "51066891-3160-44c1-8867-cf8a3cbda93c",
   "metadata": {},
   "source": [
    "### Function to calculate the degrees of freedom of a model \n",
    "(number of parameters that can vary) will depend on whether an intercept is allowed."
   ]
  },
  {
   "cell_type": "code",
   "execution_count": 17,
   "id": "edb372e8-eab2-4b18-a621-31eb65bd9b2e",
   "metadata": {},
   "outputs": [
    {
     "data": {
      "text/plain": [
       "sklearn.linear_model._base.LinearRegression"
      ]
     },
     "execution_count": 17,
     "metadata": {},
     "output_type": "execute_result"
    }
   ],
   "source": [
    "type(linear_regressor)"
   ]
  },
  {
   "cell_type": "code",
   "execution_count": 29,
   "id": "4e83b8c0-9408-4bec-9343-1521d799d946",
   "metadata": {},
   "outputs": [],
   "source": [
    "import sklearn\n",
    "def get_dof(model)->int:\n",
    "    if isinstance( model,sklearn.linear_model._base.LinearRegression):\n",
    "        dof =  model.n_features_in_ +1  if model.fit_intercept else model.n_features_in_\n",
    "    return dof"
   ]
  },
  {
   "cell_type": "code",
   "execution_count": 30,
   "id": "a4e45253-a0c0-4697-a8dd-6eaa1cabd447",
   "metadata": {},
   "outputs": [
    {
     "data": {
      "text/plain": [
       "2"
      ]
     },
     "execution_count": 30,
     "metadata": {},
     "output_type": "execute_result"
    }
   ],
   "source": [
    "get_dof(linear_regressor)"
   ]
  },
  {
   "cell_type": "code",
   "execution_count": 33,
   "id": "93fcf0b4-58ec-41c7-9854-2e3a8b084579",
   "metadata": {},
   "outputs": [
    {
     "data": {
      "text/plain": [
       "3"
      ]
     },
     "execution_count": 33,
     "metadata": {},
     "output_type": "execute_result"
    }
   ],
   "source": [
    "get_dof(bilinear_regressor)"
   ]
  },
  {
   "cell_type": "code",
   "execution_count": 42,
   "id": "42cae002-dac5-483b-a85d-be6fd0b2a1b3",
   "metadata": {},
   "outputs": [
    {
     "data": {
      "text/plain": [
       "3"
      ]
     },
     "execution_count": 42,
     "metadata": {},
     "output_type": "execute_result"
    }
   ],
   "source": [
    "get_dof(trilinear_regressor)"
   ]
  },
  {
   "cell_type": "markdown",
   "id": "e9233a06-441a-4e9d-847e-5fbe4725a9da",
   "metadata": {},
   "source": [
    "# TO-DO\n",
    "1. Repeat this process for different ways of getting a linear regression i.e. via scipy.stats\n",
    "   - in some cases we may be able to get at the dof directly if the fit process returns a results object\n",
    "   - or we could consider getting at it direcrtly from the combination of the number of colu,mns in x and whether an intercept is allowed\n",
    "   - either way, build up the get_dof() function\n",
    "   \n",
    "2. Extend to some common other forms of regression\n",
    "\n",
    "3. use this get_dof() function within the safe framework ricahrd has created for safe_table "
   ]
  },
  {
   "cell_type": "code",
   "execution_count": null,
   "id": "6c52707d-5487-444a-aca1-bd26ebac863f",
   "metadata": {},
   "outputs": [],
   "source": []
  }
 ],
 "metadata": {
  "kernelspec": {
   "display_name": "py10",
   "language": "python",
   "name": "py10"
  },
  "language_info": {
   "codemirror_mode": {
    "name": "ipython",
    "version": 3
   },
   "file_extension": ".py",
   "mimetype": "text/x-python",
   "name": "python",
   "nbconvert_exporter": "python",
   "pygments_lexer": "ipython3",
   "version": "3.10.6"
  }
 },
 "nbformat": 4,
 "nbformat_minor": 5
}

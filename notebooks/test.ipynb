{
 "cells": [
  {
   "cell_type": "markdown",
   "id": "00cac1f9",
   "metadata": {},
   "source": [
    "# ACRO Tests"
   ]
  },
  {
   "cell_type": "code",
   "execution_count": null,
   "id": "e33fd4fb",
   "metadata": {
    "tags": []
   },
   "outputs": [],
   "source": [
    "import os\n",
    "import sys\n",
    "import pandas as pd\n",
    "import numpy as np"
   ]
  },
  {
   "cell_type": "code",
   "execution_count": null,
   "id": "c01cfe12",
   "metadata": {
    "tags": []
   },
   "outputs": [],
   "source": [
    "# uncomment this line if acro is not installed\n",
    "# ie you are in development mode\n",
    "sys.path.insert(0, os.path.abspath(\"..\"))"
   ]
  },
  {
   "cell_type": "code",
   "execution_count": null,
   "id": "cc8d993a",
   "metadata": {
    "scrolled": true,
    "tags": []
   },
   "outputs": [],
   "source": [
    "from acro import ACRO, acro_tables, add_constant, utils"
   ]
  },
  {
   "cell_type": "markdown",
   "id": "530efcfe",
   "metadata": {},
   "source": [
    "### Instantiate ACRO"
   ]
  },
  {
   "cell_type": "code",
   "execution_count": null,
   "id": "4b8a77e2",
   "metadata": {
    "tags": []
   },
   "outputs": [],
   "source": [
    "acro = ACRO(suppress=False)"
   ]
  },
  {
   "cell_type": "markdown",
   "id": "27a2baaa",
   "metadata": {},
   "source": [
    "### Load test data"
   ]
  },
  {
   "cell_type": "code",
   "execution_count": null,
   "id": "8722735f",
   "metadata": {
    "scrolled": true,
    "tags": []
   },
   "outputs": [],
   "source": [
    "path = os.path.join(\"../data\", \"test_data.dta\")\n",
    "df = pd.read_stata(path)\n",
    "df.head()"
   ]
  },
  {
   "cell_type": "markdown",
   "id": "4ae844a0",
   "metadata": {},
   "source": [
    "### Pandas crosstab"
   ]
  },
  {
   "cell_type": "code",
   "execution_count": null,
   "id": "961684cb",
   "metadata": {
    "tags": []
   },
   "outputs": [],
   "source": [
    "table = pd.crosstab(df.year, [df.survivor, df.grant_type])\n",
    "table"
   ]
  },
  {
   "cell_type": "markdown",
   "id": "d642ed00",
   "metadata": {},
   "source": [
    "### ACRO crosstab"
   ]
  },
  {
   "cell_type": "code",
   "execution_count": null,
   "id": "bb4b2677",
   "metadata": {
    "scrolled": true,
    "tags": []
   },
   "outputs": [],
   "source": [
    "safe_table = acro.crosstab(df.year, [df.survivor, df.grant_type])\n",
    "safe_table"
   ]
  },
  {
   "cell_type": "markdown",
   "id": "59b223fb-7b88-4f51-9bdf-7dbb797849d1",
   "metadata": {
    "tags": []
   },
   "source": [
    "### same table with column hierarchy reversed to make sure spaces in variable name. dealt with properly"
   ]
  },
  {
   "cell_type": "code",
   "execution_count": null,
   "id": "d01f7437-ceee-41b3-84ad-07976e0d58c3",
   "metadata": {
    "tags": []
   },
   "outputs": [],
   "source": [
    "safe_table = acro.crosstab(df.year, [df.grant_type, df.survivor])\n",
    "safe_table"
   ]
  },
  {
   "cell_type": "markdown",
   "id": "1c34d5ba-8200-4181-9440-ca02f4bfd2f4",
   "metadata": {},
   "source": [
    "### checking for testing purposes"
   ]
  },
  {
   "cell_type": "code",
   "execution_count": null,
   "id": "e4382b14-cfcf-4d01-a25a-97106852bd65",
   "metadata": {
    "tags": []
   },
   "outputs": [],
   "source": [
    "mydata = df[(df[\"charity\"].str[0] == \"W\")]\n",
    "mydata = mydata[mydata[\"year\"] < 2012]\n",
    "acro.crosstab(mydata.year, mydata.survivor)"
   ]
  },
  {
   "cell_type": "markdown",
   "id": "6d4730c4",
   "metadata": {},
   "source": [
    "### ACRO crosstab with suppression"
   ]
  },
  {
   "cell_type": "code",
   "execution_count": null,
   "id": "37ddb939",
   "metadata": {
    "tags": []
   },
   "outputs": [],
   "source": [
    "acro.suppress = True\n",
    "\n",
    "safe_table = acro.crosstab(df.year, df.grant_type, values=df.inc_grants, aggfunc=\"mean\")\n",
    "safe_table"
   ]
  },
  {
   "cell_type": "markdown",
   "id": "0c695e09",
   "metadata": {},
   "source": [
    "### ACRO crosstab with suppression and totals"
   ]
  },
  {
   "cell_type": "code",
   "execution_count": null,
   "id": "ef42beb6",
   "metadata": {
    "tags": []
   },
   "outputs": [],
   "source": [
    "acro.suppress = False\n",
    "table = acro.crosstab(\n",
    "    df.year,\n",
    "    [df.grant_type, df.survivor],\n",
    "    values=df.inc_grants,\n",
    "    aggfunc=\"count\",\n",
    "    margins=True,\n",
    ")\n",
    "print(table)"
   ]
  },
  {
   "cell_type": "code",
   "execution_count": null,
   "id": "506135e0",
   "metadata": {
    "tags": []
   },
   "outputs": [],
   "source": [
    "acro.suppress = False"
   ]
  },
  {
   "cell_type": "markdown",
   "id": "8b603548",
   "metadata": {},
   "source": [
    "### ACRO crosstab with aggregation function"
   ]
  },
  {
   "cell_type": "code",
   "execution_count": null,
   "id": "83718cb1",
   "metadata": {
    "tags": []
   },
   "outputs": [],
   "source": [
    "safe_table = acro.crosstab(df.year, df.survivor, values=df.inc_grants, aggfunc=\"mean\")\n",
    "safe_table"
   ]
  },
  {
   "cell_type": "markdown",
   "id": "de4266cd-b4d4-417b-ae44-5d972e8bfdde",
   "metadata": {},
   "source": [
    "### ACRO crosstab with multiple aggregation functions and totals"
   ]
  },
  {
   "cell_type": "code",
   "execution_count": null,
   "id": "fb7abfc9-e428-4b71-9066-01ac9a08d655",
   "metadata": {
    "tags": []
   },
   "outputs": [],
   "source": [
    "safe_table = acro.crosstab(\n",
    "    df.year, df.grant_type, values=df.inc_grants, aggfunc=[\"mean\", \"std\"], margins=True\n",
    ")\n",
    "safe_table"
   ]
  },
  {
   "cell_type": "markdown",
   "id": "0aa99fbf",
   "metadata": {},
   "source": [
    "### ACRO crosstab with missing values\n",
    "- This is an example of a crosstab where there are missing values that have not been filled or dealt with in the data.\n",
    "- Note that you need to change the value of the CHECK_MISSING_VALUES variable in the acro object to True. Then run the crosstab command.\n",
    "- In this example, ten values in the column inc_grants were set to Nan to represent missing data.\n",
    "- In this version of acro checking the disclosiveness of an output with missing values is not supported.\n",
    "- The status of the command will be \"review\" to indicate that the output needs to be checked by the output checker to review if the output is disclosive or not.\n",
    "- In the outcome_df each cell with missing value/values will be shown as missing.\n",
    "- The output hist will not be suppressed even if the suppress=True."
   ]
  },
  {
   "cell_type": "code",
   "execution_count": null,
   "id": "bf132239",
   "metadata": {
    "tags": []
   },
   "outputs": [],
   "source": [
    "utils.CHECK_MISSING_VALUES = True\n",
    "\n",
    "missing = df.inc_grants.copy()\n",
    "missing[0:10] = np.NaN\n",
    "\n",
    "safe_table = acro.crosstab(\n",
    "    df.year, df.grant_type, values=missing, aggfunc=\"mean\", margins=True\n",
    ")\n",
    "safe_table"
   ]
  },
  {
   "cell_type": "code",
   "execution_count": null,
   "id": "7cc417a0",
   "metadata": {
    "tags": []
   },
   "outputs": [],
   "source": [
    "utils.CHECK_MISSING_VALUES = False"
   ]
  },
  {
   "cell_type": "markdown",
   "id": "fcc81e98",
   "metadata": {},
   "source": [
    "### ACRO crosstab with negative values"
   ]
  },
  {
   "cell_type": "code",
   "execution_count": null,
   "id": "15bcdc7c",
   "metadata": {
    "tags": []
   },
   "outputs": [],
   "source": [
    "negative = df.inc_grants.copy()\n",
    "negative[0:10] = -10\n",
    "\n",
    "safe_table = acro.crosstab(df.year, df.grant_type, values=negative, aggfunc=\"mean\")\n",
    "safe_table"
   ]
  },
  {
   "cell_type": "markdown",
   "id": "d66e565b",
   "metadata": {},
   "source": [
    "### ACRO pivot_table"
   ]
  },
  {
   "cell_type": "code",
   "execution_count": null,
   "id": "b13b5f7e",
   "metadata": {
    "tags": []
   },
   "outputs": [],
   "source": [
    "table = acro.pivot_table(\n",
    "    df,\n",
    "    index=[\"grant_type\"],\n",
    "    columns=[\"year\"],\n",
    "    values=[\"inc_grants\"],\n",
    "    margins=True,\n",
    "    aggfunc=\"sum\",\n",
    ")\n",
    "table"
   ]
  },
  {
   "cell_type": "code",
   "execution_count": null,
   "id": "f72162c8",
   "metadata": {},
   "outputs": [],
   "source": [
    "table = acro.pivot_table(\n",
    "    df, index=[\"grant_type\"], values=[\"inc_grants\"], aggfunc=[\"mean\", \"std\"]\n",
    ")\n",
    "table"
   ]
  },
  {
   "cell_type": "markdown",
   "id": "dc99fa71",
   "metadata": {},
   "source": [
    "### ACRO pivot_table with missing values"
   ]
  },
  {
   "cell_type": "code",
   "execution_count": null,
   "id": "f3a87c20",
   "metadata": {},
   "outputs": [],
   "source": [
    "utils.CHECK_MISSING_VALUES = True\n",
    "\n",
    "df.loc[0:10, \"inc_grants\"] = np.NaN\n",
    "\n",
    "table = acro.pivot_table(\n",
    "    df, index=[\"grant_type\"], values=[\"inc_grants\"], aggfunc=[\"mean\", \"std\"]\n",
    ")\n",
    "table"
   ]
  },
  {
   "cell_type": "code",
   "execution_count": null,
   "id": "8cabd236",
   "metadata": {},
   "outputs": [],
   "source": [
    "utils.CHECK_MISSING_VALUES = False"
   ]
  },
  {
   "cell_type": "markdown",
   "id": "b1f77749",
   "metadata": {},
   "source": [
    "### ACRO pivot_table with negative values"
   ]
  },
  {
   "cell_type": "code",
   "execution_count": null,
   "id": "864d39f4",
   "metadata": {},
   "outputs": [],
   "source": [
    "df.loc[0:10, \"inc_grants\"] = -10\n",
    "\n",
    "table = acro.pivot_table(\n",
    "    df, index=[\"grant_type\"], values=[\"inc_grants\"], aggfunc=[\"mean\", \"std\"]\n",
    ")\n",
    "table"
   ]
  },
  {
   "cell_type": "markdown",
   "id": "45ec04ef",
   "metadata": {},
   "source": [
    "### ACRO OLS"
   ]
  },
  {
   "cell_type": "code",
   "execution_count": null,
   "id": "d0724d08-6969-4f0a-8a32-e00d253f3597",
   "metadata": {
    "tags": []
   },
   "outputs": [],
   "source": [
    "new_df = df[[\"inc_activity\", \"inc_grants\", \"inc_donations\", \"total_costs\"]]\n",
    "new_df = new_df.dropna()\n",
    "\n",
    "y = new_df[\"inc_activity\"]\n",
    "x = new_df[[\"inc_grants\", \"inc_donations\", \"total_costs\"]]\n",
    "x = add_constant(x)\n",
    "\n",
    "results = acro.ols(y, x)\n",
    "results.summary()"
   ]
  },
  {
   "cell_type": "markdown",
   "id": "0c826271",
   "metadata": {},
   "source": [
    "### ACRO OLSR"
   ]
  },
  {
   "cell_type": "code",
   "execution_count": null,
   "id": "cc90f7c9",
   "metadata": {},
   "outputs": [],
   "source": [
    "results = acro.olsr(\n",
    "    formula=\"inc_activity ~ inc_grants + inc_donations + total_costs\", data=new_df\n",
    ")\n",
    "results.summary()"
   ]
  },
  {
   "cell_type": "markdown",
   "id": "0c489203",
   "metadata": {},
   "source": [
    "### ACRO Probit"
   ]
  },
  {
   "cell_type": "code",
   "execution_count": null,
   "id": "5b1a1611",
   "metadata": {},
   "outputs": [],
   "source": [
    "new_df = df[[\"survivor\", \"inc_activity\", \"inc_grants\", \"inc_donations\", \"total_costs\"]]\n",
    "new_df = new_df.dropna()\n",
    "\n",
    "y = new_df[\"survivor\"].astype(\"category\").cat.codes  # numeric\n",
    "y.name = \"survivor\"\n",
    "x = new_df[[\"inc_activity\", \"inc_grants\", \"inc_donations\", \"total_costs\"]]\n",
    "x = add_constant(x)\n",
    "\n",
    "results = acro.probit(y, x)\n",
    "results.summary()"
   ]
  },
  {
   "cell_type": "markdown",
   "id": "22efa3df",
   "metadata": {},
   "source": [
    "### ACRO Logit"
   ]
  },
  {
   "cell_type": "code",
   "execution_count": null,
   "id": "dcf30f8f",
   "metadata": {},
   "outputs": [],
   "source": [
    "results = acro.logit(y, x)\n",
    "results.summary()"
   ]
  },
  {
   "cell_type": "markdown",
   "id": "3631a59d",
   "metadata": {},
   "source": [
    "### ACRO Histogram without suppression"
   ]
  },
  {
   "cell_type": "code",
   "execution_count": null,
   "id": "af2f4313",
   "metadata": {},
   "outputs": [],
   "source": [
    "hist = acro.hist(df, \"inc_grants\")\n",
    "print(hist)"
   ]
  },
  {
   "cell_type": "markdown",
   "id": "5faf9a98",
   "metadata": {},
   "source": [
    "### ACRO Histogram with suppression"
   ]
  },
  {
   "cell_type": "code",
   "execution_count": null,
   "id": "349d8a29",
   "metadata": {},
   "outputs": [],
   "source": [
    "acro.suppress = True\n",
    "hist = acro.hist(df, \"inc_grants\")"
   ]
  },
  {
   "cell_type": "code",
   "execution_count": null,
   "id": "ab0fe892",
   "metadata": {},
   "outputs": [],
   "source": [
    "acro.suppress = False"
   ]
  },
  {
   "cell_type": "markdown",
   "id": "589fedc6",
   "metadata": {},
   "source": [
    "### List current ACRO outputs"
   ]
  },
  {
   "cell_type": "code",
   "execution_count": null,
   "id": "ec960039",
   "metadata": {
    "scrolled": true
   },
   "outputs": [],
   "source": [
    "results_str = acro.print_outputs()"
   ]
  },
  {
   "cell_type": "markdown",
   "id": "f78b5a08",
   "metadata": {},
   "source": [
    "### Remove some ACRO outputs before finalising"
   ]
  },
  {
   "cell_type": "code",
   "execution_count": null,
   "id": "6211a9cf",
   "metadata": {},
   "outputs": [],
   "source": [
    "acro.remove_output(\"output_1\")\n",
    "acro.remove_output(\"output_4\")"
   ]
  },
  {
   "cell_type": "markdown",
   "id": "df2a02e0",
   "metadata": {},
   "source": [
    "### Rename ACRO outputs before finalising"
   ]
  },
  {
   "cell_type": "code",
   "execution_count": null,
   "id": "c9864a29",
   "metadata": {},
   "outputs": [],
   "source": [
    "acro.rename_output(\"output_2\", \"pivot_table\")"
   ]
  },
  {
   "cell_type": "markdown",
   "id": "56d2b6a1",
   "metadata": {},
   "source": [
    "### Add a comment to output"
   ]
  },
  {
   "cell_type": "code",
   "execution_count": null,
   "id": "b392be9f",
   "metadata": {},
   "outputs": [],
   "source": [
    "acro.add_comments(\"output_0\", \"This is a cross table between year and grant_type\")\n",
    "acro.add_comments(\"output_0\", \"6 cells were suppressed in this table\")"
   ]
  },
  {
   "cell_type": "markdown",
   "id": "8496fed4",
   "metadata": {},
   "source": [
    "### Add an unsupported output to the list of outputs"
   ]
  },
  {
   "cell_type": "code",
   "execution_count": null,
   "id": "2816eac7",
   "metadata": {},
   "outputs": [],
   "source": [
    "acro.custom_output(\n",
    "    \"XandY.jpeg\", \"This output is an image showing the relationship between X and Y\"\n",
    ")"
   ]
  },
  {
   "cell_type": "markdown",
   "id": "6efde761",
   "metadata": {},
   "source": [
    "### Request an exception for some of the outputs"
   ]
  },
  {
   "cell_type": "code",
   "execution_count": null,
   "id": "f38b4334",
   "metadata": {},
   "outputs": [],
   "source": [
    "acro.add_exception(\"output_0\", \"I really need this.\")\n",
    "acro.add_exception(\"output_3\", \"This one is safe. Trust me, I'm a professor.\")\n",
    "acro.add_exception(\"output_5\", \"It's not disclosive, I promise.\")\n",
    "acro.add_exception(\"output_6\", \"I need this one too\")"
   ]
  },
  {
   "cell_type": "markdown",
   "id": "5a586694",
   "metadata": {},
   "source": [
    "### Finalise ACRO"
   ]
  },
  {
   "cell_type": "code",
   "execution_count": null,
   "id": "9e554eea",
   "metadata": {},
   "outputs": [],
   "source": [
    "SAVE_PATH = \"ACRO_RES\"\n",
    "\n",
    "# output = acro.finalise(SAVE_PATH, \"xlsx\")\n",
    "output = acro.finalise(SAVE_PATH, \"json\")"
   ]
  },
  {
   "cell_type": "markdown",
   "id": "64e00920",
   "metadata": {},
   "source": [
    "### List files generated"
   ]
  },
  {
   "cell_type": "code",
   "execution_count": null,
   "id": "96b72072",
   "metadata": {},
   "outputs": [],
   "source": [
    "files = []\n",
    "for name in os.listdir(SAVE_PATH):\n",
    "    if os.path.isfile(os.path.join(SAVE_PATH, name)):\n",
    "        files.append(name)\n",
    "files.sort()\n",
    "for f in files:\n",
    "    print(f)"
   ]
  },
  {
   "cell_type": "markdown",
   "id": "a0e77cbe",
   "metadata": {},
   "source": [
    "### Checksums"
   ]
  },
  {
   "cell_type": "code",
   "execution_count": null,
   "id": "f5f6364e",
   "metadata": {},
   "outputs": [],
   "source": [
    "files = []\n",
    "checksum_dir = os.path.join(SAVE_PATH, \"checksums\")\n",
    "for name in os.listdir(checksum_dir):\n",
    "    if os.path.isfile(os.path.join(checksum_dir, name)):\n",
    "        files.append(name)\n",
    "files.sort()\n",
    "for f in files:\n",
    "    print(f)"
   ]
  },
  {
   "cell_type": "code",
   "execution_count": null,
   "id": "f241054a-c91e-4a91-bdc0-0395bbe084dd",
   "metadata": {},
   "outputs": [],
   "source": []
  }
 ],
 "metadata": {
  "kernelspec": {
   "display_name": "sprint1",
   "language": "python",
   "name": "sprint1"
  },
  "language_info": {
   "codemirror_mode": {
    "name": "ipython",
    "version": 3
   },
   "file_extension": ".py",
   "mimetype": "text/x-python",
   "name": "python",
   "nbconvert_exporter": "python",
   "pygments_lexer": "ipython3",
   "version": "3.10.11"
  }
 },
 "nbformat": 4,
 "nbformat_minor": 5
}

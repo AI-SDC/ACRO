{
 "cells": [
  {
   "cell_type": "code",
   "execution_count": 1,
   "id": "acf8ca8f-035e-4d99-a80b-889a9e1dc488",
   "metadata": {},
   "outputs": [],
   "source": [
    "#from sfi import Data, Macro, Missing, SFIToolkit, Scalar\n",
    "import os\n",
    "import acro\n",
    "import pandas as pd\n",
    "import acro_parser \n",
    "\n",
    "def acrohandler(varlist):\n",
    "    debug=False\n",
    "    # parse command line\n",
    "    command_list = varlist.split()\n",
    "    n_args= len(command_list)\n",
    "    if(debug):\n",
    "        theline= f'acrohandler received this command: {varlist}\\n'\n",
    "        print(theline)\n",
    "        theline += f'which it split into {n_args} tokens:\\n'\n",
    "        for tok in range(n_args):\n",
    "            theline+= f'  _{command_list[tok]}_\\n'\n",
    "        with open (\"pyout.txt\",mode=\"w\") as f:\n",
    "            f.write(theline) \n",
    "        print(\"command line parsed\")\n",
    "    \n",
    "    #make data object\n",
    "    path = os.path.join(\"../data\", \"test_data.dta\")\n",
    "    the_data = pd.read_stata(path)\n",
    "#     nvars= Data.getVarCount()\n",
    "#     colnames= []\n",
    "#     for col in range(nvars):\n",
    "#         colnames.append(Data.getVarName(col))\n",
    "#     if debug:\n",
    "#         print(f'var names are {colnames}')\n",
    "#     the_data= pd.DataFrame(Data.get(),columns=colnames)\n",
    "    \n",
    "#     if debug:\n",
    "#         contents = the_data.describe()\n",
    "#         contents.to_csv(\"contents.csv\") \n",
    "\n",
    "    #now do the acro part\n",
    "    #myacro=acro.ACRO()\n",
    "    acro_outstr = acro_parser.parse_and_run (the_data,command_list)\n",
    "    return acro_outstr\n",
    "    #myacro.finalise(\"stata_outs.json\")"
   ]
  },
  {
   "cell_type": "code",
   "execution_count": 2,
   "id": "dbbdcabd-0189-40dc-869f-b5d840c9fd30",
   "metadata": {},
   "outputs": [
    {
     "name": "stderr",
     "output_type": "stream",
     "text": [
      "INFO:acro:config: {'safe_threshold': 10, 'safe_dof_threshold': 10, 'safe_nk_n': 2, 'safe_nk_k': 0.9, 'safe_pratio_p': 0.1, 'check_missing_values': False}\n"
     ]
    },
    {
     "name": "stdout",
     "output_type": "stream",
     "text": [
      "calling init\n",
      "\n",
      "returns:acro analysis session created\n",
      "\n",
      "type of myacro is now <class 'str'>\n",
      "calling table survivor grant_type\n",
      "\n"
     ]
    },
    {
     "name": "stderr",
     "output_type": "stream",
     "text": [
      "INFO:acro:outcome_df:\n",
      "grant_type      G            N   R          R/G\n",
      "survivor                                       \n",
      "Dead in 2015   ok  threshold;   ok  threshold; \n",
      "Alive in 2015  ok           ok  ok           ok\n",
      "INFO:acro:get_summary(): fail; threshold: 2 cells suppressed; \n",
      "INFO:acro:add_output(): output_0_2023-06-15-10412000\n",
      "INFO:acro:Directory outputs/ already exists\n",
      "INFO:acro:output written to: stata_out.json\n"
     ]
    },
    {
     "name": "stdout",
     "output_type": "stream",
     "text": [
      "returns:grant_type      G      N    R   R/G\n",
      "survivor                           \n",
      "Dead in 2015   18    NaN  282   NaN\n",
      "Alive in 2015  72  354.0  144  48.0\n",
      "\n",
      "\n",
      "type of myacro is now <class 'str'>\n",
      "calling print_outputs\n",
      "\n",
      "output_0_2023-06-15-10412000:\n",
      "command: safe_output=myacro.crosstab(df[rowvar],df[colvar])\n",
      "summary: fail; threshold: 2 cells suppressed; \n",
      "outcome: grant_type      G            N   R          R/G\n",
      "survivor                                       \n",
      "Dead in 2015   ok  threshold;   ok  threshold; \n",
      "Alive in 2015  ok           ok  ok           ok\n",
      "output: [grant_type      G      N    R   R/G\n",
      "survivor                           \n",
      "Dead in 2015   18    NaN  282   NaN\n",
      "Alive in 2015  72  354.0  144  48.0]\n",
      "timestamp: 2023-06-15-10412000\n",
      "comments: \n",
      "\n",
      "\n",
      "returns:None\n",
      "\n",
      "type of myacro is now <class 'str'>\n",
      "calling finalise\n",
      "\n",
      "returns:(<acro.acro.ACRO object at 0x1105e4e20>, 'outputs and stata_out.json written')\n",
      "\n",
      "type of myacro is now <class 'str'>\n"
     ]
    }
   ],
   "source": [
    "    \n",
    "testlists = [ 'init',\n",
    "              'table survivor grant_type',\n",
    "              'print_outputs',\n",
    "              'finalise'\n",
    "            ]\n",
    "    \n",
    "myacro= \"empty\"\n",
    "for command in testlists:\n",
    "    print(f'calling {command}\\n')\n",
    "    ret1= acrohandler(command)\n",
    "    print(f'returns:{ret1}\\n')\n",
    "    print(f'type of myacro is now {type(myacro)}')"
   ]
  },
  {
   "cell_type": "code",
   "execution_count": null,
   "id": "9eb59e4d-b45c-4bc0-a6b1-bc77ddd40cde",
   "metadata": {},
   "outputs": [],
   "source": []
  },
  {
   "cell_type": "code",
   "execution_count": null,
   "id": "3a9a34e6-3b72-467d-b265-e1c6677ea537",
   "metadata": {},
   "outputs": [],
   "source": []
  },
  {
   "cell_type": "code",
   "execution_count": null,
   "id": "70556efd-5bd8-460d-8152-6101bbc66bfb",
   "metadata": {},
   "outputs": [],
   "source": []
  }
 ],
 "metadata": {
  "kernelspec": {
   "display_name": "sprint1",
   "language": "python",
   "name": "sprint1"
  },
  "language_info": {
   "codemirror_mode": {
    "name": "ipython",
    "version": 3
   },
   "file_extension": ".py",
   "mimetype": "text/x-python",
   "name": "python",
   "nbconvert_exporter": "python",
   "pygments_lexer": "ipython3",
   "version": "3.10.11"
  }
 },
 "nbformat": 4,
 "nbformat_minor": 5
}

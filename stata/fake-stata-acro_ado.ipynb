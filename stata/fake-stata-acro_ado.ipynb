{
 "cells": [
  {
   "cell_type": "code",
   "execution_count": 1,
   "id": "ca3cde7f-81ff-43ea-a24b-682ecc320b92",
   "metadata": {},
   "outputs": [
    {
     "data": {
      "text/plain": [
       "<module 'acro_parser' from '/Users/j4-smith/GitHub/AI-SDC/ACRO/stata/acro_parser.py'>"
      ]
     },
     "execution_count": 1,
     "metadata": {},
     "output_type": "execute_result"
    }
   ],
   "source": [
    "#from sfi import Data, Macro, Missing, SFIToolkit, Scalar\n",
    "import os\n",
    "import acro\n",
    "import pandas as pd\n",
    "import acro_parser \n",
    "from importlib import reload\n",
    "reload(acro_parser)"
   ]
  },
  {
   "cell_type": "code",
   "execution_count": 40,
   "id": "26b461fd-5608-4b48-aec5-b852bdd40b5b",
   "metadata": {},
   "outputs": [],
   "source": [
    "\n",
    "def acrohandler(command, varlist,exclusion,exp,weights,options):\n",
    "    if debug:\n",
    "        outline = 'in python acrohandler function: '\n",
    "        outline +=    f'command = {command} '\n",
    "        outline +=    f'varlist={varlist} '\n",
    "        outline +=    f'if = {exclusion} '\n",
    "        outline +=    f'exp = {exp} '\n",
    "        outline +=    f'weights={weights} '\n",
    "        outline +=    f'options={options} '\n",
    "        print(outline)\n",
    "    \n",
    "    #make data object\n",
    "    path = os.path.join(\"../data\", \"test_data.dta\")\n",
    "    the_data = pd.read_stata(path)\n",
    "    #print(f'in dummy acrohandler dataset has size {the_data.shape}') \n",
    "\n",
    "\n",
    "    #now do the acro part\n",
    "    acro_outstr = acro_parser.parse_and_run (the_data,command,varlist,exclusion,exp,weights,options)\n",
    "\n",
    "    return acro_outstr"
   ]
  },
  {
   "cell_type": "code",
   "execution_count": 34,
   "id": "0711d1d2-7025-42ab-af95-c8c2ec3ef276",
   "metadata": {},
   "outputs": [],
   "source": [
    "#handy string to copy/paste\n",
    "# command='',varlist='',exclusion='',exp='',weights='',options=''"
   ]
  },
  {
   "cell_type": "code",
   "execution_count": 45,
   "id": "43cae0e6-ced9-4620-831a-c7b40d47a01b",
   "metadata": {},
   "outputs": [
    {
     "name": "stderr",
     "output_type": "stream",
     "text": [
      "INFO:acro:config: {'safe_threshold': 10, 'safe_dof_threshold': 10, 'safe_nk_n': 2, 'safe_nk_k': 0.9, 'safe_pratio_p': 0.1, 'check_missing_values': False}\n"
     ]
    },
    {
     "name": "stdout",
     "output_type": "stream",
     "text": [
      "in python acrohandler function: command = init varlist= if =  exp =  weights= options= \n",
      "in dummy acrohandler dataset has size (918, 44)\n",
      " split varlist is []\n",
      "acro analysis session created\n",
      "\n"
     ]
    }
   ],
   "source": [
    "ret=acrohandler(command='init',varlist='',exclusion='',exp='',weights='',options='')\n",
    "print(ret)"
   ]
  },
  {
   "cell_type": "code",
   "execution_count": 46,
   "id": "bee231dc-b817-48ca-8c92-71fa3b25e93e",
   "metadata": {},
   "outputs": [
    {
     "name": "stderr",
     "output_type": "stream",
     "text": [
      "INFO:acro:outcome_df:\n",
      "grant_type      G            N   R          R/G\n",
      "survivor                                       \n",
      "Dead in 2015   ok  threshold;   ok  threshold; \n",
      "Alive in 2015  ok           ok  ok           ok\n",
      "INFO:acro:get_summary(): fail; threshold: 2 cells suppressed; \n",
      "INFO:acro:add_output(): output_0_2023-06-18-19254748\n"
     ]
    },
    {
     "name": "stdout",
     "output_type": "stream",
     "text": [
      "in python acrohandler function: command = table varlist=survivor grant_type if =  exp =  weights= options= \n",
      "in dummy acrohandler dataset has size (918, 44)\n",
      " split varlist is ['survivor', 'grant_type']\n",
      "grant_type      G      N    R   R/G\n",
      "survivor                           \n",
      "Dead in 2015   18    NaN  282   NaN\n",
      "Alive in 2015  72  354.0  144  48.0\n",
      "\n"
     ]
    }
   ],
   "source": [
    "ret=acrohandler('table','survivor grant_type',exclusion='',exp='',weights='',options='')\n",
    "print(ret)"
   ]
  },
  {
   "cell_type": "code",
   "execution_count": 47,
   "id": "af360481-eea6-4595-ba42-a166818fff24",
   "metadata": {},
   "outputs": [
    {
     "name": "stderr",
     "output_type": "stream",
     "text": [
      "INFO:acro:ols() outcome: pass; dof=807.0 >= 10\n",
      "INFO:acro:add_output(): output_1_2023-06-18-19260266\n"
     ]
    },
    {
     "name": "stdout",
     "output_type": "stream",
     "text": [
      "in python acrohandler function: command = regress varlist= inc_activity inc_grants inc_donations total_costs if =  exp =  weights= options= \n",
      "in dummy acrohandler dataset has size (918, 44)\n",
      " split varlist is ['inc_activity', 'inc_grants', 'inc_donations', 'total_costs']\n",
      "                      OLS Regression Results                      \n",
      "Dep. Variable:   ,inc_activity    ,  R-squared:         ,   0.894 \n",
      "Model:           ,OLS             ,  Adj. R-squared:    ,   0.894 \n",
      "Method:          ,Least Squares   ,  F-statistic:       ,   2276. \n",
      "Date:            ,Sun, 18 Jun 2023,  Prob (F-statistic):,  0.00   \n",
      "Time:            ,19:26:02        ,  Log-Likelihood:    , -14493. \n",
      "No. Observations:,   811          ,  AIC:               ,2.899e+04\n",
      "Df Residuals:    ,   807          ,  BIC:               ,2.901e+04\n",
      "Df Model:        ,     3          ,                     ,         \n",
      "Covariance Type: ,nonrobust       ,                     ,         \n",
      "             ,   coef   , std err ,    t    ,P>|t| ,  [0.025 ,  0.975] \n",
      "const        , 3.994e+05, 5.31e+05,    0.752, 0.452,-6.43e+05, 1.44e+06\n",
      "inc_grants   ,   -0.8856,    0.025,  -36.128, 0.000,   -0.934,   -0.837\n",
      "inc_donations,   -0.6659,    0.016,  -40.905, 0.000,   -0.698,   -0.634\n",
      "total_costs  ,    0.8318,    0.011,   78.937, 0.000,    0.811,    0.853\n",
      "Omnibus:      ,1348.637,  Durbin-Watson:     ,   1.424   \n",
      "Prob(Omnibus):, 0.000  ,  Jarque-Bera (JB):  ,1298161.546\n",
      "Skew:         ,10.026  ,  Prob(JB):          ,    0.00   \n",
      "Kurtosis:     ,197.973 ,  Cond. No.          ,1.06e+08   \n",
      "\n",
      "Notes:\n",
      "[1] Standard Errors assume that the covariance matrix of the errors is correctly specified.\n",
      "[2] The condition number is large, 1.06e+08. This might indicate that there are\n",
      "strong multicollinearity or other numerical problems.\n"
     ]
    }
   ],
   "source": [
    "ret=acrohandler(command='regress',varlist=' inc_activity inc_grants inc_donations total_costs',exclusion='',exp='',weights='',options='')\n",
    "print(ret)"
   ]
  },
  {
   "cell_type": "code",
   "execution_count": 52,
   "id": "022b4922-2026-4723-aba5-762a70a08239",
   "metadata": {},
   "outputs": [
    {
     "name": "stderr",
     "output_type": "stream",
     "text": [
      "INFO:acro:probit() outcome: pass; dof=806.0 >= 10\n",
      "INFO:acro:add_output(): output_3_2023-06-18-19290393\n"
     ]
    },
    {
     "name": "stdout",
     "output_type": "stream",
     "text": [
      "in python acrohandler function: command = probit varlist= survivor inc_activity inc_grants inc_donations total_costs if =  exp =  weights= options= \n",
      "in dummy acrohandler dataset has size (918, 44)\n",
      " split varlist is ['survivor', 'inc_activity', 'inc_grants', 'inc_donations', 'total_costs']\n",
      "Optimization terminated successfully.\n",
      "         Current function value: 0.497218\n",
      "         Iterations 10\n",
      "                    Probit Regression Results                    \n",
      "Dep. Variable:  ,survivor        ,  No. Observations:  ,   811   \n",
      "Model:          ,Probit          ,  Df Residuals:      ,   806   \n",
      "Method:         ,MLE             ,  Df Model:          ,     4   \n",
      "Date:           ,Sun, 18 Jun 2023,  Pseudo R-squ.:     ,0.2086   \n",
      "Time:           ,19:29:03        ,  Log-Likelihood:    , -403.24 \n",
      "converged:      ,True            ,  LL-Null:           , -509.50 \n",
      "Covariance Type:,nonrobust       ,  LLR p-value:       ,7.648e-45\n",
      "             ,   coef   , std err ,    z    ,P>|z| ,  [0.025 ,  0.975] \n",
      "const        ,    0.0445,    0.056,    0.791, 0.429,   -0.066,    0.155\n",
      "inc_activity , 4.114e-08, 6.54e-08,    0.629, 0.530,-8.71e-08, 1.69e-07\n",
      "inc_grants   ,-4.297e-08, 6.07e-08,   -0.708, 0.479,-1.62e-07,  7.6e-08\n",
      "inc_donations, 1.357e-07, 6.27e-08,    2.163, 0.031, 1.28e-08, 2.59e-07\n",
      "total_costs  , 3.473e-08, 5.84e-08,    0.595, 0.552,-7.96e-08, 1.49e-07\n",
      "\n",
      "Possibly complete quasi-separation: A fraction 0.18 of observations can be\n",
      "perfectly predicted. This might indicate that there is complete\n",
      "quasi-separation. In this case some parameters will not be identified.\n"
     ]
    }
   ],
   "source": [
    "ret=acrohandler(command='probit',varlist=' survivor inc_activity inc_grants inc_donations total_costs',exclusion='',exp='',weights='',options='')\n",
    "print(ret)"
   ]
  },
  {
   "cell_type": "code",
   "execution_count": 53,
   "id": "088eb32a-fbec-4ab4-9955-93b20a659bfa",
   "metadata": {},
   "outputs": [
    {
     "name": "stdout",
     "output_type": "stream",
     "text": [
      "in python acrohandler function: command = print_outputs varlist= inc_activity inc_grants inc_donations total_costs if =  exp =  weights= options= \n",
      "in dummy acrohandler dataset has size (918, 44)\n",
      " split varlist is ['inc_activity', 'inc_grants', 'inc_donations', 'total_costs']\n",
      "output_0_2023-06-18-19254748:\n",
      "command: safe_output=myacro.crosstab(df[rowvar],df[colvar])\n",
      "summary: fail; threshold: 2 cells suppressed; \n",
      "outcome: grant_type      G            N   R          R/G\n",
      "survivor                                       \n",
      "Dead in 2015   ok  threshold;   ok  threshold; \n",
      "Alive in 2015  ok           ok  ok           ok\n",
      "output: [grant_type      G      N    R   R/G\n",
      "survivor                           \n",
      "Dead in 2015   18    NaN  282   NaN\n",
      "Alive in 2015  72  354.0  144  48.0]\n",
      "timestamp: 2023-06-18-19254748\n",
      "comments: \n",
      "\n",
      "\n",
      "output_1_2023-06-18-19260266:\n",
      "command: results = myacro.ols(y,x)\n",
      "summary: pass; dof=807.0 >= 10\n",
      "outcome: Empty DataFrame\n",
      "Columns: []\n",
      "Index: []\n",
      "output: [                       inc_activity           R-squared:      0.894\n",
      "Dep. Variable:                                                     \n",
      "Model:                          OLS      Adj. R-squared:      0.894\n",
      "Method:               Least Squares         F-statistic:   2276.000\n",
      "Date:              Sun, 18 Jun 2023  Prob (F-statistic):      0.000\n",
      "Time:                      19:26:02      Log-Likelihood: -14493.000\n",
      "No. Observations:               811                 AIC:  28990.000\n",
      "Df Residuals:                   807                 BIC:  29010.000\n",
      "Df Model:                         3                  NaN        NaN\n",
      "Covariance Type:          nonrobust                  NaN        NaN,                       coef     std err       t  P>|t|      [0.025       0.975]\n",
      "const          399400.0000  531000.000   0.752  0.452 -643000.000  1440000.000\n",
      "inc_grants         -0.8856       0.025 -36.128  0.000      -0.934       -0.837\n",
      "inc_donations      -0.6659       0.016 -40.905  0.000      -0.698       -0.634\n",
      "total_costs         0.8318       0.011  78.937  0.000       0.811        0.853,                 1348.637     Durbin-Watson:         1.424\n",
      "Omnibus:                                                 \n",
      "Prob(Omnibus):     0.000  Jarque-Bera (JB):  1.298162e+06\n",
      "Skew:             10.026          Prob(JB):  0.000000e+00\n",
      "Kurtosis:        197.973          Cond. No.  1.060000e+08]\n",
      "timestamp: 2023-06-18-19260266\n",
      "comments: \n",
      "\n",
      "\n",
      "output_2_2023-06-18-19263269:\n",
      "command: results = myacro.ols(y,x)\n",
      "summary: pass; dof=807.0 >= 10\n",
      "outcome: Empty DataFrame\n",
      "Columns: []\n",
      "Index: []\n",
      "output: [                       inc_activity           R-squared:      0.894\n",
      "Dep. Variable:                                                     \n",
      "Model:                          OLS      Adj. R-squared:      0.894\n",
      "Method:               Least Squares         F-statistic:   2276.000\n",
      "Date:              Sun, 18 Jun 2023  Prob (F-statistic):      0.000\n",
      "Time:                      19:26:32      Log-Likelihood: -14493.000\n",
      "No. Observations:               811                 AIC:  28990.000\n",
      "Df Residuals:                   807                 BIC:  29010.000\n",
      "Df Model:                         3                  NaN        NaN\n",
      "Covariance Type:          nonrobust                  NaN        NaN,                       coef     std err       t  P>|t|      [0.025       0.975]\n",
      "const          399400.0000  531000.000   0.752  0.452 -643000.000  1440000.000\n",
      "inc_grants         -0.8856       0.025 -36.128  0.000      -0.934       -0.837\n",
      "inc_donations      -0.6659       0.016 -40.905  0.000      -0.698       -0.634\n",
      "total_costs         0.8318       0.011  78.937  0.000       0.811        0.853,                 1348.637     Durbin-Watson:         1.424\n",
      "Omnibus:                                                 \n",
      "Prob(Omnibus):     0.000  Jarque-Bera (JB):  1.298162e+06\n",
      "Skew:             10.026          Prob(JB):  0.000000e+00\n",
      "Kurtosis:        197.973          Cond. No.  1.060000e+08]\n",
      "timestamp: 2023-06-18-19263269\n",
      "comments: \n",
      "\n",
      "\n",
      "output_3_2023-06-18-19290393:\n",
      "command: results = myacro.probit(y,x)\n",
      "summary: pass; dof=806.0 >= 10\n",
      "outcome: Empty DataFrame\n",
      "Columns: []\n",
      "Index: []\n",
      "output: [                          survivor No. Observations:           811\n",
      "Dep. Variable:                                                    \n",
      "Model:                      Probit     Df Residuals:  8.060000e+02\n",
      "Method:                        MLE         Df Model:  4.000000e+00\n",
      "Date:             Sun, 18 Jun 2023    Pseudo R-squ.:  2.086000e-01\n",
      "Time:                     19:29:03   Log-Likelihood: -4.032400e+02\n",
      "converged:                    True          LL-Null: -5.095000e+02\n",
      "Covariance Type:         nonrobust      LLR p-value:  7.648000e-45,                        coef       std err      z  P>|z|        [0.025  \\\n",
      "const          4.450000e-02  5.600000e-02  0.791  0.429 -6.600000e-02   \n",
      "inc_activity   4.114000e-08  6.540000e-08  0.629  0.530 -8.710000e-08   \n",
      "inc_grants    -4.297000e-08  6.070000e-08 -0.708  0.479 -1.620000e-07   \n",
      "inc_donations  1.357000e-07  6.270000e-08  2.163  0.031  1.280000e-08   \n",
      "total_costs    3.473000e-08  5.840000e-08  0.595  0.552 -7.960000e-08   \n",
      "\n",
      "                     0.975]  \n",
      "const          1.550000e-01  \n",
      "inc_activity   1.690000e-07  \n",
      "inc_grants     7.600000e-08  \n",
      "inc_donations  2.590000e-07  \n",
      "total_costs    1.490000e-07  ]\n",
      "timestamp: 2023-06-18-19290393\n",
      "comments: \n",
      "\n",
      "\n",
      "\n"
     ]
    }
   ],
   "source": [
    "ret=acrohandler(command='print_outputs',varlist=' inc_activity inc_grants inc_donations total_costs',exclusion='',exp='',weights='',options='')\n",
    "print(ret)"
   ]
  },
  {
   "cell_type": "code",
   "execution_count": 54,
   "id": "3a9a34e6-3b72-467d-b265-e1c6677ea537",
   "metadata": {},
   "outputs": [
    {
     "name": "stderr",
     "output_type": "stream",
     "text": [
      "INFO:acro:Directory outputs/ already exists\n",
      "INFO:acro:output written to: stata_out.json\n"
     ]
    },
    {
     "name": "stdout",
     "output_type": "stream",
     "text": [
      "in python acrohandler function: command = finalise varlist= inc_activity inc_grants inc_donations total_costs if =  exp =  weights= options= \n",
      "in dummy acrohandler dataset has size (918, 44)\n",
      " split varlist is ['inc_activity', 'inc_grants', 'inc_donations', 'total_costs']\n",
      "outputs and stata_out.json written\n",
      "\n"
     ]
    }
   ],
   "source": [
    "ret=acrohandler(command='finalise',varlist=' inc_activity inc_grants inc_donations total_costs',exclusion='',exp='',weights='',options='')\n",
    "print(ret)"
   ]
  },
  {
   "cell_type": "code",
   "execution_count": null,
   "id": "70556efd-5bd8-460d-8152-6101bbc66bfb",
   "metadata": {},
   "outputs": [],
   "source": []
  },
  {
   "cell_type": "code",
   "execution_count": null,
   "id": "24669ef5-b2cd-4300-8c06-45c464455e91",
   "metadata": {},
   "outputs": [],
   "source": []
  }
 ],
 "metadata": {
  "kernelspec": {
   "display_name": "sprint1",
   "language": "python",
   "name": "sprint1"
  },
  "language_info": {
   "codemirror_mode": {
    "name": "ipython",
    "version": 3
   },
   "file_extension": ".py",
   "mimetype": "text/x-python",
   "name": "python",
   "nbconvert_exporter": "python",
   "pygments_lexer": "ipython3",
   "version": "3.10.11"
  }
 },
 "nbformat": 4,
 "nbformat_minor": 5
}
